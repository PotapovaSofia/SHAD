{
 "cells": [
  {
   "cell_type": "markdown",
   "metadata": {},
   "source": [
    "This requires you to write a 2D GAN game. I let you to get into the topic yourself, whitout any explonations from my side. You can watch lecture, seminar, read papers and tutorials (fun, fun, fun)."
   ]
  },
  {
   "cell_type": "markdown",
   "metadata": {},
   "source": [
    "### Homework"
   ]
  },
  {
   "cell_type": "markdown",
   "metadata": {
    "collapsed": true
   },
   "source": [
    "I want you to implement a simple 2D GAN game. The kind of animation, I want to see is like in [this video](https://www.youtube.com/watch?v=KeJINHjyzOU) at 15:30 or in [here](https://habrahabr.ru/post/275429/) but in 2D. You can google, search code at github, whatever, but the network should be based on Theano. \n",
    "\n",
    "Basically you will need to come up with true distribution $P$, say mixture of gaussians (surprise me), sample some data from it. Visualize it as a heatmap. To visualize $G$ density you can fix $N$ noise vectors $\\{z_i\\} \\quad i=1,\\dots, N$ and draw a circle for each $G(z_i)$. It is also funny to visualize discriminator as a vector field (can be done with `plt.arrow`, `plt.quiver plo). Look how it should be in the middle of [this page](http://www.inference.vc/an-alternative-update-rule-for-generative-adversarial-networks/).\n",
    "\n",
    "Please, make sure your code works if 'Run All' is pressed and it draws some animation.\n",
    "\n",
    "Good luck!"
   ]
  },
  {
   "cell_type": "code",
   "execution_count": 1,
   "metadata": {},
   "outputs": [
    {
     "name": "stdout",
     "output_type": "stream",
     "text": [
      "Populating the interactive namespace from numpy and matplotlib\n"
     ]
    },
    {
     "name": "stderr",
     "output_type": "stream",
     "text": [
      "/home/ubuntu/env/lib/python3.5/site-packages/IPython/core/magics/pylab.py:161: UserWarning: pylab import has clobbered these variables: ['fmod', 'log10', 'isclose', 'cos', 'modf', 'cosh', 'sinh', 'fabs', 'log', 'degrees', 'log2', 'inf', 'pi', 'gamma', 'e', 'floor', 'sin', 'exp', 'hypot', 'isinf', 'sqrt', 'copysign', 'tanh', 'nan', 'isfinite', 'trunc', 'radians', 'expm1', 'tan', 'isnan', 'frexp', 'ceil', 'ldexp', 'log1p']\n",
      "`%matplotlib` prevents importing * from pylab and numpy\n",
      "  \"\\n`%matplotlib` prevents importing * from pylab and numpy\"\n",
      "WARNING (theano.sandbox.cuda): The cuda backend is deprecated and will be removed in the next release (v0.10).  Please switch to the gpuarray backend. You can get more information about how to switch at this URL:\n",
      " https://github.com/Theano/Theano/wiki/Converting-to-the-new-gpu-back-end%28gpuarray%29\n",
      "\n",
      "Using gpu device 0: Tesla K80 (CNMeM is disabled, cuDNN 5110)\n"
     ]
    }
   ],
   "source": [
    "import numpy as np\n",
    "import matplotlib.pyplot as plt\n",
    "from math import *\n",
    "%pylab inline\n",
    "\n",
    "import theano\n",
    "import theano.tensor as T\n",
    "\n",
    "from lasagne.utils import floatX\n",
    "\n",
    "import matplotlib\n",
    "import matplotlib.pyplot as plt\n",
    "\n",
    "import lasagne\n",
    "from lasagne.layers import batch_norm\n",
    "import sys\n",
    "import os\n",
    "\n",
    "from PIL import Image\n",
    "import scipy\n",
    "\n",
    "from scipy.stats import norm\n",
    "import seaborn as sns\n",
    "    \n",
    "np.random.seed(30)\n",
    "\n",
    "def leakyReLU(x):\n",
    "    return T.maximum(x,0.2*x)\n",
    "\n",
    "def invertNL(x):\n",
    "    return -x"
   ]
  },
  {
   "cell_type": "code",
   "execution_count": 8,
   "metadata": {},
   "outputs": [
    {
     "data": {
      "image/png": "[encoded data removed]",
      "text/plain": [
       "<matplotlib.figure.Figure at 0x7f06e2c009e8>"
      ]
     },
     "metadata": {},
     "output_type": "display_data"
    }
   ],
   "source": [
    "def sample():\n",
    "    z1 = np.random.randn()\n",
    "    z2 = np.random.randn()\n",
    "    z3 = np.random.randn()\n",
    "    z4 = np.random.randn()\n",
    "    \n",
    "    return np.array([(z1+z2)*cos(z2*(1-z2))+0.05*z3, (z1+2)*sin((z2-0.5)*(z2+0.5))+0.05*z4])\n",
    "\n",
    "dist = np.zeros( (100000, 2))\n",
    "for i in range(dist.shape[0]):\n",
    "    dist[i] = sample()\n",
    "\n",
    "plt.hist2d(dist[:,0],dist[:,1],200)\n",
    "plt.show()"
   ]
  },
  {
   "cell_type": "code",
   "execution_count": 5,
   "metadata": {
    "collapsed": true
   },
   "outputs": [],
   "source": [
    "invar1 = T.matrix()\n",
    "invar2 = T.matrix()\n",
    "target = T.ivector()\n",
    "\n",
    "# Number of variables in the latent space\n",
    "CONTROLDIM = 8\n",
    "\n",
    "def build_model():\n",
    "    net = {}\n",
    "\n",
    "    net[\"gen_input\"] = lasagne.layers.InputLayer(shape=(None,CONTROLDIM), input_var = invar1 )\n",
    "    net[\"gen_layer1\"] = lasagne.layers.DenseLayer(net[\"gen_input\"], 16, nonlinearity=leakyReLU)\n",
    "    net[\"gen_layer2\"] = lasagne.layers.DenseLayer(net[\"gen_layer1\"], 16, nonlinearity=leakyReLU)\n",
    "    net[\"gen_layer3\"] = lasagne.layers.DenseLayer(net[\"gen_layer2\"], 16, nonlinearity=leakyReLU)\n",
    "    net[\"gen_layer4\"] = lasagne.layers.DenseLayer(net[\"gen_layer3\"], 16, nonlinearity=leakyReLU)\n",
    "    net[\"gen_layer5\"] = lasagne.layers.DenseLayer(net[\"gen_layer4\"], 16, nonlinearity=leakyReLU)\n",
    "    net[\"gen_dcg_out\"] = lasagne.layers.DenseLayer(net[\"gen_layer5\"], 2, nonlinearity = None)\n",
    "    \n",
    "    net[\"inline_disc_1\"] = lasagne.layers.DenseLayer(net[\"gen_dcg_out\"], 64, nonlinearity=leakyReLU)\n",
    "    net[\"inline_disc_2\"] = lasagne.layers.DenseLayer(net[\"inline_disc_1\"], 64, nonlinearity=leakyReLU)\n",
    "    net[\"inline_disc_3\"] = lasagne.layers.DenseLayer(net[\"inline_disc_2\"], 64, nonlinearity=leakyReLU)\n",
    "    net[\"inline_disc_4\"] = lasagne.layers.DenseLayer(net[\"inline_disc_3\"], 64, nonlinearity=leakyReLU)\n",
    "    net[\"inline_disc_output\"] = lasagne.layers.DenseLayer(net[\"inline_disc_4\"], 2, nonlinearity=lasagne.nonlinearities.softmax)\n",
    "    \n",
    "    net[\"disc_input\"] = lasagne.layers.InputLayer(shape=(None,2), input_var = invar2 )\n",
    "    net[\"disc_1\"] = lasagne.layers.DenseLayer(net[\"disc_input\"], 64, nonlinearity=leakyReLU, W = net[\"inline_disc_1\"].W, b = net[\"inline_disc_1\"].b)\n",
    "    net[\"disc_2\"] = lasagne.layers.DenseLayer(net[\"disc_1\"], 64, nonlinearity=leakyReLU, W = net[\"inline_disc_2\"].W, b = net[\"inline_disc_2\"].b)\n",
    "    net[\"disc_3\"] = lasagne.layers.DenseLayer(net[\"disc_2\"], 64, nonlinearity=leakyReLU, W = net[\"inline_disc_3\"].W, b = net[\"inline_disc_3\"].b)\n",
    "    net[\"disc_4\"] = lasagne.layers.DenseLayer(net[\"disc_3\"], 64, nonlinearity=leakyReLU, W = net[\"inline_disc_4\"].W, b = net[\"inline_disc_4\"].b)\n",
    "    net[\"disc_output\"] = lasagne.layers.DenseLayer(net[\"disc_4\"], 2, nonlinearity=lasagne.nonlinearities.softmax, W = net[\"inline_disc_output\"].W, b = net[\"inline_disc_output\"].b)\n",
    "\n",
    "    net[\"inl_gen\"], net[\"inl_disc\"] = lasagne.layers.get_output( (net[\"gen_dcg_out\"], net[\"inline_disc_output\"]) )\n",
    "    net[\"ofl_disc\"] = lasagne.layers.get_output( (net[\"disc_output\"]) )\n",
    "\n",
    "    net[\"gan_params\"] = lasagne.layers.get_all_params( net[\"gen_dcg_out\"], trainable = True)\n",
    "    net[\"disc_params\"] = lasagne.layers.get_all_params( net[\"disc_output\"], trainable = True)\n",
    "\n",
    "    net[\"gen_loss\"] = T.mean(-T.log(net[\"inl_disc\"][:,1]+1e-16))\n",
    "    net[\"disc_loss\"] = lasagne.objectives.categorical_crossentropy(net[\"ofl_disc\"],target).mean()\n",
    "\n",
    "    net[\"updates_gen\"] = lasagne.updates.adam(net[\"gen_loss\"], net[\"gan_params\"], learning_rate = 5e-4, beta1=0.5)\n",
    "    net[\"updates_disc\"] = lasagne.updates.adam(net[\"disc_loss\"], net[\"disc_params\"], learning_rate = 1e-3, beta1 = 0.5)\n",
    "\n",
    "    net[\"train_gen\"] = theano.function([invar1], net[\"gen_loss\"], updates=net[\"updates_gen\"], allow_input_downcast = True)\n",
    "    net[\"train_disc\"] = theano.function([invar2,target], net[\"disc_loss\"], updates=net[\"updates_disc\"], allow_input_downcast = True)\n",
    "\n",
    "    net[\"process\"] = theano.function([invar2,target], net[\"disc_loss\"], allow_input_downcast = True)\n",
    "    net[\"gen_images\"] = theano.function([invar1], net[\"inl_gen\"], allow_input_downcast = True)\n",
    "    \n",
    "    return net\n",
    "\n",
    "net = build_model()"
   ]
  },
  {
   "cell_type": "code",
   "execution_count": 6,
   "metadata": {
    "collapsed": true
   },
   "outputs": [],
   "source": [
    "NEXAMPLES = 1500\n",
    "HALFBATCH = 1500\n",
    "DIM = 2\n",
    "\n",
    "seeds = np.random.rand( NEXAMPLES, CONTROLDIM )*2-1\n",
    "\n",
    "def generateData(rinp):\n",
    "    data = net[\"gen_images\"](rinp)\n",
    "    \n",
    "    return data\n",
    "\n",
    "def plot_fig(generate, discriminate):\n",
    "    # plots pg, pdata, decision boundary\n",
    "    xs = np.linspace(-5, 5, 1000)\n",
    "    plt.plot(xs, norm.pdf(xs, loc=mu, scale=sigma), label='p_data')\n",
    "    # decision boundary\n",
    "    r = 5000  # resolution (number of points)\n",
    "    xs = np.float32(np.linspace(-5, 5, r))\n",
    "    # process multiple points in parallel in same minibatch\n",
    "    ds = discriminate(xs.reshape(r, 1))\n",
    "    plt.plot(xs, ds, label='decision boundary')\n",
    "\n",
    "    # distribution of inverse-mapped points\n",
    "    zs = sample_noise(r)\n",
    "    gs = generate(zs.reshape(r, 1))\n",
    "    plt.hist(gs, bins=10, normed=True)\n",
    "\n",
    "def trainEpoch(eidx):\n",
    "    for d_iter in range(10):\n",
    "        seeds = np.random.rand( NEXAMPLES, CONTROLDIM )*2-1\n",
    "        samples = np.zeros( (NEXAMPLES, DIM ))\n",
    "        \n",
    "        # Generate fresh examples\n",
    "        for i in range(NEXAMPLES):\n",
    "            samples[i] = sample()\n",
    "                \n",
    "        data = generateData(seeds)\n",
    "\n",
    "        labels = np.zeros( 2*HALFBATCH )\n",
    "        labels[0:HALFBATCH] = 1\n",
    "        d_error = net[\"train_disc\"]( samples, labels[0:HALFBATCH] )/2.0\n",
    "        d_error += net[\"train_disc\"]( data , labels[HALFBATCH:] )/2.0\n",
    "#         plt.clf()\n",
    "#         plot_fig(net[\"train_gen\"], net[\"train_disc\"])\n",
    "#         plt.draw()\n",
    "        \n",
    "    \n",
    "    seeds = np.random.rand( NEXAMPLES, CONTROLDIM )*2-1\n",
    "    gen_error = net[\"train_gen\"]( seeds )\n",
    "    \n",
    "    return gen_error, d_error\n",
    "\n",
    "def visualize(eidx, show=False):\n",
    "    seeds = np.random.rand( 100000, CONTROLDIM )*2-1\n",
    "    data = generateData(seeds)\n",
    "    plt.hist2d(data[:,0],data[:,1],150,range=[ [-3,3], [-3,4]])\n",
    "    plt.xlim(-3,3)\n",
    "    plt.ylim(-3,4)\n",
    "    if show:\n",
    "        plt.show()\n",
    "    else:\n",
    "        plt.savefig(\"frames1/%.6d.png\" % eidx) # Generate animation frames"
   ]
  },
  {
   "cell_type": "code",
   "execution_count": null,
   "metadata": {
    "collapsed": true
   },
   "outputs": [],
   "source": [
    "gerr = []\n",
    "derr = []\n",
    "\n",
    "for i in range(1000):\n",
    "    ge,de = trainEpoch(i)\n",
    "    gerr.append(ge)\n",
    "    derr.append(de)\n",
    "    \n",
    "    if i%10 == 0:\n",
    "        visualize(i)\n",
    "\n",
    "plt.plot(gerr,\"b-\")\n",
    "plt.plot(derr,\"r-\")\n",
    "plt.show()\n",
    "plt.clf()\n",
    "\n",
    "plt.hist2d(dist[:,0],dist[:,1],150,range=[ [-3,3], [-3,4]])\n",
    "plt.show()\n",
    "plt.clf()\n",
    "\n",
    "visualize(1000,show=True)"
   ]
  },
  {
   "cell_type": "code",
   "execution_count": null,
   "metadata": {
    "collapsed": true
   },
   "outputs": [],
   "source": []
  }
 ],
 "metadata": {
  "kernelspec": {
   "display_name": "Python 2",
   "language": "python",
   "name": "python2"
  },
  "language_info": {
   "codemirror_mode": {
    "name": "ipython",
    "version": 2
   },
   "file_extension": ".py",
   "mimetype": "text/x-python",
   "name": "python",
   "nbconvert_exporter": "python",
   "pygments_lexer": "ipython2",
   "version": "2.7.12"
  }
 },
 "nbformat": 4,
 "nbformat_minor": 1
}
