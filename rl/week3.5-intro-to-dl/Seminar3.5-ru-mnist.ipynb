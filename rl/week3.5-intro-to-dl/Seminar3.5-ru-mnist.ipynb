{
 "cells": [
  {
   "cell_type": "markdown",
   "metadata": {
    "collapsed": true
   },
   "source": [
    "# Theano, Lasagne\n",
    "и с чем их едят"
   ]
  },
  {
   "cell_type": "markdown",
   "metadata": {},
   "source": [
    "# разминка\n",
    "* напиши на numpy функцию, которая считает сумму квадратов чисел от 0 до N, где N - аргумент\n",
    "* массив чисел от 0 до N - numpy.arange(N)"
   ]
  },
  {
   "cell_type": "code",
   "execution_count": 3,
   "metadata": {
    "collapsed": true
   },
   "outputs": [],
   "source": [
    "from sklearn.cross_validation import train_test_split\n",
    "from skimage import transform as tf"
   ]
  },
  {
   "cell_type": "code",
   "execution_count": 4,
   "metadata": {
    "collapsed": false
   },
   "outputs": [],
   "source": [
    "import numpy as np\n",
    "def sum_squares(N):\n",
    "    return np.sum(np.arange(N) ** 2)"
   ]
  },
  {
   "cell_type": "code",
   "execution_count": 7,
   "metadata": {
    "collapsed": false
   },
   "outputs": [
    {
     "name": "stdout",
     "output_type": "stream",
     "text": [
      "CPU times: user 465 ms, sys: 456 ms, total: 921 ms\n",
      "Wall time: 1.08 s\n"
     ]
    },
    {
     "data": {
      "text/plain": [
       "662921401752298880"
      ]
     },
     "execution_count": 7,
     "metadata": {},
     "output_type": "execute_result"
    }
   ],
   "source": [
    "%%time\n",
    "sum_squares(10**8)"
   ]
  },
  {
   "cell_type": "markdown",
   "metadata": {},
   "source": [
    "# theano teaser\n",
    "\n",
    "Как сделать то же самое"
   ]
  },
  {
   "cell_type": "code",
   "execution_count": 5,
   "metadata": {
    "collapsed": true
   },
   "outputs": [],
   "source": [
    "import theano\n",
    "import theano.tensor as T"
   ]
  },
  {
   "cell_type": "code",
   "execution_count": 13,
   "metadata": {
    "collapsed": false
   },
   "outputs": [],
   "source": [
    "\n",
    "\n",
    "#будущий параметр функции\n",
    "N = T.scalar(\"a dimension\",dtype='int32')\n",
    "\n",
    "\n",
    "#рецепт получения суммы квадратов\n",
    "result = (T.arange(N)**2).sum()\n",
    "\n",
    "#компиляция функции \"сумма квадратов\" чисел от 0 до N\n",
    "sum_function = theano.function(inputs=[N], outputs=result)"
   ]
  },
  {
   "cell_type": "code",
   "execution_count": 14,
   "metadata": {
    "collapsed": false
   },
   "outputs": [
    {
     "name": "stdout",
     "output_type": "stream",
     "text": [
      "CPU times: user 224 ms, sys: 0 ns, total: 224 ms\n",
      "Wall time: 454 ms\n"
     ]
    },
    {
     "data": {
      "text/plain": [
       "array(20047455266176)"
      ]
     },
     "execution_count": 14,
     "metadata": {},
     "output_type": "execute_result"
    }
   ],
   "source": [
    "%%time\n",
    "sum_function(10**8)"
   ]
  },
  {
   "cell_type": "markdown",
   "metadata": {},
   "source": [
    "# Как оно работает?\n",
    "* Нужно написать \"рецепт\" получения выходов по входам\n",
    "* То же самое на заумном: нужно описать символический граф вычислений\n",
    "\n",
    "\n",
    "* 2 вида зверей - \"входы\" и \"преобразования\"\n",
    "* Оба могут быть числами, массивами, матрицами, тензорами и т.п.\n",
    "\n",
    "\n",
    "* Вход - это то аргумент функции. То место, на которое подставится аргумент вызове.\n",
    " * N - вход в примере выше\n",
    "\n",
    "\n",
    "* Преобразования - рецепты вычисления чего-то на основе входов и констант\n",
    " * (T.arange(N)^2).sum() - 3 последовательных преобразования N\n",
    " * Работают почти 1 в 1 как векторные операции в numpy\n",
    " * почти всё, что есть в numpy есть в theano tensor и называется так же\n",
    "   * np.mean -> T.mean\n",
    "   * np.arange -> T.arange\n",
    "   * np.cumsum -> T.cumsum\n",
    "   * и так далее...\n",
    "   * Совсем редко - бывает, что меняется название или синтаксис - нужно спросить у семинаристов или гугла\n",
    " \n",
    " \n",
    "Ничего не понятно? Сейчас исправим."
   ]
  },
  {
   "cell_type": "code",
   "execution_count": 15,
   "metadata": {
    "collapsed": false
   },
   "outputs": [],
   "source": [
    "#входы\n",
    "example_input_integer = T.scalar(\"вход - одно число(пример)\",dtype='float32')\n",
    "\n",
    "example_input_tensor = T.tensor4(\"вход - четырёхмерный тензор(пример)\")\n",
    "#не бойся, тензор нам не пригодится\n",
    "\n",
    "\n",
    "\n",
    "input_vector = T.vector(\"вход - вектор целых чисел\", dtype='int32')\n"
   ]
  },
  {
   "cell_type": "code",
   "execution_count": 16,
   "metadata": {
    "collapsed": false
   },
   "outputs": [],
   "source": [
    "#преобразования\n",
    "\n",
    "#поэлементное умножение\n",
    "double_the_vector = input_vector*2\n",
    "\n",
    "#поэлементный косинус\n",
    "elementwise_cosine = T.cos(input_vector)\n",
    "\n",
    "#разность квадрата каждого элемента и самого элемента\n",
    "vector_squares = input_vector**2 - input_vector\n"
   ]
  },
  {
   "cell_type": "code",
   "execution_count": 17,
   "metadata": {
    "collapsed": false
   },
   "outputs": [
    {
     "data": {
      "text/plain": [
       "Elemwise{mul,no_inplace}.0"
      ]
     },
     "execution_count": 17,
     "metadata": {},
     "output_type": "execute_result"
    }
   ],
   "source": [
    "double_the_vector"
   ]
  },
  {
   "cell_type": "code",
   "execution_count": 18,
   "metadata": {
    "collapsed": false
   },
   "outputs": [],
   "source": [
    "#теперь сам:\n",
    "#создай 2 вектора из чисел float32\n",
    "my_vector = T.vector(dtype='float32')\n",
    "my_vector2 = T.vector(dtype='float32')"
   ]
  },
  {
   "cell_type": "code",
   "execution_count": 19,
   "metadata": {
    "collapsed": false
   },
   "outputs": [],
   "source": [
    "#напиши преобразование, которое считает\n",
    "#(вектор 1)*(вектор 2) / (sin(вектор 1) +1)\n",
    "my_transformation = my_vector * my_vector2 / (T.sin(my_vector) + 1)"
   ]
  },
  {
   "cell_type": "code",
   "execution_count": 20,
   "metadata": {
    "collapsed": false
   },
   "outputs": [
    {
     "name": "stdout",
     "output_type": "stream",
     "text": [
      "Elemwise{true_div,no_inplace}.0\n"
     ]
    }
   ],
   "source": [
    "print (my_transformation)\n",
    "#то, что получилась не чиселка - это нормально"
   ]
  },
  {
   "cell_type": "markdown",
   "metadata": {},
   "source": [
    "# Компиляция\n",
    "* До этого момента, мы использовали \"символические\" переменные\n",
    " * писали рецепт вычислений, но ничего не вычисляли\n",
    "* чтобы рецепт можно было использовать, его нужно скомпилировать"
   ]
  },
  {
   "cell_type": "code",
   "execution_count": 21,
   "metadata": {
    "collapsed": false
   },
   "outputs": [],
   "source": [
    "inputs = [my_vector, my_vector2]\n",
    "outputs = [my_transformation]\n",
    "\n",
    "# можно скомпилировать написанные нами преобразования как функцию\n",
    "my_function = theano.function(\n",
    "    inputs,outputs,\n",
    "    allow_input_downcast=True #автоматически прводить типы (необязательно)\n",
    " )"
   ]
  },
  {
   "cell_type": "code",
   "execution_count": 22,
   "metadata": {
    "collapsed": false
   },
   "outputs": [
    {
     "name": "stdout",
     "output_type": "stream",
     "text": [
      "using python lists:\n",
      "[array([  2.1721766 ,   5.23752832,  15.77397728], dtype=float32)]\n",
      "()\n",
      "using numpy arrays:\n",
      "[array([   0.        ,    2.77555895,    5.47030783,   14.02131271,\n",
      "         89.5477066 ,  676.25805664,   47.183918  ,   24.4084301 ,\n",
      "         23.68156242,   38.24041748], dtype=float32)]\n"
     ]
    }
   ],
   "source": [
    "#можно вызвать вот-так:\n",
    "print (\"using python lists:\")\n",
    "print (my_function([1,2,3],[4,5,6]))\n",
    "print()\n",
    "\n",
    "#а можно так. \n",
    "#К слову, ту тип float приводится к типу второго вектора\n",
    "print (\"using numpy arrays:\")\n",
    "print (my_function(np.arange(10),\n",
    "                  np.linspace(5,6,10,dtype='float')))\n"
   ]
  },
  {
   "cell_type": "markdown",
   "metadata": {},
   "source": [
    "# хинт для отладки\n",
    "* Если ваша функция большая, компиляция может отнять какое-то время.\n",
    "* Чтобы не ждать, можно посчитать выражение без компиляции\n",
    "* Вы экономите время 1 раз на компиляции, но сам код выполняется медленнее\n"
   ]
  },
  {
   "cell_type": "code",
   "execution_count": 24,
   "metadata": {
    "collapsed": false
   },
   "outputs": [
    {
     "name": "stdout",
     "output_type": "stream",
     "text": [
      "[  2.1721766    5.23752832  15.77397728]\n",
      "сумма 2 векторов [ 5.  7.  9.]\n",
      "форма первого вектора [3]\n"
     ]
    }
   ],
   "source": [
    "#словарик значений для входов\n",
    "my_function_inputs = {\n",
    "    my_vector:[1,2,3],\n",
    "    my_vector2:[4,5,6]\n",
    "}\n",
    "\n",
    "#вычислить без компиляции\n",
    "#если мы ничего не перепутали, \n",
    "#должно получиться точно то же, что и раньше\n",
    "print my_transformation.eval(my_function_inputs)\n",
    "\n",
    "\n",
    "#можно вычислять преобразования на ходу\n",
    "print \"сумма 2 векторов\", (my_vector + my_vector2).eval(my_function_inputs)\n",
    "\n",
    "#!ВАЖНО! если преобразование зависит только от части переменных,\n",
    "#остальные давать не надо\n",
    "print \"форма первого вектора\", my_vector.shape.eval({\n",
    "        my_vector:[1,2,3]\n",
    "    })\n"
   ]
  },
  {
   "cell_type": "markdown",
   "metadata": {},
   "source": [
    "* Для отладки желательно уменьшить масштаб задачи. Если вы планировали послать на вход вектор из 10^9 примеров, пошлите 10~100.\n",
    "* Если #ОЧЕНЬ нужно послать большой вектор, быстрее скомпилировать функцию обычным способом"
   ]
  },
  {
   "cell_type": "markdown",
   "metadata": {},
   "source": [
    "# Теперь сам: MSE (2 pts)"
   ]
  },
  {
   "cell_type": "code",
   "execution_count": 30,
   "metadata": {
    "collapsed": false
   },
   "outputs": [],
   "source": [
    "# Задание 1 - напиши и скомпилируй theano-функцию, которая считает среднеквадратичную ошибку двух векторов-входов\n",
    "# Вернуть нужно одно число - собственно, ошибку. Обновлять ничего не нужно\n",
    "my_vector = T.vector(dtype='float32')\n",
    "my_vector2 = T.vector(dtype='float32')\n",
    "mse_transformation = ((my_vector - my_vector2) ** 2).sum() * 1. / my_vector.shape[0]\n",
    "\n",
    "compute_mse = theano.function([my_vector, my_vector2], mse_transformation, allow_input_downcast=True)"
   ]
  },
  {
   "cell_type": "code",
   "execution_count": 31,
   "metadata": {
    "collapsed": false
   },
   "outputs": [
    {
     "name": "stdout",
     "output_type": "stream",
     "text": [
      "All tests passed\n"
     ]
    }
   ],
   "source": [
    "#тесты\n",
    "from sklearn.metrics import mean_squared_error\n",
    "\n",
    "for n in [1,5,10,10**3]:\n",
    "    \n",
    "    elems = [np.arange(n),np.arange(n,0,-1), np.zeros(n),\n",
    "             np.ones(n),np.random.random(n),np.random.randint(100,size=n)]\n",
    "    \n",
    "    for el in elems:\n",
    "        for el_2 in elems:\n",
    "            true_mse = np.array(mean_squared_error(el,el_2))\n",
    "            my_mse = compute_mse(el,el_2)\n",
    "            if not np.allclose(true_mse,my_mse):\n",
    "                print ('Wrong result:')\n",
    "                print ('mse(%s,%s)'%(el,el_2))\n",
    "                print (\"should be: %f, but your function returned %f\"%(true_mse,my_mse))\n",
    "                raise ValueError(\"Что-то не так\")\n",
    "\n",
    "print (\"All tests passed\")\n",
    "            \n",
    "    "
   ]
  },
  {
   "cell_type": "markdown",
   "metadata": {},
   "source": [
    "# Shared variables\n",
    "\n",
    "* Входы и преобразования - части рецепта. \n",
    " * Они существуют только во время вызова функции.\n",
    "\n",
    "\n",
    "* Shared переменные - всегда остаются в памяти\n",
    " * им можно поменять значение \n",
    "   * (но не внутри символического графа. Об этом позже)\n",
    " * их можно включить в граф вычислений\n",
    " \n",
    " \n",
    "* хинт - в таких переменных удобно хранить параметры и гиперпараметры\n",
    " * например, веса нейронки или learning rate, если вы его меняете"
   ]
  },
  {
   "cell_type": "code",
   "execution_count": 32,
   "metadata": {
    "collapsed": false
   },
   "outputs": [],
   "source": [
    "#cоздадим расшаренную перменную\n",
    "shared_vector_1 = theano.shared(np.ones(10,dtype='float64'))"
   ]
  },
  {
   "cell_type": "code",
   "execution_count": 35,
   "metadata": {
    "collapsed": false
   },
   "outputs": [
    {
     "name": "stdout",
     "output_type": "stream",
     "text": [
      "initial value [ 0.  1.  2.  3.  4.]\n"
     ]
    }
   ],
   "source": [
    "\n",
    "#получить (численное) значение переменной\n",
    "print \"initial value\",shared_vector_1.get_value()"
   ]
  },
  {
   "cell_type": "code",
   "execution_count": 36,
   "metadata": {
    "collapsed": false
   },
   "outputs": [
    {
     "name": "stdout",
     "output_type": "stream",
     "text": [
      "new value [ 0.  1.  2.  3.  4.]\n"
     ]
    }
   ],
   "source": [
    "#задать новое значение\n",
    "shared_vector_1.set_value( np.arange(5) )\n",
    "\n",
    "#проверим значение\n",
    "print \"new value\", shared_vector_1.get_value()\n",
    "\n",
    "#Заметь, что раньше это был вектор из 10 элементов, а сейчас - из 5. \n",
    "#Если граф при этом остался выполним, это сработает."
   ]
  },
  {
   "cell_type": "markdown",
   "metadata": {},
   "source": [
    "# Теперь сам"
   ]
  },
  {
   "cell_type": "code",
   "execution_count": 38,
   "metadata": {
    "collapsed": false
   },
   "outputs": [],
   "source": [
    "#напиши рецепт (преобразование), которое считает произведение(поэллементное) shared_vector на input_scalar\n",
    "#скомпилируй это в функцию от input_scalar\n",
    "\n",
    "input_scalar = T.scalar('coefficient',dtype='float32')\n",
    "\n",
    "scalar_times_shared = shared_vector_1 * input_scalar\n",
    "\n",
    "\n",
    "shared_times_n = theano.function([input_scalar], scalar_times_shared, allow_input_downcast=True)\n"
   ]
  },
  {
   "cell_type": "code",
   "execution_count": 39,
   "metadata": {
    "collapsed": false
   },
   "outputs": [
    {
     "name": "stdout",
     "output_type": "stream",
     "text": [
      "('shared:', array([ 0.,  1.,  2.,  3.,  4.]))\n",
      "('shared_times_n(5)', array([  0.,   5.,  10.,  15.,  20.]))\n",
      "('shared_times_n(-0.5)', array([-0. , -0.5, -1. , -1.5, -2. ]))\n"
     ]
    }
   ],
   "source": [
    "print (\"shared:\", shared_vector_1.get_value())\n",
    "\n",
    "print (\"shared_times_n(5)\",shared_times_n(5))\n",
    "\n",
    "print (\"shared_times_n(-0.5)\",shared_times_n(-0.5))\n"
   ]
  },
  {
   "cell_type": "code",
   "execution_count": 40,
   "metadata": {
    "collapsed": false
   },
   "outputs": [
    {
     "name": "stdout",
     "output_type": "stream",
     "text": [
      "('shared:', array([-1.,  0.,  1.]))\n",
      "('shared_times_n(5)', array([-5.,  0.,  5.]))\n",
      "('shared_times_n(-0.5)', array([ 0.5, -0. , -0.5]))\n"
     ]
    }
   ],
   "source": [
    "#поменяем значение shared_vector_1\n",
    "shared_vector_1.set_value([-1,0,1])\n",
    "print (\"shared:\", shared_vector_1.get_value())\n",
    "\n",
    "print (\"shared_times_n(5)\",shared_times_n(5))\n",
    "\n",
    "print (\"shared_times_n(-0.5)\",shared_times_n(-0.5))\n"
   ]
  },
  {
   "cell_type": "markdown",
   "metadata": {},
   "source": [
    "# T.grad, самое вкусное\n",
    "* theano умеет само считать производные. Все, которые существуют.\n",
    "* Производные считаются в символическом, а не численном виде\n",
    "\n",
    "Ограничения\n",
    "* За раз можно считать производную __скалярной__ функции по одной или нескольким скалярным или векторным аргументам\n",
    "* Функция должна на всех этапах своего вычисления иметь тип float32 или float64 (т.к. на множестве целых чисел производная не имеет смысл)"
   ]
  },
  {
   "cell_type": "code",
   "execution_count": 41,
   "metadata": {
    "collapsed": false
   },
   "outputs": [],
   "source": [
    "my_scalar = T.scalar(name='input',dtype='float64')\n",
    "\n",
    "scalar_squared = T.sum(my_scalar**2)\n",
    "\n",
    "#производная v_squared по my_vector\n",
    "derivative = T.grad(scalar_squared,my_scalar)\n",
    "\n",
    "fun = theano.function([my_scalar],scalar_squared)\n",
    "grad = theano.function([my_scalar],derivative) "
   ]
  },
  {
   "cell_type": "code",
   "execution_count": 13,
   "metadata": {
    "collapsed": true
   },
   "outputs": [],
   "source": [
    "import matplotlib.pyplot as plt\n",
    "%matplotlib inline"
   ]
  },
  {
   "cell_type": "code",
   "execution_count": 42,
   "metadata": {
    "collapsed": false
   },
   "outputs": [
    {
     "data": {
      "text/plain": [
       "<matplotlib.legend.Legend at 0x7f96db0b8f50>"
      ]
     },
     "execution_count": 42,
     "metadata": {},
     "output_type": "execute_result"
    },
    {
     "data": {
      "image/png": "[encoded data removed]",
      "text/plain": [
       "<matplotlib.figure.Figure at 0x7f96de170490>"
      ]
     },
     "metadata": {},
     "output_type": "display_data"
    }
   ],
   "source": [
    "x = np.linspace(-3,3)\n",
    "x_squared = list(map(fun,x))\n",
    "x_squared_der = list(map(grad,x))\n",
    "\n",
    "plt.plot(x, x_squared,label=\"x^2\")\n",
    "plt.plot(x, x_squared_der, label=\"derivative\")\n",
    "plt.legend()"
   ]
  },
  {
   "cell_type": "markdown",
   "metadata": {},
   "source": [
    "# теперь сам"
   ]
  },
  {
   "cell_type": "code",
   "execution_count": 43,
   "metadata": {
    "collapsed": false
   },
   "outputs": [],
   "source": [
    "\n",
    "my_vector = T.vector('float64')\n",
    "\n",
    "#посчитай производные этой функции по my_scalar и my_vector\n",
    "#warning! Не пытайся понять физический смысл этой функции\n",
    "weird_psychotic_function = ((my_vector+my_scalar)**(1+T.var(my_vector)) +1./T.arcsinh(my_scalar)).mean()/(my_scalar**2 +1) + 0.01*T.sin(2*my_scalar**1.5)*(T.sum(my_vector)* my_scalar**2)*T.exp((my_scalar-4)**2)/(1+T.exp((my_scalar-4)**2))*(1.-(T.exp(-(my_scalar-4)**2))/(1+T.exp(-(my_scalar-4)**2)))**2\n",
    "\n",
    "\n",
    "der_by_scalar,der_by_vector = [T.grad(weird_psychotic_function,my_scalar), T.grad(weird_psychotic_function, my_vector)]\n",
    "\n",
    "\n",
    "compute_weird_function = theano.function([my_scalar,my_vector],weird_psychotic_function)\n",
    "compute_der_by_scalar = theano.function([my_scalar,my_vector],der_by_scalar)\n"
   ]
  },
  {
   "cell_type": "code",
   "execution_count": 44,
   "metadata": {
    "collapsed": false
   },
   "outputs": [
    {
     "data": {
      "text/plain": [
       "<matplotlib.legend.Legend at 0x7f96de1b7e90>"
      ]
     },
     "execution_count": 44,
     "metadata": {},
     "output_type": "execute_result"
    },
    {
     "data": {
      "image/png": "[encoded data removed]",
      "text/plain": [
       "<matplotlib.figure.Figure at 0x7f96de1b7fd0>"
      ]
     },
     "metadata": {},
     "output_type": "display_data"
    }
   ],
   "source": [
    "#график функции и твоей производной\n",
    "vector_0 = [1,2,3]\n",
    "\n",
    "scalar_space = np.linspace(0,7)\n",
    "\n",
    "y = [compute_weird_function(x,vector_0) for x in scalar_space]\n",
    "plt.plot(scalar_space,y,label='function')\n",
    "y_der_by_scalar = [compute_der_by_scalar(x,vector_0) for x in scalar_space]\n",
    "plt.plot(scalar_space,y_der_by_scalar,label='derivative')\n",
    "plt.grid();plt.legend()\n"
   ]
  },
  {
   "cell_type": "markdown",
   "metadata": {},
   "source": [
    "# Последний штрих - Updates\n",
    "\n",
    "* updates - это способ изменять значения shared переменных каждый раз В КОНЦЕ вызова функции\n",
    "\n",
    "* фактически, это словарь {shared_переменная: рецепт нового значения}, который добавляется в функцию при компиляции\n",
    "\n",
    "Например,"
   ]
  },
  {
   "cell_type": "code",
   "execution_count": 45,
   "metadata": {
    "collapsed": false
   },
   "outputs": [],
   "source": [
    "#умножим shared вектор на число и сохраним новое значение обратно в этот shared вектор\n",
    "\n",
    "inputs = [input_scalar]\n",
    "outputs = [scalar_times_shared] #вернём вектор, умноженный на число\n",
    "\n",
    "my_updates = {\n",
    "    shared_vector_1:scalar_times_shared #и этот же результат запишем в shared_vector_1\n",
    "}\n",
    "\n",
    "compute_and_save = theano.function(inputs, outputs, updates=my_updates)"
   ]
  },
  {
   "cell_type": "code",
   "execution_count": 46,
   "metadata": {
    "collapsed": false
   },
   "outputs": [
    {
     "name": "stdout",
     "output_type": "stream",
     "text": [
      "('initial shared value:', array([ 0.,  1.,  2.,  3.,  4.]))\n",
      "('compute_and_save(2) returns', [array([ 0.,  2.,  4.,  6.,  8.])])\n",
      "('new shared value:', array([ 0.,  2.,  4.,  6.,  8.]))\n"
     ]
    }
   ],
   "source": [
    "shared_vector_1.set_value(np.arange(5))\n",
    "\n",
    "#изначальное значение shared_vector_1\n",
    "print (\"initial shared value:\" ,shared_vector_1.get_value())\n",
    "\n",
    "# теперь вычислим функцию (значение shared_vector_1 при этом поменяется)\n",
    "print (\"compute_and_save(2) returns\",compute_and_save(2))\n",
    "\n",
    "#проверим, что в shared_vector_1\n",
    "print (\"new shared value:\" ,shared_vector_1.get_value())\n",
    "\n"
   ]
  },
  {
   "cell_type": "markdown",
   "metadata": {},
   "source": [
    "# Логистическая регрессия\n",
    "Что нам потребуется:\n",
    "* Веса лучше хранить в shared-переменной\n",
    "* Данные можно передавать как input\n",
    "* Нужно 2 функции:\n",
    " * train_function(X,y) - возвращает ошибку и изменяет веса на 1 шаг по граиденту __(через updates)__\n",
    " * predict_fun(X) - возвращает предсказанные ответы (\"y\") по данным"
   ]
  },
  {
   "cell_type": "code",
   "execution_count": 88,
   "metadata": {
    "collapsed": true
   },
   "outputs": [],
   "source": [
    "from skimage import io"
   ]
  },
  {
   "cell_type": "code",
   "execution_count": 90,
   "metadata": {
    "collapsed": false
   },
   "outputs": [
    {
     "name": "stderr",
     "output_type": "stream",
     "text": [
      "/root/miniconda/envs/rep_py2/lib/python2.7/site-packages/skimage/io/_plugins/matplotlib_plugin.py:77: UserWarning: Float image out of standard range; displaying image with stretched contrast.\n",
      "  warn(\"Float image out of standard range; displaying \"\n"
     ]
    },
    {
     "data": {
      "text/plain": [
       "<matplotlib.image.AxesImage at 0x7f689380acd0>"
      ]
     },
     "execution_count": 90,
     "metadata": {},
     "output_type": "execute_result"
    },
    {
     "data": {
      "image/png": "[encoded data removed]",
      "text/plain": [
       "<matplotlib.figure.Figure at 0x7f68935f3c90>"
      ]
     },
     "metadata": {},
     "output_type": "display_data"
    }
   ],
   "source": [
    "io.imshow(X[0].reshape((8, 8)))"
   ]
  },
  {
   "cell_type": "code",
   "execution_count": 81,
   "metadata": {
    "collapsed": false
   },
   "outputs": [
    {
     "name": "stdout",
     "output_type": "stream",
     "text": [
      "y [форма - (360,)]: [0 1 0 1 0 1 0 0 1 1]\n",
      "X [форма - (360, 64)]:\n",
      "[[  0.   0.   5.  13.   9.   1.   0.   0.   0.   0.  13.  15.  10.  15.\n",
      "    5.   0.   0.   3.  15.   2.   0.  11.   8.   0.   0.   4.  12.   0.\n",
      "    0.   8.   8.   0.   0.   5.   8.   0.   0.   9.   8.   0.   0.   4.\n",
      "   11.   0.   1.  12.   7.   0.   0.   2.  14.   5.  10.  12.   0.   0.\n",
      "    0.   0.   6.  13.  10.   0.   0.   0.]\n",
      " [  0.   0.   0.  12.  13.   5.   0.   0.   0.   0.   0.  11.  16.   9.\n",
      "    0.   0.   0.   0.   3.  15.  16.   6.   0.   0.   0.   7.  15.  16.\n",
      "   16.   2.   0.   0.   0.   0.   1.  16.  16.   3.   0.   0.   0.   0.\n",
      "    1.  16.  16.   6.   0.   0.   0.   0.   1.  16.  16.   6.   0.   0.\n",
      "    0.   0.   0.  11.  16.  10.   0.   0.]\n",
      " [  0.   0.   1.   9.  15.  11.   0.   0.   0.   0.  11.  16.   8.  14.\n",
      "    6.   0.   0.   2.  16.  10.   0.   9.   9.   0.   0.   1.  16.   4.\n",
      "    0.   8.   8.   0.   0.   4.  16.   4.   0.   8.   8.   0.   0.   1.\n",
      "   16.   5.   1.  11.   3.   0.   0.   0.  12.  12.  10.  10.   0.   0.\n",
      "    0.   0.   1.  10.  13.   3.   0.   0.]]\n"
     ]
    }
   ],
   "source": [
    "from sklearn.datasets import load_digits\n",
    "mnist = load_digits(2)\n",
    "\n",
    "X,y = mnist.data, mnist.target\n",
    "\n",
    "\n",
    "print \"y [форма - %s]:\"%(str(y.shape)),y[:10]\n",
    "\n",
    "print \"X [форма - %s]:\"%(str(X.shape))\n",
    "print X[:3]"
   ]
  },
  {
   "cell_type": "code",
   "execution_count": 82,
   "metadata": {
    "collapsed": true
   },
   "outputs": [],
   "source": [
    "# for i in range(len(y)):\n",
    "#     if y[i] == 0:\n",
    "#         y[i] = -1\n",
    "\n",
    "\n",
    "from sklearn.preprocessing import OneHotEncoder\n",
    "\n",
    "\n",
    "y = y.reshape(-1, 1)\n",
    "\n",
    "one_hot = OneHotEncoder()\n",
    "y = one_hot.fit_transform(y)"
   ]
  },
  {
   "cell_type": "code",
   "execution_count": 83,
   "metadata": {
    "collapsed": false
   },
   "outputs": [],
   "source": [
    "# переменные и входы\n",
    "shared_weights = theano.shared(np.random.random((X.shape[1], 2)))\n",
    "input_X = T.matrix(dtype=\"float32\")\n",
    "input_y = T.matrix(dtype=\"float32\")"
   ]
  },
  {
   "cell_type": "code",
   "execution_count": 84,
   "metadata": {
    "collapsed": true
   },
   "outputs": [],
   "source": [
    "# predicted_y = 1./ (1 + T.exp( - T.dot(input_X, shared_weights)))\n",
    "predicted_y = T.nnet.softmax(T.dot(input_X, shared_weights))\n",
    "# loss = T.log(1 + T.exp(- input_y * T.dot(input_X, shared_weights))).sum()\n",
    "loss = - T.mean(input_y * T.log(predicted_y))\n",
    "\n",
    "grad = T.grad(loss, shared_weights)\n",
    "\n",
    "updates = {\n",
    "    shared_weights: shared_weights - grad * 0.01\n",
    "}"
   ]
  },
  {
   "cell_type": "code",
   "execution_count": 85,
   "metadata": {
    "collapsed": false
   },
   "outputs": [],
   "source": [
    "train_function = theano.function([input_X, input_y], loss, updates=updates, allow_input_downcast=True)\n",
    "# <функция, которая по X и Y возвращает ошибку и обновляет веса>\n",
    "predict_function = theano.function([input_X], predicted_y, allow_input_downcast=True)\n",
    "# <функция, которая по X считает предсказание для y>"
   ]
  },
  {
   "cell_type": "code",
   "execution_count": 86,
   "metadata": {
    "collapsed": false
   },
   "outputs": [],
   "source": [
    "X_train,X_test,y_train,y_test = train_test_split(X,y)"
   ]
  },
  {
   "cell_type": "code",
   "execution_count": 57,
   "metadata": {
    "collapsed": false
   },
   "outputs": [
    {
     "name": "stdout",
     "output_type": "stream",
     "text": [
      "loss at iter 0: 0.3588\n",
      "('train auc:', 0.94976943346508569)\n",
      "('test auc:', 0.97727272727272729)\n",
      "loss at iter 1: 0.3184\n",
      "('train auc:', 0.95863526570048319)\n",
      "('test auc:', 0.98221343873517786)\n",
      "loss at iter 2: 0.2858\n",
      "('train auc:', 0.96508563899868249)\n",
      "('test auc:', 0.98715415019762853)\n",
      "loss at iter 3: 0.2587\n",
      "('train auc:', 0.96983421168203776)\n",
      "('test auc:', 0.99061264822134387)\n",
      "loss at iter 4: 0.2356\n",
      "('train auc:', 0.97381422924901173)\n",
      "('test auc:', 0.9925889328063241)\n",
      "resulting weights:\n"
     ]
    },
    {
     "data": {
      "text/plain": [
       "<matplotlib.colorbar.Colorbar instance at 0x7f68b2954dd0>"
      ]
     },
     "execution_count": 57,
     "metadata": {},
     "output_type": "execute_result"
    },
    {
     "data": {
      "image/png": "[encoded data removed]",
      "text/plain": [
       "<matplotlib.figure.Figure at 0x7f68acb30f50>"
      ]
     },
     "metadata": {},
     "output_type": "display_data"
    }
   ],
   "source": [
    "from sklearn.metrics import roc_auc_score\n",
    "\n",
    "for i in range(5):\n",
    "    loss_i = train_function(X_train, y_train)\n",
    "    print (\"loss at iter %i: %.4f\"%(i,loss_i))\n",
    "    a = predict_function(X_train)\n",
    "    print (\"train auc:\",roc_auc_score(y_train,predict_function(X_train)))\n",
    "    print (\"test auc:\",roc_auc_score(y_test,predict_function(X_test)))\n",
    "\n",
    "    \n",
    "print (\"resulting weights:\")\n",
    "plt.imshow(shared_weights.get_value().reshape(8,-1))\n",
    "plt.colorbar()"
   ]
  },
  {
   "cell_type": "markdown",
   "metadata": {},
   "source": [
    "# lasagne\n",
    "* lasagne - это библиотека для написания нейронок произвольной формы на theano\n",
    "* библиотека низкоуровневая, границы между theano и lasagne практически нет\n",
    "\n",
    "В качестве демо-задачи выберем то же распознавание чисел, но на большем масштабе задачи\n",
    "* картинки 28x28\n",
    "* 10 цифр"
   ]
  },
  {
   "cell_type": "code",
   "execution_count": 4,
   "metadata": {
    "collapsed": false
   },
   "outputs": [],
   "source": [
    "from sklearn.datasets import fetch_mldata\n",
    "from skimage import io"
   ]
  },
  {
   "cell_type": "code",
   "execution_count": 5,
   "metadata": {
    "collapsed": false
   },
   "outputs": [],
   "source": [
    "mnist = fetch_mldata('MNIST original', data_home='.')"
   ]
  },
  {
   "cell_type": "code",
   "execution_count": 6,
   "metadata": {
    "collapsed": true
   },
   "outputs": [],
   "source": [
    "X = mnist.data.reshape((70000, 1, 28, 28))\n",
    "y = mnist.target"
   ]
  },
  {
   "cell_type": "code",
   "execution_count": 98,
   "metadata": {
    "collapsed": true
   },
   "outputs": [],
   "source": [
    "def rotate_img(img, angle=-10):\n",
    "    tform = tf.SimilarityTransform(scale=1, rotation=np.pi * angle / 180, translation=(0, 1))\n",
    "    img = tf.warp(img, inverse_map=tform.inverse, output_shape=img.shape)\n",
    "    return np.array(img)"
   ]
  },
  {
   "cell_type": "code",
   "execution_count": 100,
   "metadata": {
    "collapsed": false
   },
   "outputs": [],
   "source": [
    "X_rotated = []\n",
    "for i in range(len(X)):\n",
    "    X_rotated.append(rotate_img(X[i], angle=-5))\n",
    "for i in range(len(X)):\n",
    "    X_rotated.append(rotate_img(X[i], angle=5))"
   ]
  },
  {
   "cell_type": "code",
   "execution_count": 101,
   "metadata": {
    "collapsed": true
   },
   "outputs": [],
   "source": [
    "X_rotated = np.concatenate([X, X_rotated])\n",
    "X_rotated = X_rotated.reshape((210000, 1, 28, 28))\n",
    "y_rotated = np.concatenate([y, y, y])"
   ]
  },
  {
   "cell_type": "code",
   "execution_count": 7,
   "metadata": {
    "collapsed": false
   },
   "outputs": [],
   "source": [
    "X_train, X_val, y_train, y_val = train_test_split(X, y)"
   ]
  },
  {
   "cell_type": "code",
   "execution_count": 8,
   "metadata": {
    "collapsed": false
   },
   "outputs": [],
   "source": [
    "\n",
    "import theano\n",
    "import theano.tensor as T\n",
    "import lasagne\n",
    "\n",
    "input_X = T.tensor4(\"X\")\n",
    "\n",
    "#размерность входа (None означает \"может изменяться\")\n",
    "input_shape = [None,1,28,28]\n",
    "\n",
    "target_y = T.vector(\"target Y integer\",dtype='int32')"
   ]
  },
  {
   "cell_type": "markdown",
   "metadata": {},
   "source": [
    "Так задаётся архитектура нейронки"
   ]
  },
  {
   "cell_type": "code",
   "execution_count": 9,
   "metadata": {
    "collapsed": true
   },
   "outputs": [],
   "source": [
    "from lasagne.nonlinearities import *\n",
    "from lasagne.layers import *"
   ]
  },
  {
   "cell_type": "code",
   "execution_count": 10,
   "metadata": {
    "collapsed": false
   },
   "outputs": [
    {
     "data": {
      "text/plain": [
       "[None, 1, 28, 28]"
      ]
     },
     "execution_count": 10,
     "metadata": {},
     "output_type": "execute_result"
    }
   ],
   "source": [
    "input_shape"
   ]
  },
  {
   "cell_type": "code",
   "execution_count": 11,
   "metadata": {
    "collapsed": false
   },
   "outputs": [],
   "source": [
    "    network = lasagne.layers.InputLayer(shape=(None, 1, 28, 28), input_var=input_X)\n",
    "    # This time we do not apply input dropout, as it tends to work less well\n",
    "    # for convolutional layers.\n",
    "\n",
    "    # Convolutional layer with 32 kernels of size 5x5. Strided and padded\n",
    "    # convolutions are supported as well; see the docstring.\n",
    "    network = lasagne.layers.Conv2DLayer(\n",
    "            network, num_filters=32, filter_size=(5, 5),\n",
    "            nonlinearity=lasagne.nonlinearities.rectify,\n",
    "            W=lasagne.init.GlorotUniform())\n",
    "#     network = dropout(network, p=0.5)\n",
    "    # Expert note: Lasagne provides alternative convolutional layers that\n",
    "    # override Theano's choice of which implementation to use; for details\n",
    "    # please see http://lasagne.readthedocs.org/en/latest/user/tutorial.html.\n",
    "\n",
    "    # Max-pooling layer of factor 2 in both dimensions:\n",
    "    network = lasagne.layers.MaxPool2DLayer(network, pool_size=(2, 2))\n",
    "\n",
    "    # Another convolution with 32 5x5 kernels, and another 2x2 pooling:\n",
    "    network = lasagne.layers.Conv2DLayer(\n",
    "            network, num_filters=32, filter_size=(5, 5),\n",
    "            nonlinearity=lasagne.nonlinearities.rectify)\n",
    "    network = lasagne.layers.MaxPool2DLayer(network, pool_size=(2, 2))\n",
    "\n",
    "    # A fully-connected layer of 256 units with 50% dropout on its inputs:\n",
    "    network = lasagne.layers.DenseLayer(\n",
    "            lasagne.layers.dropout(network, p=.5),\n",
    "            num_units=256,\n",
    "            nonlinearity=lasagne.nonlinearities.rectify)\n",
    "\n",
    "    # And, finally, the 10-unit output layer with 50% dropout on its inputs:\n",
    "    network = lasagne.layers.DenseLayer(\n",
    "            lasagne.layers.dropout(network, p=.5),\n",
    "            num_units=10,\n",
    "            nonlinearity=lasagne.nonlinearities.softmax)\n",
    "\n"
   ]
  },
  {
   "cell_type": "code",
   "execution_count": 141,
   "metadata": {
    "collapsed": false
   },
   "outputs": [],
   "source": [
    "#входной слой (вспомогательный)\n",
    "input_layer = InputLayer(shape=input_shape, input_var=input_X)\n",
    "\n",
    "#полносвязный слой, который принимает на вход input layer и имеет 100 нейронов.\n",
    "# нелинейная функция - сигмоида как в логистической регрессии\n",
    "# слоям тоже можно давать имена, но это необязательно\n",
    "# dense_1 = lasagne.layers.DenseLayer(input_layer,num_units=50,\n",
    "#                                    nonlinearity = lasagne.nonlinearities.sigmoid,\n",
    "#                                    name = \"hidden_dense_layer\")\n",
    "# network = lasagne.layers.dnn.Conv2DDNNLayer(input_layer, 32, filter_size=(3, 3), pad='same', nonlinearity=rectify, name=\"conv1\")\n",
    "network = Conv2DLayer(input_layer, 16, filter_size=(3,3), pad='same', nonlinearity=rectify, name=\"conv1\")\n",
    "network = MaxPool2DLayer(network, pool_size=(2,2), stride=2, name=\"pool1\")\n",
    "# network = BatchNormLayer(network, name=\"bn1\")\n",
    "network = dropout(network, p=0.5)\n",
    "\n",
    "# network = lasagne.layers.batch_norm(lasagne.layers.dnn.Conv2DDNNLayer(network, num_filters=64, filter_size=(2, 2), stride=1, nonlinearity=rectify, name=\"conv2\"))\n",
    "network = batch_norm(Conv2DLayer(network, num_filters=32, filter_size=(2,2), nonlinearity=rectify, name=\"conv2\"))\n",
    "# network2 = lasagne.layers.dropout(network, p=0.2)\n",
    "\n",
    "# network = dnn.Conv2DDNNLayer(incoming=network, num_filters=64, filter_size=(3, 3), pad='same', stride=1, nonlinearity=rectify, name=\"conv2\")\n",
    "# network = Conv2DLayer(incoming=network, num_filters=64, filter_size=(2, 2), pad='same', stride=1, nonlinearity=rectify, name=\"conv2\")\n",
    "network = MaxPool2DLayer(network, pool_size=(2,2), stride=2, pad=1, name=\"pool2\")\n",
    "# network = lasagne.layers.BatchNormLayer(incoming=network, name=\"bn2\")\n",
    "\n",
    "network = DenseLayer(incoming=network, num_units=64, nonlinearity=rectify, name=\"dense1\")\n",
    "# network = DenseLayer(incoming=network, num_units=100, nonlinearity=rectify, name=\"dense1\")\n",
    "# network2 = BatchNormLayer(incoming=network2, name=\"bm_last\")\n",
    "\n",
    "#ВЫХОДНОЙ полносвязный слой, который принимает на вход dense_1 и имеет 10 нейронов -по нейрону на цифру\n",
    "#нелинейность - softmax - чтобы вероятности всех цифр давали в сумме 1\n",
    "dense_output = DenseLayer(network,num_units = 10,\n",
    "                                        nonlinearity = softmax,\n",
    "                                        name='output')\n"
   ]
  },
  {
   "cell_type": "code",
   "execution_count": 12,
   "metadata": {
    "collapsed": false
   },
   "outputs": [
    {
     "name": "stderr",
     "output_type": "stream",
     "text": [
      "/notebooks/rl/src/lasagne/lasagne/layers/pool.py:266: UserWarning: DEPRECATION: the 'ds' parameter is not going to exist anymore as it is going to be replaced by the parameter 'ws'.\n",
      "  mode=self.mode,\n",
      "/notebooks/rl/src/lasagne/lasagne/layers/pool.py:266: UserWarning: DEPRECATION: the 'st' parameter is not going to exist anymore as it is going to be replaced by the parameter 'stride'.\n",
      "  mode=self.mode,\n",
      "/notebooks/rl/src/lasagne/lasagne/layers/pool.py:266: UserWarning: DEPRECATION: the 'padding' parameter is not going to exist anymore as it is going to be replaced by the parameter 'pad'.\n",
      "  mode=self.mode,\n"
     ]
    }
   ],
   "source": [
    "#предсказание нейронки (theano-преобразование)\n",
    "y_predicted = lasagne.layers.get_output(network)"
   ]
  },
  {
   "cell_type": "code",
   "execution_count": 13,
   "metadata": {
    "collapsed": false
   },
   "outputs": [
    {
     "name": "stdout",
     "output_type": "stream",
     "text": [
      "[W, b, W, b, W, b, W, b]\n"
     ]
    }
   ],
   "source": [
    "#все веса нейронки (shared-переменные)\n",
    "all_weights = lasagne.layers.get_all_params(network, trainable=True)\n",
    "print (all_weights)"
   ]
  },
  {
   "cell_type": "markdown",
   "metadata": {},
   "source": [
    "### дальше вы могли бы просто\n",
    "* задать функцию ошибки вручную\n",
    "* посчитать градиент ошибки по all_weights\n",
    "* написать updates\n",
    "* но это долго, а простой шаг по градиенту - не самый лучший смособ оптимизировать веса\n",
    "\n",
    "Вместо этого, опять используем lasagne"
   ]
  },
  {
   "cell_type": "code",
   "execution_count": 14,
   "metadata": {
    "collapsed": true
   },
   "outputs": [],
   "source": [
    "learning_rate = T.scalar(name='learning_rate')"
   ]
  },
  {
   "cell_type": "code",
   "execution_count": 15,
   "metadata": {
    "collapsed": false
   },
   "outputs": [],
   "source": [
    "#функция ошибки - средняя кроссэнтропия\n",
    "loss = lasagne.objectives.categorical_crossentropy(y_predicted,target_y).mean()\n",
    "loss += lasagne.regularization.regularize_network_params(network, lasagne.regularization.l2) * 2e-3\n",
    "# l2_penalty = regularize_layer_params(dense_output, l2) * 1e-3\n",
    "\n",
    "accuracy = lasagne.objectives.categorical_accuracy(y_predicted,target_y).mean()\n",
    "\n",
    "#сразу посчитать словарь обновлённых значений с шагом по градиенту, как раньше\n",
    "updates_sgd = lasagne.updates.adam(loss, all_weights, learning_rate=learning_rate)\n",
    "updates = lasagne.updates.nesterov_momentum(loss, all_weights, learning_rate=0.01, momentum=0.9)"
   ]
  },
  {
   "cell_type": "code",
   "execution_count": 18,
   "metadata": {
    "collapsed": false
   },
   "outputs": [
    {
     "name": "stderr",
     "output_type": "stream",
     "text": [
      "WARNING (theano.tensor.blas): We did not found a dynamic library into the library_dir of the library we use for blas. If you use ATLAS, make sure to compile it with dynamics library.\n",
      "WARNING:theano.tensor.blas:We did not found a dynamic library into the library_dir of the library we use for blas. If you use ATLAS, make sure to compile it with dynamics library.\n"
     ]
    }
   ],
   "source": [
    "#функция, которая обучает сеть на 1 шаг и возвращащет значение функции потерь и точности\n",
    "train_fun = theano.function([input_X,target_y, learning_rate],[loss,accuracy],updates=updates_sgd, allow_input_downcast=True)\n",
    "\n",
    "#функция, которая считает точность\n",
    "accuracy_fun = theano.function([input_X,target_y],accuracy, allow_input_downcast=True)"
   ]
  },
  {
   "cell_type": "markdown",
   "metadata": {},
   "source": [
    "### Вот и всё, пошли её учить\n",
    "* данных теперь много, поэтому лучше учиться стохастическим градиентным спуском\n",
    "* для этого напишем функцию, которая бьёт выпорку на мини-батчи (в обычном питоне, не в theano)"
   ]
  },
  {
   "cell_type": "code",
   "execution_count": 20,
   "metadata": {
    "collapsed": true
   },
   "outputs": [],
   "source": [
    "# вспомогательная функция, которая возвращает список мини-батчей для обучения нейронки\n",
    "\n",
    "#на вход\n",
    "# X - тензор из картинок размером (много, 1, 28, 28), например - X_train\n",
    "# y - вектор из чиселок - ответов для каждой картинки из X; например - Y_train\n",
    "#batch_size - одно число - желаемый размер группы\n",
    "\n",
    "#что нужно сделать\n",
    "# 1) перемешать данные\n",
    "# - важно перемешать X и y одним и тем же образом, чтобы сохранить соответствие картинки ответу на неё\n",
    "# 3) побить данные на подгруппы так, чтобы в каждой подгруппе было batch_size картинок и ответов\n",
    "# - если число картинок не делится на batch_size, одну подгруппу можно вернуть другого размера\n",
    "# 4) вернуть список (или итератор) пар:\n",
    "# - (подгруппа картинок, ответы из y на эту подгруппу)\n",
    "def iterate_minibatches(inputs, targets, batchsize, shuffle=False):\n",
    "    assert len(inputs) == len(targets)\n",
    "    if shuffle:\n",
    "        indices = np.arange(len(inputs))\n",
    "        np.random.shuffle(indices)\n",
    "    for start_idx in range(0, len(inputs) - batchsize + 1, batchsize):\n",
    "        if shuffle:\n",
    "            excerpt = indices[start_idx:start_idx + batchsize]\n",
    "        else:\n",
    "            excerpt = slice(start_idx, start_idx + batchsize)\n",
    "        yield inputs[excerpt], targets[excerpt]\n",
    "    \n",
    "#\n",
    "# Всё плохо и ты не понимаешь, что от тебя хотят?\n",
    "# можешь поискать похожую функцию в примере\n",
    "# https://github.com/Lasagne/Lasagne/blob/master/examples/mnist.py"
   ]
  },
  {
   "cell_type": "markdown",
   "metadata": {},
   "source": [
    "# Процесс обучения"
   ]
  },
  {
   "cell_type": "code",
   "execution_count": 65,
   "metadata": {
    "collapsed": false,
    "scrolled": true
   },
   "outputs": [
    {
     "name": "stdout",
     "output_type": "stream",
     "text": [
      "Epoch 1 of 100 took 160.377s\n",
      "  training loss (in-iteration):\t\t0.034418\n",
      "  train accuracy:\t\t98.90 %\n",
      "  validation accuracy:\t\t98.46 %\n",
      "Epoch 2 of 100 took 168.162s\n",
      "  training loss (in-iteration):\t\t0.034445\n",
      "  train accuracy:\t\t98.90 %\n",
      "  validation accuracy:\t\t98.36 %\n",
      "Epoch 3 of 100 took 161.797s\n",
      "  training loss (in-iteration):\t\t0.034997\n",
      "  train accuracy:\t\t98.88 %\n",
      "  validation accuracy:\t\t98.41 %\n",
      "Epoch 4 of 100 took 161.950s\n",
      "  training loss (in-iteration):\t\t0.032385\n",
      "  train accuracy:\t\t98.90 %\n",
      "  validation accuracy:\t\t98.46 %\n",
      "Epoch 5 of 100 took 164.166s\n",
      "  training loss (in-iteration):\t\t0.032802\n",
      "  train accuracy:\t\t99.00 %\n",
      "  validation accuracy:\t\t98.57 %\n",
      "Epoch 6 of 100 took 157.994s\n",
      "  training loss (in-iteration):\t\t0.031661\n",
      "  train accuracy:\t\t99.01 %\n",
      "  validation accuracy:\t\t98.57 %\n",
      "Epoch 7 of 100 took 161.156s\n",
      "  training loss (in-iteration):\t\t0.031023\n",
      "  train accuracy:\t\t98.97 %\n",
      "  validation accuracy:\t\t98.55 %\n",
      "Epoch 8 of 100 took 166.424s\n",
      "  training loss (in-iteration):\t\t0.031178\n",
      "  train accuracy:\t\t98.96 %\n",
      "  validation accuracy:\t\t98.51 %\n",
      "Epoch 9 of 100 took 163.672s\n",
      "  training loss (in-iteration):\t\t0.031134\n",
      "  train accuracy:\t\t98.95 %\n",
      "  validation accuracy:\t\t98.49 %\n",
      "Epoch 10 of 100 took 166.314s\n",
      "  training loss (in-iteration):\t\t0.032231\n",
      "  train accuracy:\t\t98.95 %\n",
      "  validation accuracy:\t\t98.47 %\n",
      "Epoch 11 of 100 took 164.034s\n",
      "  training loss (in-iteration):\t\t0.030733\n",
      "  train accuracy:\t\t98.95 %\n",
      "  validation accuracy:\t\t98.47 %\n",
      "Epoch 12 of 100 took 163.541s\n",
      "  training loss (in-iteration):\t\t0.029698\n",
      "  train accuracy:\t\t99.06 %\n",
      "  validation accuracy:\t\t98.47 %\n",
      "Epoch 13 of 100 took 164.309s\n",
      "  training loss (in-iteration):\t\t0.030043\n",
      "  train accuracy:\t\t99.06 %\n",
      "  validation accuracy:\t\t98.37 %\n",
      "Epoch 14 of 100 took 161.472s\n",
      "  training loss (in-iteration):\t\t0.030443\n",
      "  train accuracy:\t\t99.04 %\n",
      "  validation accuracy:\t\t98.41 %\n",
      "Epoch 15 of 100 took 168.782s\n",
      "  training loss (in-iteration):\t\t0.030837\n",
      "  train accuracy:\t\t98.96 %\n",
      "  validation accuracy:\t\t98.54 %\n",
      "Epoch 16 of 100 took 163.611s\n",
      "  training loss (in-iteration):\t\t0.028876\n",
      "  train accuracy:\t\t99.04 %\n",
      "  validation accuracy:\t\t98.57 %\n",
      "Epoch 17 of 100 took 164.571s\n",
      "  training loss (in-iteration):\t\t0.030932\n",
      "  train accuracy:\t\t98.95 %\n",
      "  validation accuracy:\t\t98.46 %\n",
      "Epoch 18 of 100 took 163.969s\n",
      "  training loss (in-iteration):\t\t0.029107\n",
      "  train accuracy:\t\t98.99 %\n",
      "  validation accuracy:\t\t98.45 %\n",
      "Epoch 19 of 100 took 162.847s\n",
      "  training loss (in-iteration):\t\t0.029064\n",
      "  train accuracy:\t\t99.01 %\n",
      "  validation accuracy:\t\t98.41 %\n",
      "Epoch 20 of 100 took 157.109s\n",
      "  training loss (in-iteration):\t\t0.029289\n",
      "  train accuracy:\t\t99.07 %\n",
      "  validation accuracy:\t\t98.58 %\n",
      "Epoch 21 of 100 took 162.683s\n",
      "  training loss (in-iteration):\t\t0.028244\n",
      "  train accuracy:\t\t99.06 %\n",
      "  validation accuracy:\t\t98.56 %\n",
      "Epoch 22 of 100 took 157.431s\n",
      "  training loss (in-iteration):\t\t0.028154\n",
      "  train accuracy:\t\t99.05 %\n",
      "  validation accuracy:\t\t98.57 %\n",
      "Epoch 23 of 100 took 166.473s\n",
      "  training loss (in-iteration):\t\t0.027818\n",
      "  train accuracy:\t\t99.07 %\n",
      "  validation accuracy:\t\t98.58 %\n",
      "Epoch 24 of 100 took 158.906s\n",
      "  training loss (in-iteration):\t\t0.027966\n",
      "  train accuracy:\t\t99.05 %\n",
      "  validation accuracy:\t\t98.43 %\n",
      "Epoch 25 of 100 took 154.343s\n",
      "  training loss (in-iteration):\t\t0.027603\n",
      "  train accuracy:\t\t99.04 %\n",
      "  validation accuracy:\t\t98.55 %\n",
      "Epoch 26 of 100 took 167.861s\n",
      "  training loss (in-iteration):\t\t0.027185\n",
      "  train accuracy:\t\t99.11 %\n",
      "  validation accuracy:\t\t98.53 %\n",
      "Epoch 27 of 100 took 159.286s\n",
      "  training loss (in-iteration):\t\t0.028107\n",
      "  train accuracy:\t\t99.11 %\n",
      "  validation accuracy:\t\t98.43 %\n",
      "Epoch 28 of 100 took 159.250s\n",
      "  training loss (in-iteration):\t\t0.026394\n",
      "  train accuracy:\t\t99.14 %\n",
      "  validation accuracy:\t\t98.47 %\n",
      "Epoch 29 of 100 took 162.110s\n",
      "  training loss (in-iteration):\t\t0.026973\n",
      "  train accuracy:\t\t99.06 %\n",
      "  validation accuracy:\t\t98.64 %\n",
      "Epoch 30 of 100 took 159.396s\n",
      "  training loss (in-iteration):\t\t0.026995\n",
      "  train accuracy:\t\t99.09 %\n",
      "  validation accuracy:\t\t98.55 %\n",
      "Epoch 31 of 100 took 157.919s\n",
      "  training loss (in-iteration):\t\t0.027368\n",
      "  train accuracy:\t\t99.10 %\n",
      "  validation accuracy:\t\t98.45 %\n",
      "Epoch 32 of 100 took 168.367s\n",
      "  training loss (in-iteration):\t\t0.027052\n",
      "  train accuracy:\t\t99.13 %\n",
      "  validation accuracy:\t\t98.58 %\n",
      "Epoch 33 of 100 took 164.146s\n",
      "  training loss (in-iteration):\t\t0.027808\n",
      "  train accuracy:\t\t99.06 %\n",
      "  validation accuracy:\t\t98.43 %\n",
      "Epoch 34 of 100 took 156.939s\n",
      "  training loss (in-iteration):\t\t0.026137\n",
      "  train accuracy:\t\t99.17 %\n",
      "  validation accuracy:\t\t98.57 %\n",
      "Epoch 35 of 100 took 175.360s\n",
      "  training loss (in-iteration):\t\t0.025977\n",
      "  train accuracy:\t\t99.13 %\n",
      "  validation accuracy:\t\t98.49 %\n",
      "Epoch 36 of 100 took 166.007s\n",
      "  training loss (in-iteration):\t\t0.027021\n",
      "  train accuracy:\t\t99.07 %\n",
      "  validation accuracy:\t\t98.45 %\n",
      "Epoch 37 of 100 took 169.016s\n",
      "  training loss (in-iteration):\t\t0.026827\n",
      "  train accuracy:\t\t99.14 %\n",
      "  validation accuracy:\t\t98.51 %\n",
      "Epoch 38 of 100 took 167.557s\n",
      "  training loss (in-iteration):\t\t0.025625\n",
      "  train accuracy:\t\t99.13 %\n",
      "  validation accuracy:\t\t98.55 %\n",
      "Epoch 39 of 100 took 159.097s\n",
      "  training loss (in-iteration):\t\t0.025949\n",
      "  train accuracy:\t\t99.12 %\n",
      "  validation accuracy:\t\t98.47 %\n",
      "Epoch 40 of 100 took 169.045s\n",
      "  training loss (in-iteration):\t\t0.025212\n",
      "  train accuracy:\t\t99.11 %\n",
      "  validation accuracy:\t\t98.54 %\n",
      "Epoch 41 of 100 took 167.047s\n",
      "  training loss (in-iteration):\t\t0.025624\n",
      "  train accuracy:\t\t99.12 %\n",
      "  validation accuracy:\t\t98.66 %\n",
      "Epoch 42 of 100 took 176.591s\n",
      "  training loss (in-iteration):\t\t0.025258\n",
      "  train accuracy:\t\t99.14 %\n",
      "  validation accuracy:\t\t98.48 %\n",
      "Epoch 43 of 100 took 162.783s\n",
      "  training loss (in-iteration):\t\t0.024291\n",
      "  train accuracy:\t\t99.18 %\n",
      "  validation accuracy:\t\t98.63 %\n",
      "Epoch 44 of 100 took 161.738s\n",
      "  training loss (in-iteration):\t\t0.024675\n",
      "  train accuracy:\t\t99.18 %\n",
      "  validation accuracy:\t\t98.50 %\n",
      "Epoch 45 of 100 took 174.789s\n",
      "  training loss (in-iteration):\t\t0.025259\n",
      "  train accuracy:\t\t99.15 %\n",
      "  validation accuracy:\t\t98.39 %\n",
      "Epoch 46 of 100 took 164.802s\n",
      "  training loss (in-iteration):\t\t0.024726\n",
      "  train accuracy:\t\t99.17 %\n",
      "  validation accuracy:\t\t98.57 %\n",
      "Epoch 47 of 100 took 165.479s\n",
      "  training loss (in-iteration):\t\t0.025249\n",
      "  train accuracy:\t\t99.12 %\n",
      "  validation accuracy:\t\t98.51 %\n",
      "Epoch 48 of 100 took 164.939s\n",
      "  training loss (in-iteration):\t\t0.026738\n",
      "  train accuracy:\t\t99.10 %\n",
      "  validation accuracy:\t\t98.47 %\n",
      "Epoch 49 of 100 took 163.827s\n",
      "  training loss (in-iteration):\t\t0.025011\n",
      "  train accuracy:\t\t99.14 %\n",
      "  validation accuracy:\t\t98.46 %\n",
      "Epoch 50 of 100 took 160.795s\n",
      "  training loss (in-iteration):\t\t0.025474\n",
      "  train accuracy:\t\t99.16 %\n",
      "  validation accuracy:\t\t98.35 %\n",
      "Epoch 51 of 100 took 167.085s\n",
      "  training loss (in-iteration):\t\t0.024397\n",
      "  train accuracy:\t\t99.19 %\n",
      "  validation accuracy:\t\t98.55 %\n",
      "Epoch 52 of 100 took 153.261s\n",
      "  training loss (in-iteration):\t\t0.025024\n",
      "  train accuracy:\t\t99.12 %\n",
      "  validation accuracy:\t\t98.57 %\n",
      "Epoch 53 of 100 took 156.733s\n",
      "  training loss (in-iteration):\t\t0.024864\n",
      "  train accuracy:\t\t99.19 %\n",
      "  validation accuracy:\t\t98.58 %\n",
      "Epoch 54 of 100 took 167.720s\n",
      "  training loss (in-iteration):\t\t0.024000\n",
      "  train accuracy:\t\t99.20 %\n",
      "  validation accuracy:\t\t98.57 %\n",
      "Epoch 55 of 100 took 170.242s\n",
      "  training loss (in-iteration):\t\t0.024251\n",
      "  train accuracy:\t\t99.18 %\n",
      "  validation accuracy:\t\t98.58 %\n",
      "Epoch 56 of 100 took 168.161s\n",
      "  training loss (in-iteration):\t\t0.025484\n",
      "  train accuracy:\t\t99.16 %\n",
      "  validation accuracy:\t\t98.61 %\n",
      "Epoch 57 of 100 took 158.193s\n",
      "  training loss (in-iteration):\t\t0.022692\n",
      "  train accuracy:\t\t99.26 %\n",
      "  validation accuracy:\t\t98.57 %\n",
      "Epoch 58 of 100 took 165.251s\n",
      "  training loss (in-iteration):\t\t0.024156\n",
      "  train accuracy:\t\t99.18 %\n",
      "  validation accuracy:\t\t98.59 %\n",
      "Epoch 59 of 100 took 154.986s\n",
      "  training loss (in-iteration):\t\t0.023625\n",
      "  train accuracy:\t\t99.17 %\n",
      "  validation accuracy:\t\t98.53 %\n",
      "Epoch 60 of 100 took 163.783s\n",
      "  training loss (in-iteration):\t\t0.024044\n",
      "  train accuracy:\t\t99.18 %\n",
      "  validation accuracy:\t\t98.54 %\n",
      "Epoch 61 of 100 took 169.846s\n",
      "  training loss (in-iteration):\t\t0.023644\n",
      "  train accuracy:\t\t99.15 %\n",
      "  validation accuracy:\t\t98.53 %\n",
      "Epoch 62 of 100 took 154.737s\n",
      "  training loss (in-iteration):\t\t0.024488\n",
      "  train accuracy:\t\t99.15 %\n",
      "  validation accuracy:\t\t98.61 %\n",
      "Epoch 63 of 100 took 163.318s\n",
      "  training loss (in-iteration):\t\t0.024261\n",
      "  train accuracy:\t\t99.21 %\n",
      "  validation accuracy:\t\t98.51 %\n",
      "Epoch 64 of 100 took 173.694s\n",
      "  training loss (in-iteration):\t\t0.024263\n",
      "  train accuracy:\t\t99.17 %\n",
      "  validation accuracy:\t\t98.46 %\n",
      "Epoch 65 of 100 took 162.354s\n",
      "  training loss (in-iteration):\t\t0.022667\n",
      "  train accuracy:\t\t99.22 %\n",
      "  validation accuracy:\t\t98.63 %\n",
      "Epoch 66 of 100 took 163.080s\n",
      "  training loss (in-iteration):\t\t0.025220\n",
      "  train accuracy:\t\t99.17 %\n",
      "  validation accuracy:\t\t98.43 %\n",
      "Epoch 67 of 100 took 160.645s\n",
      "  training loss (in-iteration):\t\t0.023914\n",
      "  train accuracy:\t\t99.20 %\n",
      "  validation accuracy:\t\t98.46 %\n",
      "Epoch 68 of 100 took 165.658s\n",
      "  training loss (in-iteration):\t\t0.023139\n",
      "  train accuracy:\t\t99.17 %\n",
      "  validation accuracy:\t\t98.45 %\n",
      "Epoch 69 of 100 took 160.631s\n",
      "  training loss (in-iteration):\t\t0.023351\n",
      "  train accuracy:\t\t99.16 %\n",
      "  validation accuracy:\t\t98.50 %\n",
      "Epoch 70 of 100 took 160.843s\n",
      "  training loss (in-iteration):\t\t0.022872\n",
      "  train accuracy:\t\t99.22 %\n",
      "  validation accuracy:\t\t98.50 %\n",
      "Epoch 71 of 100 took 159.537s\n",
      "  training loss (in-iteration):\t\t0.023146\n",
      "  train accuracy:\t\t99.20 %\n",
      "  validation accuracy:\t\t98.45 %\n",
      "Epoch 72 of 100 took 158.132s\n",
      "  training loss (in-iteration):\t\t0.021988\n",
      "  train accuracy:\t\t99.23 %\n",
      "  validation accuracy:\t\t98.48 %\n",
      "Epoch 73 of 100 took 158.514s\n",
      "  training loss (in-iteration):\t\t0.023940\n",
      "  train accuracy:\t\t99.19 %\n",
      "  validation accuracy:\t\t98.52 %\n",
      "Epoch 74 of 100 took 160.626s\n",
      "  training loss (in-iteration):\t\t0.023000\n",
      "  train accuracy:\t\t99.24 %\n",
      "  validation accuracy:\t\t98.55 %\n",
      "Epoch 75 of 100 took 167.639s\n",
      "  training loss (in-iteration):\t\t0.021845\n",
      "  train accuracy:\t\t99.27 %\n",
      "  validation accuracy:\t\t98.57 %\n",
      "Epoch 76 of 100 took 168.093s\n",
      "  training loss (in-iteration):\t\t0.021921\n",
      "  train accuracy:\t\t99.26 %\n",
      "  validation accuracy:\t\t98.60 %\n",
      "Epoch 77 of 100 took 160.185s\n",
      "  training loss (in-iteration):\t\t0.023104\n",
      "  train accuracy:\t\t99.20 %\n",
      "  validation accuracy:\t\t98.45 %\n",
      "Epoch 78 of 100 took 164.737s\n",
      "  training loss (in-iteration):\t\t0.022787\n",
      "  train accuracy:\t\t99.20 %\n",
      "  validation accuracy:\t\t98.41 %\n",
      "Epoch 79 of 100 took 169.863s\n",
      "  training loss (in-iteration):\t\t0.023569\n",
      "  train accuracy:\t\t99.19 %\n",
      "  validation accuracy:\t\t98.53 %\n",
      "Epoch 80 of 100 took 167.284s\n",
      "  training loss (in-iteration):\t\t0.022791\n",
      "  train accuracy:\t\t99.19 %\n",
      "  validation accuracy:\t\t98.48 %\n",
      "Epoch 81 of 100 took 171.867s\n",
      "  training loss (in-iteration):\t\t0.021086\n",
      "  train accuracy:\t\t99.27 %\n",
      "  validation accuracy:\t\t98.47 %\n",
      "Epoch 82 of 100 took 166.899s\n",
      "  training loss (in-iteration):\t\t0.023007\n",
      "  train accuracy:\t\t99.19 %\n",
      "  validation accuracy:\t\t98.59 %\n",
      "Epoch 83 of 100 took 170.302s\n",
      "  training loss (in-iteration):\t\t0.023065\n",
      "  train accuracy:\t\t99.19 %\n",
      "  validation accuracy:\t\t98.58 %\n",
      "Epoch 84 of 100 took 166.097s\n",
      "  training loss (in-iteration):\t\t0.022949\n",
      "  train accuracy:\t\t99.22 %\n",
      "  validation accuracy:\t\t98.63 %\n",
      "Epoch 85 of 100 took 161.774s\n",
      "  training loss (in-iteration):\t\t0.023274\n",
      "  train accuracy:\t\t99.23 %\n",
      "  validation accuracy:\t\t98.46 %\n",
      "Epoch 86 of 100 took 161.743s\n",
      "  training loss (in-iteration):\t\t0.021841\n",
      "  train accuracy:\t\t99.21 %\n",
      "  validation accuracy:\t\t98.53 %\n",
      "Epoch 87 of 100 took 168.282s\n",
      "  training loss (in-iteration):\t\t0.022040\n",
      "  train accuracy:\t\t99.26 %\n",
      "  validation accuracy:\t\t98.53 %\n",
      "Epoch 88 of 100 took 167.500s\n",
      "  training loss (in-iteration):\t\t0.021913\n",
      "  train accuracy:\t\t99.24 %\n",
      "  validation accuracy:\t\t98.52 %\n",
      "Epoch 89 of 100 took 161.329s\n",
      "  training loss (in-iteration):\t\t0.023452\n",
      "  train accuracy:\t\t99.22 %\n",
      "  validation accuracy:\t\t98.44 %\n",
      "Epoch 90 of 100 took 164.431s\n",
      "  training loss (in-iteration):\t\t0.021202\n",
      "  train accuracy:\t\t99.26 %\n",
      "  validation accuracy:\t\t98.56 %\n",
      "Epoch 91 of 100 took 171.736s\n",
      "  training loss (in-iteration):\t\t0.022634\n",
      "  train accuracy:\t\t99.28 %\n",
      "  validation accuracy:\t\t98.55 %\n",
      "Epoch 92 of 100 took 154.490s\n",
      "  training loss (in-iteration):\t\t0.021032\n",
      "  train accuracy:\t\t99.28 %\n",
      "  validation accuracy:\t\t98.67 %\n",
      "Epoch 93 of 100 took 167.400s\n",
      "  training loss (in-iteration):\t\t0.021153\n",
      "  train accuracy:\t\t99.28 %\n",
      "  validation accuracy:\t\t98.47 %\n",
      "Epoch 94 of 100 took 157.383s\n",
      "  training loss (in-iteration):\t\t0.021387\n",
      "  train accuracy:\t\t99.24 %\n",
      "  validation accuracy:\t\t98.45 %\n",
      "Epoch 95 of 100 took 167.821s\n",
      "  training loss (in-iteration):\t\t0.020812\n",
      "  train accuracy:\t\t99.30 %\n",
      "  validation accuracy:\t\t98.64 %\n",
      "Epoch 96 of 100 took 160.475s\n",
      "  training loss (in-iteration):\t\t0.022662\n",
      "  train accuracy:\t\t99.22 %\n",
      "  validation accuracy:\t\t98.65 %\n",
      "Epoch 97 of 100 took 168.671s\n",
      "  training loss (in-iteration):\t\t0.021490\n",
      "  train accuracy:\t\t99.27 %\n",
      "  validation accuracy:\t\t98.52 %\n",
      "Epoch 98 of 100 took 162.837s\n",
      "  training loss (in-iteration):\t\t0.021519\n",
      "  train accuracy:\t\t99.26 %\n",
      "  validation accuracy:\t\t98.67 %\n",
      "Epoch 99 of 100 took 168.552s\n",
      "  training loss (in-iteration):\t\t0.020771\n",
      "  train accuracy:\t\t99.30 %\n",
      "  validation accuracy:\t\t98.54 %\n",
      "Epoch 100 of 100 took 166.364s\n",
      "  training loss (in-iteration):\t\t0.021899\n",
      "  train accuracy:\t\t99.26 %\n",
      "  validation accuracy:\t\t98.55 %\n"
     ]
    }
   ],
   "source": [
    "import time\n",
    "\n",
    "num_epochs = 100 #количество проходов по данным\n",
    "\n",
    "batch_size = 500 #размер мини-батча\n",
    "\n",
    "for epoch in range(num_epochs):\n",
    "    \n",
    "    # In each epoch, we do a full pass over the training data:\n",
    "    train_err = 0\n",
    "    train_acc = 0\n",
    "    train_batches = 0\n",
    "    start_time = time.time()\n",
    "    for batch in iterate_minibatches(X_train, y_train,batch_size, shuffle=True):\n",
    "        inputs, targets = batch\n",
    "        train_err_batch, train_acc_batch= train_fun(inputs, targets)\n",
    "        train_err += train_err_batch\n",
    "        train_acc += train_acc_batch\n",
    "        train_batches += 1\n",
    "\n",
    "    # And a full pass over the validation data:\n",
    "    val_acc = 0\n",
    "    val_batches = 0\n",
    "    for batch in iterate_minibatches(X_val, y_val, batch_size):\n",
    "        inputs, targets = batch\n",
    "        val_acc += accuracy_fun(inputs, targets)\n",
    "        val_batches += 1\n",
    "\n",
    "    \n",
    "    # Then we print the results for this epoch:\n",
    "    print(\"Epoch {} of {} took {:.3f}s\".format(\n",
    "        epoch + 1, num_epochs, time.time() - start_time))\n",
    "\n",
    "    print(\"  training loss (in-iteration):\\t\\t{:.6f}\".format(train_err / train_batches))\n",
    "    print(\"  train accuracy:\\t\\t{:.2f} %\".format(\n",
    "        train_acc / train_batches * 100))\n",
    "    print(\"  validation accuracy:\\t\\t{:.2f} %\".format(\n",
    "        val_acc / val_batches * 100))"
   ]
  },
  {
   "cell_type": "code",
   "execution_count": null,
   "metadata": {
    "collapsed": false,
    "scrolled": true
   },
   "outputs": [],
   "source": [
    "import time\n",
    "\n",
    "num_epochs = 100 #количество проходов по данным\n",
    "\n",
    "batch_size = 512 #размер мини-батча\n",
    "\n",
    "learning_rate = 0.0005\n",
    "\n",
    "for epoch in range(num_epochs):\n",
    "    if epoch % 50:\n",
    "        learning_rate /= 2.\n",
    "    # In each epoch, we do a full pass over the training data:\n",
    "    train_err = 0\n",
    "    train_acc = 0\n",
    "    train_batches = 0\n",
    "    start_time = time.time()\n",
    "    for batch in iterate_minibatches(X_train, y_train,batch_size):\n",
    "        inputs, targets = batch\n",
    "        train_err_batch, train_acc_batch= train_fun(inputs, targets, learning_rate)\n",
    "        train_err += train_err_batch\n",
    "        train_acc += train_acc_batch\n",
    "        train_batches += 1\n",
    "\n",
    "    # And a full pass over the validation data:\n",
    "    val_acc = 0\n",
    "    val_batches = 0\n",
    "    for batch in iterate_minibatches(X_val, y_val, batch_size):\n",
    "        inputs, targets = batch\n",
    "        val_acc += accuracy_fun(inputs, targets)\n",
    "        val_batches += 1\n",
    "\n",
    "    \n",
    "    # Then we print the results for this epoch:\n",
    "    print(\"Epoch {} of {} took {:.3f}s\".format(\n",
    "        epoch + 1, num_epochs, time.time() - start_time))\n",
    "\n",
    "    print(\"  training loss (in-iteration):\\t\\t{:.6f}\".format(train_err / train_batches))\n",
    "    print(\"  train accuracy:\\t\\t{:.2f} %\".format(\n",
    "        train_acc / train_batches * 100))\n",
    "    print(\"  validation accuracy:\\t\\t{:.2f} %\".format(\n",
    "        val_acc / val_batches * 100))"
   ]
  },
  {
   "cell_type": "code",
   "execution_count": 22,
   "metadata": {
    "collapsed": false
   },
   "outputs": [
    {
     "name": "stdout",
     "output_type": "stream",
     "text": [
      "Final results:\n",
      "  test accuracy:\t\t98.82 %\n",
      "Нужно больше магии!\n"
     ]
    }
   ],
   "source": [
    "test_acc = 0\n",
    "test_batches = 0\n",
    "for batch in iterate_minibatches(X_val, y_val, 500):\n",
    "    inputs, targets = batch\n",
    "    acc = accuracy_fun(inputs, targets)\n",
    "    test_acc += acc\n",
    "    test_batches += 1\n",
    "print(\"Final results:\")\n",
    "print(\"  test accuracy:\\t\\t{:.2f} %\".format(\n",
    "    test_acc / test_batches * 100))\n",
    "\n",
    "if test_acc / test_batches * 100 > 99:\n",
    "    print (\"Achievement unlocked: колдун 80 уровня\")\n",
    "else:\n",
    "    print (\"Нужно больше магии!\")"
   ]
  },
  {
   "cell_type": "markdown",
   "metadata": {},
   "source": [
    "# Нейронка твоей мечты\n",
    "\n",
    "\n",
    "* Задача - сделать нейронку, которая получит точность 99% на валидации (validation accuracy)\n",
    " * __+1 балл__ за каждые 0.2% сверх 99%\n",
    " * Вариант \"is fine too\" - 97.5%. \n",
    " * Чем выше, тем лучше.\n",
    " \n",
    "__ В конце есть мини-отчётик, который имеет смысл прочитать вначале и заполнять по ходу работы. __\n",
    " \n",
    "\n",
    "## Что можно улучшить:\n",
    "\n",
    "\n",
    "\n",
    " * размер сети\n",
    "   * бОльше нейронов, \n",
    "   * бОльше слоёв, \n",
    "   * почти наверняка нужны свёртки\n",
    "   * Пх'нглуи мглв'нафх Ктулху Р'льех вгах'нагл фхтагн! \n",
    "   \n",
    "   \n",
    "   \n",
    " * регуляризация - чтобы не переобучалось\n",
    "   * приплюсовать к функции ошибки какую-нибудь сумму квадратов весов\n",
    "   * можно сделать вручную, а можно - http://lasagne.readthedocs.org/en/latest/modules/regularization.html\n",
    "   \n",
    "   \n",
    "   \n",
    " * Метод оптимизации - rmsprop, nesterov_momentum, adadelta, adagrad и т.п.\n",
    "   * сходятся быстрее и иногда - к лучшему оптимуму\n",
    "   * имеет смысл поиграть с размером батча, количеством эпох и скоростью обучения\n",
    "   \n",
    "   \n",
    "   \n",
    " * Dropout - для борьбы с переобучением\n",
    "   * `lasagne.layers.DropoutLayer(предыдущий_слой, p=вероятность_занулить)`\n",
    "   \n",
    "   \n",
    "   \n",
    " * Свёрточные слои \n",
    "   * `network = lasagne.layers.Conv2DLayer(предыдущий_слой,`\n",
    "    `                       num_filters = число нейронов,`\n",
    "    `                        filter_size = (ширина_квадрата, высота_квадрата),`\n",
    "    `                        nonlinearity = нелинейная_функция)`\n",
    "   * ВАРНУНГ! могут учиться долго на CPU\n",
    "     * Однако мы всё равно рекоммендуем обучить хотя бы маленькую свёртку\n",
    " \n",
    " * Любые другие слои и архитектуры\n",
    "   * http://lasagne.readthedocs.org/en/latest/modules/layers.html\n",
    "   * Pooling, Batch Normalization, etc\n",
    "   \n",
    "   \n",
    " * Наконец, можно поиграть с нелинейностями в скрытых слоях\n",
    "   * tanh, relu, leaky relu, etc\n",
    " \n",
    " \n",
    "   \n",
    "Для удобства, ниже есть заготовка решения, которое можно заполнять, а можно выкинуть и написать своё"
   ]
  },
  {
   "cell_type": "markdown",
   "metadata": {
    "collapsed": true
   },
   "source": [
    "** У меня было несколько вариантов (разные слои, нелинейности, batch_norm и т.д), на которых точность была примерно 98, и в итоге я взяла сетку с гитхаба из примеров лазаньи, добавила l2 регуляризацию и сделала уменьшающийся во времени learning rate. Но, как видите, у меня все равно не вышло обучить ее достаточно хорошо( **|"
   ]
  },
  {
   "cell_type": "markdown",
   "metadata": {
    "collapsed": true
   },
   "source": [
    "Не знаю, что еще тут детально описывать, кажется, все ясно. Слишком глубокую делать не стала, проиницализировала xavier (по фен-шую), в качестве нелинейности использовала relu, аугументировала данные поворотами на +-5 (почему-то стало хуже). Пробоваа разные оптимизаторы, в итоге пришла к идее, что надо уменьшать learning rate. Делала домашку в общей сумме неделю, может, больше, но так и не добилась больше 99, что бы ни пробовала. Обидно(( "
   ]
  },
  {
   "cell_type": "code",
   "execution_count": null,
   "metadata": {
    "collapsed": true
   },
   "outputs": [],
   "source": []
  }
 ],
 "metadata": {
  "kernelspec": {
   "display_name": "Python 2",
   "language": "python",
   "name": "python2"
  },
  "language_info": {
   "codemirror_mode": {
    "name": "ipython",
    "version": 2
   },
   "file_extension": ".py",
   "mimetype": "text/x-python",
   "name": "python",
   "nbconvert_exporter": "python",
   "pygments_lexer": "ipython2",
   "version": "2.7.10"
  }
 },
 "nbformat": 4,
 "nbformat_minor": 0
}
