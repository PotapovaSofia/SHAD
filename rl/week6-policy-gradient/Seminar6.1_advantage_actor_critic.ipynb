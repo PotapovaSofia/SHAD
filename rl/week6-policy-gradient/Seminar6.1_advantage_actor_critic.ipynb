{
 "cells": [
  {
   "cell_type": "markdown",
   "metadata": {},
   "source": [
    "## Advantage actor-critic in AgentNet (5 pts)\n",
    "\n",
    "Once we're done with REINFORCE, it's time to proceed with something more sophisticated.\n",
    "The next one in line is advantage actor-critic, in which agent learns both policy and value function, using the latter to speed up learning.\n",
    "\n",
    "Your main objective for this session is to... beat MountainCar-v0... with actor-critic.\n",
    "\n",
    "Beating means making submission to [gym leaderboard](https://gym.openai.com/envs/MountainCar-v0).\n",
    "\n",
    "``` MountainCar-v0 defines \"solving\" as getting average reward of -110.0 over 100 consecutive trials. ```\n"
   ]
  },
  {
   "cell_type": "code",
   "execution_count": 1,
   "metadata": {},
   "outputs": [
    {
     "name": "stderr",
     "output_type": "stream",
     "text": [
      "WARNING (theano.sandbox.cuda): The cuda backend is deprecated and will be removed in the next release (v0.10).  Please switch to the gpuarray backend. You can get more information about how to switch at this URL:\n",
      " https://github.com/Theano/Theano/wiki/Converting-to-the-new-gpu-back-end%28gpuarray%29\n",
      "\n",
      "Using gpu device 0: Tesla K80 (CNMeM is disabled, cuDNN 5110)\n"
     ]
    }
   ],
   "source": [
    "import theano"
   ]
  },
  {
   "cell_type": "code",
   "execution_count": 2,
   "metadata": {},
   "outputs": [
    {
     "name": "stdout",
     "output_type": "stream",
     "text": [
      "env: THEANO_FLAGS='floatX=float32'\n"
     ]
    }
   ],
   "source": [
    "%env THEANO_FLAGS='floatX=float32'\n",
    "# import os\n",
    "# if type(os.environ.get(\"DISPLAY\")) is not str or len(os.environ.get(\"DISPLAY\"))==0:\n",
    "#     !bash ../xvfb start\n",
    "#     %env DISPLAY=:1\n",
    "        \n",
    "import numpy as np\n",
    "import matplotlib.pyplot as plt\n",
    "%matplotlib inline\n"
   ]
  },
  {
   "cell_type": "code",
   "execution_count": 3,
   "metadata": {},
   "outputs": [
    {
     "name": "stderr",
     "output_type": "stream",
     "text": [
      "[2017-04-02 20:54:20,542] Making new env: MountainCar-v0\n"
     ]
    },
    {
     "name": "stdout",
     "output_type": "stream",
     "text": [
      "[-0.49394881  0.        ]\n"
     ]
    }
   ],
   "source": [
    "import gym\n",
    "\n",
    "env = gym.make(\"MountainCar-v0\")\n",
    "obs = env.reset()\n",
    "observation_shape = env.observation_space.shape\n",
    "state_size = len(obs)\n",
    "n_actions = env.action_space.n\n",
    "print(obs)"
   ]
  },
  {
   "cell_type": "markdown",
   "metadata": {},
   "source": [
    "# Basic agent setup\n",
    "Here we define a simple agent that maps game images into Qvalues using shallow neural network.\n"
   ]
  },
  {
   "cell_type": "code",
   "execution_count": 4,
   "metadata": {},
   "outputs": [],
   "source": [
    "from lasagne.layers import dnn "
   ]
  },
  {
   "cell_type": "code",
   "execution_count": 5,
   "metadata": {
    "collapsed": true
   },
   "outputs": [],
   "source": [
    "from lasagne.layers import (InputLayer, ConcatLayer, Pool2DLayer, ReshapeLayer, DimshuffleLayer, NonlinearityLayer,\n",
    "                            DropoutLayer, Deconv2DLayer, batch_norm)\n",
    "try:\n",
    "    from lasagne.layers.dnn import Conv2DDNNLayer as ConvLayer\n",
    "except ImportError:\n",
    "    from lasagne.layers import Conv2DLayer as ConvLayer\n",
    "import lasagne"
   ]
  },
  {
   "cell_type": "code",
   "execution_count": 32,
   "metadata": {},
   "outputs": [],
   "source": [
    "\n",
    "# from agentnet.memory import WindowAugmentation, LSTMCell\n",
    "\n",
    "# prev_wnd = InputLayer((None,4)+observation_shape)\n",
    "# new_wnd = WindowAugmentation(observation_layer,prev_wnd)\n",
    "        \n",
    "# #reshape to (frame, h,w). If you don't use grayscale, 4 should become 12.\n",
    "# wnd_reshape = lasagne.layers.reshape(new_wnd, (-1,4*observation_shape[0])+observation_shape[1:])"
   ]
  },
  {
   "cell_type": "code",
   "execution_count": 96,
   "metadata": {},
   "outputs": [],
   "source": [
    "observation_layer = InputLayer((None,state_size))\n",
    "\n",
    "nn = lasagne.layers.DenseLayer(observation_layer, 16, nonlinearity=lasagne.nonlinearities.elu)\n",
    "nn = lasagne.layers.DenseLayer(nn, 32,  nonlinearity=lasagne.nonlinearities.elu)\n",
    "# nn = lasagne.layers.DenseLayer(nn, 128,  nonlinearity=lasagne.nonlinearities.elu)"
   ]
  },
  {
   "cell_type": "code",
   "execution_count": 34,
   "metadata": {},
   "outputs": [],
   "source": [
    "# from agentnet.memory import LSTMCell\n",
    "\n",
    "# prev_cell = InputLayer((None,256))\n",
    "# prev_out = InputLayer((None,256))\n",
    "\n",
    "# new_cell,new_out = LSTMCell(prev_cell,prev_out,nn,name='lstm')\n",
    "\n",
    "#actor head\n",
    "# logits_layer = lasagne.layers.DenseLayer(concat([nn,new_out]),n_actions,nonlinearity=None) \n",
    "\n",
    "# policy_layer = NonlinearityLayer(logits_layer,lasagne.nonlinearities.softmax)\n",
    "\n",
    "#critic head\n",
    "# V_layer = lasagne.layers.DenseLayer(concat([nn,new_out]),1,nonlinearity=None)\n",
    "\n"
   ]
  },
  {
   "cell_type": "code",
   "execution_count": 97,
   "metadata": {},
   "outputs": [],
   "source": [
    "from lasagne.layers import concat\n",
    "#a layer that predicts Qvalues\n",
    "\n",
    "# policy_layer = <estimate probabilities of actions given prev layer. Mind the nonlinearity!>\n",
    "logits_layer = lasagne.layers.DenseLayer(nn,n_actions,nonlinearity=None)\n",
    "policy_layer = NonlinearityLayer(logits_layer,lasagne.nonlinearities.softmax)\n",
    "\n",
    "# V_layer = <estimate state values (1 unit layer). Mind nonlinearity too.>\n",
    "V_layer = lasagne.layers.DenseLayer(nn,1,nonlinearity=lasagne.nonlinearities.softmax)"
   ]
  },
  {
   "cell_type": "code",
   "execution_count": 98,
   "metadata": {
    "collapsed": true
   },
   "outputs": [],
   "source": [
    "#To pick actions, we use an epsilon-greedy resolver (epsilon is a property)\n",
    "from agentnet.resolver import ProbabilisticResolver\n",
    "action_layer = ProbabilisticResolver(policy_layer,\n",
    "                                     name=\"e-greedy action picker\",\n",
    "                                     assume_normalized=True)"
   ]
  },
  {
   "cell_type": "markdown",
   "metadata": {},
   "source": [
    "##### Finally, agent\n",
    "We declare that this network is and MDP agent with such and such inputs, states and outputs"
   ]
  },
  {
   "cell_type": "code",
   "execution_count": 99,
   "metadata": {},
   "outputs": [],
   "source": [
    "from agentnet.agent import Agent\n",
    "#all together\n",
    "\n",
    "agent = Agent(observation_layers=observation_layer,\n",
    "              policy_estimators=(policy_layer,V_layer),\n",
    "#               agent_states={new_wnd:prev_wnd,new_cell:prev_cell,new_out:prev_out},\n",
    "              action_layers=action_layer)"
   ]
  },
  {
   "cell_type": "code",
   "execution_count": 100,
   "metadata": {},
   "outputs": [
    {
     "data": {
      "text/plain": [
       "[W, b, W, b, W, b, W, b]"
      ]
     },
     "execution_count": 100,
     "metadata": {},
     "output_type": "execute_result"
    }
   ],
   "source": [
    "#Since it's a single lasagne network, one can get it's weights, output, etc\n",
    "weights = lasagne.layers.get_all_params((action_layer,V_layer),trainable=True)\n",
    "weights"
   ]
  },
  {
   "cell_type": "markdown",
   "metadata": {},
   "source": [
    "# Create and manage a pool of atari sessions to play with\n",
    "\n",
    "* To make training more stable, we shall have an entire batch of game sessions each happening independent of others\n",
    "* Why several parallel agents help training: http://arxiv.org/pdf/1602.01783v1.pdf\n",
    "* Alternative approach: store more sessions: https://www.cs.toronto.edu/~vmnih/docs/dqn.pdf"
   ]
  },
  {
   "cell_type": "code",
   "execution_count": 101,
   "metadata": {
    "collapsed": true
   },
   "outputs": [],
   "source": [
    "from gym.wrappers import TimeLimit\n",
    "class EnvMaker:\n",
    "    def __init__(self, name, t_max):\n",
    "        self.name = name\n",
    "        self.t_max = t_max\n",
    "        \n",
    "    def __call__(self):\n",
    "        env = gym.make(self.name).env\n",
    "        env = TimeLimit(env, max_episode_steps=self.t_max)\n",
    "        return env"
   ]
  },
  {
   "cell_type": "code",
   "execution_count": 102,
   "metadata": {},
   "outputs": [
    {
     "name": "stderr",
     "output_type": "stream",
     "text": [
      "[2017-04-02 21:50:08,840] Making new env: MountainCar-v0\n",
      "[2017-04-02 21:50:08,844] Making new env: MountainCar-v0\n",
      "[2017-04-02 21:50:08,846] Making new env: MountainCar-v0\n",
      "[2017-04-02 21:50:08,848] Making new env: MountainCar-v0\n",
      "[2017-04-02 21:50:08,851] Making new env: MountainCar-v0\n",
      "[2017-04-02 21:50:08,853] Making new env: MountainCar-v0\n",
      "[2017-04-02 21:50:08,855] Making new env: MountainCar-v0\n",
      "[2017-04-02 21:50:08,857] Making new env: MountainCar-v0\n",
      "[2017-04-02 21:50:08,860] Making new env: MountainCar-v0\n",
      "[2017-04-02 21:50:08,862] Making new env: MountainCar-v0\n"
     ]
    }
   ],
   "source": [
    "from agentnet.experiments.openai_gym.pool import EnvPool\n",
    "\n",
    "#create a small pool with 10 parallel agents\n",
    "pool = EnvPool(agent,EnvMaker(\"MountainCar-v0\", 10000), n_games=10,max_size=1000) \n",
    "# pool = EnvPool(agent,\"MountainCar-v0\", n_games=10,max_size=1000) \n",
    "\n",
    "#we assume that pool size 1000 is small enough to learn \"almost on policy\" :)"
   ]
  },
  {
   "cell_type": "code",
   "execution_count": 103,
   "metadata": {},
   "outputs": [
    {
     "name": "stdout",
     "output_type": "stream",
     "text": [
      "[[2 0 1 2 1 0 0]\n",
      " [0 2 0 2 0 2 0]\n",
      " [0 1 2 1 0 1 1]]\n",
      "[[-1. -1. -1. -1. -1. -1.  0.]\n",
      " [-1. -1. -1. -1. -1. -1.  0.]\n",
      " [-1. -1. -1. -1. -1. -1.  0.]]\n",
      "CPU times: user 12 ms, sys: 0 ns, total: 12 ms\n",
      "Wall time: 8.7 ms\n"
     ]
    }
   ],
   "source": [
    "%%time\n",
    "#interact for 7 ticks\n",
    "_,action_log,reward_log,_,_,_  = pool.interact(7)\n",
    "\n",
    "\n",
    "print(action_log[:3])\n",
    "print(reward_log[:3])"
   ]
  },
  {
   "cell_type": "code",
   "execution_count": 104,
   "metadata": {},
   "outputs": [],
   "source": [
    "SEQ_LENGTH = 10\n",
    "#load first sessions (this function calls interact and remembers sessions)\n",
    "pool.update(SEQ_LENGTH)"
   ]
  },
  {
   "cell_type": "markdown",
   "metadata": {},
   "source": [
    "# Actor-critic loss\n",
    "\n",
    "Here we define obective function for actor-critic (one-step) RL.\n",
    "\n",
    "* We regularize policy with expected inverse action probabilities (discouraging very small probas) to make objective numerically stable\n"
   ]
  },
  {
   "cell_type": "code",
   "execution_count": 105,
   "metadata": {},
   "outputs": [],
   "source": [
    "#get agent's Qvalues obtained via experience replay\n",
    "replay = pool.experience_replay.sample_session_batch(100)\n",
    "\n",
    "_,_,_,_,(policy_seq,V_seq) = agent.get_sessions(\n",
    "    replay,\n",
    "    session_length=SEQ_LENGTH,\n",
    "    experience_replay=True,\n",
    ")\n",
    "\n"
   ]
  },
  {
   "cell_type": "code",
   "execution_count": 106,
   "metadata": {},
   "outputs": [],
   "source": [
    "from agentnet.learning import a2c                                                   \n",
    "\n",
    "\n",
    "elwise_mse_loss = a2c.get_elementwise_objective(policy_seq,\n",
    "                                                V_seq[:,:,0],\n",
    "                                                replay.actions[0],\n",
    "                                                replay.rewards,\n",
    "                                                replay.is_alive,\n",
    "                                                gamma_or_gammas=0.99,\n",
    "                                                n_steps=1)\n",
    "\n",
    "#compute mean over \"alive\" fragments\n",
    "loss = elwise_mse_loss.sum() / replay.is_alive.sum()\n",
    "\n",
    "loss += 0.01*(1./(policy_seq)).sum(-1).mean()"
   ]
  },
  {
   "cell_type": "code",
   "execution_count": 107,
   "metadata": {},
   "outputs": [],
   "source": [
    "from theano import tensor as T\n",
    "# loss += 0.001 * (policy_seq * T.log(policy_seq)).sum().mean()"
   ]
  },
  {
   "cell_type": "code",
   "execution_count": 108,
   "metadata": {},
   "outputs": [],
   "source": [
    "# Compute weight updates\n",
    "updates = lasagne.updates.adam(loss,weights)"
   ]
  },
  {
   "cell_type": "code",
   "execution_count": 109,
   "metadata": {},
   "outputs": [
    {
     "name": "stderr",
     "output_type": "stream",
     "text": [
      "Exception ignored in: <bound method Monitor.__del__ of <Monitor<TimeLimit<MountainCarEnv<MountainCar-v0>>>>>\n",
      "Traceback (most recent call last):\n",
      "  File \"/home/ubuntu/gym/gym/wrappers/monitoring.py\", line 239, in __del__\n",
      "    self.close()\n",
      "  File \"/home/ubuntu/gym/gym/wrappers/monitoring.py\", line 147, in close\n",
      "    self._close_video_recorder()\n",
      "  File \"/home/ubuntu/gym/gym/wrappers/monitoring.py\", line 222, in _close_video_recorder\n",
      "    self.video_recorder.close()\n",
      "  File \"/home/ubuntu/gym/gym/monitoring/video_recorder.py\", line 134, in close\n",
      "    os.remove(self.path)\n",
      "FileNotFoundError: [Errno 2] No such file or directory: '/home/ubuntu/records/openaigym.video.31.3612.video000000.mp4'\n"
     ]
    }
   ],
   "source": [
    "import theano\n",
    "train_step = theano.function([],loss,updates=updates)"
   ]
  },
  {
   "cell_type": "markdown",
   "metadata": {},
   "source": [
    "# Demo run"
   ]
  },
  {
   "cell_type": "code",
   "execution_count": null,
   "metadata": {},
   "outputs": [],
   "source": [
    "#for MountainCar-v0 evaluation session is cropped to 200 ticks\n",
    "# untrained_reward = pool.evaluate(save_path=\"./records\",record_video=True)\n",
    "\n",
    "#video is in the ./records folder"
   ]
  },
  {
   "cell_type": "markdown",
   "metadata": {},
   "source": [
    "# Training loop\n"
   ]
  },
  {
   "cell_type": "code",
   "execution_count": 111,
   "metadata": {
    "collapsed": true
   },
   "outputs": [],
   "source": [
    "#starting epoch\n",
    "epoch_counter = 1\n",
    "\n",
    "#full game rewards\n",
    "rewards = {}"
   ]
  },
  {
   "cell_type": "code",
   "execution_count": 117,
   "metadata": {
    "scrolled": true
   },
   "outputs": [
    {
     "name": "stdout",
     "output_type": "stream",
     "text": [
      "iter=10100\treward/step=-0.99994\tloss ma=-0.05290\n",
      "iter=10200\treward/step=-1.00000\tloss ma=0.04764\n",
      "iter=10300\treward/step=-0.99978\tloss ma=0.11194\n",
      "iter=10400\treward/step=-0.99994\tloss ma=0.06460\n"
     ]
    },
    {
     "name": "stderr",
     "output_type": "stream",
     "text": [
      "[2017-04-02 22:11:21,559] Making new env: MountainCar-v0\n",
      "[2017-04-02 22:11:21,562] Clearing 2 monitor files from previous run (because force=True was provided)\n"
     ]
    },
    {
     "name": "stdout",
     "output_type": "stream",
     "text": [
      "iter=10500\treward/step=-0.99994\tloss ma=0.04621\n"
     ]
    },
    {
     "name": "stderr",
     "output_type": "stream",
     "text": [
      "[2017-04-02 22:12:15,554] Finished writing results. You can upload them to the scoreboard via gym.upload('/home/ubuntu/records')\n"
     ]
    },
    {
     "name": "stdout",
     "output_type": "stream",
     "text": [
      "Current score(mean over 10) = -10000.000\n",
      "iter=10600\treward/step=-0.99994\tloss ma=0.10614\n",
      "iter=10700\treward/step=-1.00000\tloss ma=0.05976\n",
      "iter=10800\treward/step=-0.99994\tloss ma=0.03368\n",
      "iter=10900\treward/step=-0.99989\tloss ma=0.14037\n"
     ]
    },
    {
     "name": "stderr",
     "output_type": "stream",
     "text": [
      "[2017-04-02 22:12:27,303] Making new env: MountainCar-v0\n",
      "[2017-04-02 22:12:27,306] Clearing 2 monitor files from previous run (because force=True was provided)\n"
     ]
    },
    {
     "name": "stdout",
     "output_type": "stream",
     "text": [
      "iter=11000\treward/step=-1.00000\tloss ma=0.07708\n"
     ]
    },
    {
     "name": "stderr",
     "output_type": "stream",
     "text": [
      "[2017-04-02 22:13:21,343] Finished writing results. You can upload them to the scoreboard via gym.upload('/home/ubuntu/records')\n"
     ]
    },
    {
     "name": "stdout",
     "output_type": "stream",
     "text": [
      "Current score(mean over 10) = -10000.000\n",
      "iter=11100\treward/step=-0.99994\tloss ma=-0.06858\n",
      "iter=11200\treward/step=-0.99983\tloss ma=-0.03470\n",
      "iter=11300\treward/step=-1.00000\tloss ma=-0.22002\n",
      "iter=11400\treward/step=-0.99978\tloss ma=-0.26632\n"
     ]
    },
    {
     "name": "stderr",
     "output_type": "stream",
     "text": [
      "[2017-04-02 22:13:33,224] Making new env: MountainCar-v0\n",
      "[2017-04-02 22:13:33,227] Clearing 2 monitor files from previous run (because force=True was provided)\n"
     ]
    },
    {
     "name": "stdout",
     "output_type": "stream",
     "text": [
      "iter=11500\treward/step=-1.00000\tloss ma=-0.16910\n"
     ]
    },
    {
     "name": "stderr",
     "output_type": "stream",
     "text": [
      "[2017-04-02 22:14:27,201] Finished writing results. You can upload them to the scoreboard via gym.upload('/home/ubuntu/records')\n"
     ]
    },
    {
     "name": "stdout",
     "output_type": "stream",
     "text": [
      "Current score(mean over 10) = -10000.000\n",
      "iter=11600\treward/step=-0.99994\tloss ma=-0.12732\n",
      "iter=11700\treward/step=-0.99994\tloss ma=-0.02350\n",
      "iter=11800\treward/step=-1.00000\tloss ma=0.02063\n",
      "iter=11900\treward/step=-0.99994\tloss ma=0.09324\n"
     ]
    },
    {
     "name": "stderr",
     "output_type": "stream",
     "text": [
      "[2017-04-02 22:14:38,974] Making new env: MountainCar-v0\n",
      "[2017-04-02 22:14:38,977] Clearing 2 monitor files from previous run (because force=True was provided)\n"
     ]
    },
    {
     "name": "stdout",
     "output_type": "stream",
     "text": [
      "iter=12000\treward/step=-0.99983\tloss ma=0.06887\n"
     ]
    },
    {
     "name": "stderr",
     "output_type": "stream",
     "text": [
      "[2017-04-02 22:14:57,461] Finished writing results. You can upload them to the scoreboard via gym.upload('/home/ubuntu/records')\n"
     ]
    },
    {
     "name": "stdout",
     "output_type": "stream",
     "text": [
      "Current score(mean over 10) = -3421.100\n",
      "iter=12100\treward/step=-1.00000\tloss ma=0.05965\n",
      "iter=12200\treward/step=-1.00000\tloss ma=0.15238\n",
      "iter=12300\treward/step=-0.99989\tloss ma=0.18164\n",
      "iter=12400\treward/step=-1.00000\tloss ma=0.09818\n"
     ]
    },
    {
     "name": "stderr",
     "output_type": "stream",
     "text": [
      "[2017-04-02 22:15:09,391] Making new env: MountainCar-v0\n",
      "[2017-04-02 22:15:09,394] Clearing 2 monitor files from previous run (because force=True was provided)\n"
     ]
    },
    {
     "name": "stdout",
     "output_type": "stream",
     "text": [
      "iter=12500\treward/step=-0.99978\tloss ma=0.07354\n"
     ]
    },
    {
     "name": "stderr",
     "output_type": "stream",
     "text": [
      "[2017-04-02 22:15:35,199] Finished writing results. You can upload them to the scoreboard via gym.upload('/home/ubuntu/records')\n"
     ]
    },
    {
     "name": "stdout",
     "output_type": "stream",
     "text": [
      "Current score(mean over 10) = -4804.200\n",
      "iter=12600\treward/step=-1.00000\tloss ma=0.07401\n",
      "iter=12700\treward/step=-0.99994\tloss ma=0.04702\n",
      "iter=12800\treward/step=-0.99994\tloss ma=0.03974\n",
      "iter=12900\treward/step=-1.00000\tloss ma=0.02908\n"
     ]
    },
    {
     "name": "stderr",
     "output_type": "stream",
     "text": [
      "[2017-04-02 22:15:47,100] Making new env: MountainCar-v0\n",
      "[2017-04-02 22:15:47,102] Clearing 2 monitor files from previous run (because force=True was provided)\n"
     ]
    },
    {
     "name": "stdout",
     "output_type": "stream",
     "text": [
      "iter=13000\treward/step=-1.00000\tloss ma=0.01966\n"
     ]
    },
    {
     "name": "stderr",
     "output_type": "stream",
     "text": [
      "[2017-04-02 22:16:33,431] Finished writing results. You can upload them to the scoreboard via gym.upload('/home/ubuntu/records')\n"
     ]
    },
    {
     "name": "stdout",
     "output_type": "stream",
     "text": [
      "Current score(mean over 10) = -8600.200\n",
      "iter=13100\treward/step=-0.99989\tloss ma=0.01359\n",
      "iter=13200\treward/step=-0.99994\tloss ma=0.01384\n",
      "iter=13300\treward/step=-1.00000\tloss ma=0.01291\n",
      "iter=13400\treward/step=-0.99978\tloss ma=0.01053\n"
     ]
    },
    {
     "name": "stderr",
     "output_type": "stream",
     "text": [
      "[2017-04-02 22:16:45,151] Making new env: MountainCar-v0\n",
      "[2017-04-02 22:16:45,154] Clearing 2 monitor files from previous run (because force=True was provided)\n"
     ]
    },
    {
     "name": "stdout",
     "output_type": "stream",
     "text": [
      "iter=13500\treward/step=-0.99994\tloss ma=0.01208\n"
     ]
    },
    {
     "name": "stderr",
     "output_type": "stream",
     "text": [
      "[2017-04-02 22:17:15,487] Finished writing results. You can upload them to the scoreboard via gym.upload('/home/ubuntu/records')\n"
     ]
    },
    {
     "name": "stdout",
     "output_type": "stream",
     "text": [
      "Current score(mean over 10) = -5625.900\n",
      "iter=13600\treward/step=-0.99989\tloss ma=0.01847\n",
      "iter=13700\treward/step=-1.00000\tloss ma=0.01542\n",
      "iter=13800\treward/step=-0.99994\tloss ma=0.01732\n",
      "iter=13900\treward/step=-1.00000\tloss ma=0.02106\n"
     ]
    },
    {
     "name": "stderr",
     "output_type": "stream",
     "text": [
      "[2017-04-02 22:17:27,213] Making new env: MountainCar-v0\n",
      "[2017-04-02 22:17:27,216] Clearing 2 monitor files from previous run (because force=True was provided)\n"
     ]
    },
    {
     "name": "stdout",
     "output_type": "stream",
     "text": [
      "iter=14000\treward/step=-1.00000\tloss ma=0.01269\n"
     ]
    },
    {
     "name": "stderr",
     "output_type": "stream",
     "text": [
      "[2017-04-02 22:18:09,468] Finished writing results. You can upload them to the scoreboard via gym.upload('/home/ubuntu/records')\n"
     ]
    },
    {
     "name": "stdout",
     "output_type": "stream",
     "text": [
      "Current score(mean over 10) = -7858.400\n",
      "iter=14100\treward/step=-0.99983\tloss ma=0.01009\n",
      "iter=14200\treward/step=-0.99989\tloss ma=0.11477\n",
      "iter=14300\treward/step=-0.99994\tloss ma=0.03634\n",
      "iter=14400\treward/step=-1.00000\tloss ma=0.15368\n"
     ]
    },
    {
     "name": "stderr",
     "output_type": "stream",
     "text": [
      "[2017-04-02 22:18:21,324] Making new env: MountainCar-v0\n",
      "[2017-04-02 22:18:21,327] Clearing 2 monitor files from previous run (because force=True was provided)\n"
     ]
    },
    {
     "name": "stdout",
     "output_type": "stream",
     "text": [
      "iter=14500\treward/step=-0.99983\tloss ma=-0.00254\n"
     ]
    },
    {
     "name": "stderr",
     "output_type": "stream",
     "text": [
      "[2017-04-02 22:19:03,230] Finished writing results. You can upload them to the scoreboard via gym.upload('/home/ubuntu/records')\n"
     ]
    },
    {
     "name": "stdout",
     "output_type": "stream",
     "text": [
      "Current score(mean over 10) = -7795.200\n",
      "iter=14600\treward/step=-1.00000\tloss ma=0.07679\n",
      "iter=14700\treward/step=-0.99983\tloss ma=-0.19135\n",
      "iter=14800\treward/step=-1.00000\tloss ma=-0.23701\n",
      "iter=14900\treward/step=-1.00000\tloss ma=-0.25868\n"
     ]
    },
    {
     "name": "stderr",
     "output_type": "stream",
     "text": [
      "[2017-04-02 22:19:15,107] Making new env: MountainCar-v0\n",
      "[2017-04-02 22:19:15,110] Clearing 2 monitor files from previous run (because force=True was provided)\n"
     ]
    },
    {
     "name": "stdout",
     "output_type": "stream",
     "text": [
      "iter=15000\treward/step=-0.99989\tloss ma=-0.27362\n"
     ]
    },
    {
     "name": "stderr",
     "output_type": "stream",
     "text": [
      "[2017-04-02 22:20:09,204] Finished writing results. You can upload them to the scoreboard via gym.upload('/home/ubuntu/records')\n"
     ]
    },
    {
     "name": "stdout",
     "output_type": "stream",
     "text": [
      "Current score(mean over 10) = -10000.000\n",
      "iter=15100\treward/step=-1.00000\tloss ma=-0.18967\n",
      "iter=15200\treward/step=-0.99983\tloss ma=-0.08709\n",
      "iter=15300\treward/step=-0.99994\tloss ma=-0.03497\n",
      "iter=15400\treward/step=-1.00000\tloss ma=0.11577\n"
     ]
    },
    {
     "name": "stderr",
     "output_type": "stream",
     "text": [
      "[2017-04-02 22:20:20,917] Making new env: MountainCar-v0\n",
      "[2017-04-02 22:20:20,920] Clearing 2 monitor files from previous run (because force=True was provided)\n"
     ]
    },
    {
     "name": "stdout",
     "output_type": "stream",
     "text": [
      "iter=15500\treward/step=-1.00000\tloss ma=0.14383\n"
     ]
    },
    {
     "name": "stderr",
     "output_type": "stream",
     "text": [
      "[2017-04-02 22:21:14,924] Finished writing results. You can upload them to the scoreboard via gym.upload('/home/ubuntu/records')\n"
     ]
    },
    {
     "name": "stdout",
     "output_type": "stream",
     "text": [
      "Current score(mean over 10) = -10000.000\n",
      "iter=15600\treward/step=-0.99989\tloss ma=0.02922\n",
      "iter=15700\treward/step=-0.99994\tloss ma=0.06939\n",
      "iter=15800\treward/step=-0.99989\tloss ma=0.11854\n",
      "iter=15900\treward/step=-0.99994\tloss ma=0.11431\n"
     ]
    },
    {
     "name": "stderr",
     "output_type": "stream",
     "text": [
      "[2017-04-02 22:21:26,798] Making new env: MountainCar-v0\n",
      "[2017-04-02 22:21:26,801] Clearing 2 monitor files from previous run (because force=True was provided)\n"
     ]
    },
    {
     "name": "stdout",
     "output_type": "stream",
     "text": [
      "iter=16000\treward/step=-1.00000\tloss ma=0.09294\n"
     ]
    },
    {
     "name": "stderr",
     "output_type": "stream",
     "text": [
      "[2017-04-02 22:22:21,984] Finished writing results. You can upload them to the scoreboard via gym.upload('/home/ubuntu/records')\n"
     ]
    },
    {
     "name": "stdout",
     "output_type": "stream",
     "text": [
      "Current score(mean over 10) = -10000.000\n",
      "iter=16100\treward/step=-0.99994\tloss ma=0.09688\n",
      "iter=16200\treward/step=-1.00000\tloss ma=0.03726\n",
      "iter=16300\treward/step=-0.99989\tloss ma=0.04190\n",
      "iter=16400\treward/step=-0.99994\tloss ma=0.04220\n"
     ]
    },
    {
     "name": "stderr",
     "output_type": "stream",
     "text": [
      "[2017-04-02 22:22:33,745] Making new env: MountainCar-v0\n",
      "[2017-04-02 22:22:33,748] Clearing 2 monitor files from previous run (because force=True was provided)\n"
     ]
    },
    {
     "name": "stdout",
     "output_type": "stream",
     "text": [
      "iter=16500\treward/step=-0.99994\tloss ma=0.02442\n"
     ]
    },
    {
     "name": "stderr",
     "output_type": "stream",
     "text": [
      "[2017-04-02 22:23:13,622] Finished writing results. You can upload them to the scoreboard via gym.upload('/home/ubuntu/records')\n"
     ]
    },
    {
     "name": "stdout",
     "output_type": "stream",
     "text": [
      "Current score(mean over 10) = -7371.300\n",
      "iter=16600\treward/step=-1.00000\tloss ma=0.02495\n",
      "iter=16700\treward/step=-0.99972\tloss ma=0.04589\n",
      "iter=16800\treward/step=-0.99994\tloss ma=0.01762\n",
      "iter=16900\treward/step=-0.99994\tloss ma=0.03638\n"
     ]
    },
    {
     "name": "stderr",
     "output_type": "stream",
     "text": [
      "[2017-04-02 22:23:25,492] Making new env: MountainCar-v0\n",
      "[2017-04-02 22:23:25,495] Clearing 2 monitor files from previous run (because force=True was provided)\n"
     ]
    },
    {
     "name": "stdout",
     "output_type": "stream",
     "text": [
      "iter=17000\treward/step=-0.99994\tloss ma=0.05260\n"
     ]
    },
    {
     "name": "stderr",
     "output_type": "stream",
     "text": [
      "[2017-04-02 22:24:19,698] Finished writing results. You can upload them to the scoreboard via gym.upload('/home/ubuntu/records')\n"
     ]
    },
    {
     "name": "stdout",
     "output_type": "stream",
     "text": [
      "Current score(mean over 10) = -10000.000\n",
      "iter=17100\treward/step=-1.00000\tloss ma=0.03169\n",
      "iter=17200\treward/step=-0.99994\tloss ma=0.02091\n",
      "iter=17300\treward/step=-0.99967\tloss ma=0.12842\n",
      "iter=17400\treward/step=-1.00000\tloss ma=0.03560\n"
     ]
    },
    {
     "name": "stderr",
     "output_type": "stream",
     "text": [
      "[2017-04-02 22:24:31,523] Making new env: MountainCar-v0\n",
      "[2017-04-02 22:24:31,526] Clearing 2 monitor files from previous run (because force=True was provided)\n"
     ]
    },
    {
     "name": "stdout",
     "output_type": "stream",
     "text": [
      "iter=17500\treward/step=-0.99994\tloss ma=-0.00666\n"
     ]
    },
    {
     "name": "stderr",
     "output_type": "stream",
     "text": [
      "[2017-04-02 22:25:25,726] Finished writing results. You can upload them to the scoreboard via gym.upload('/home/ubuntu/records')\n"
     ]
    },
    {
     "name": "stdout",
     "output_type": "stream",
     "text": [
      "Current score(mean over 10) = -10000.000\n",
      "iter=17600\treward/step=-0.99994\tloss ma=-0.03347\n",
      "iter=17700\treward/step=-0.99994\tloss ma=-0.04880\n",
      "iter=17800\treward/step=-1.00000\tloss ma=-0.15609\n",
      "iter=17900\treward/step=-0.99989\tloss ma=-0.31986\n"
     ]
    },
    {
     "name": "stderr",
     "output_type": "stream",
     "text": [
      "[2017-04-02 22:25:37,611] Making new env: MountainCar-v0\n",
      "[2017-04-02 22:25:37,615] Clearing 2 monitor files from previous run (because force=True was provided)\n"
     ]
    },
    {
     "name": "stdout",
     "output_type": "stream",
     "text": [
      "iter=18000\treward/step=-1.00000\tloss ma=-0.24451\n"
     ]
    },
    {
     "name": "stderr",
     "output_type": "stream",
     "text": [
      "[2017-04-02 22:26:32,852] Finished writing results. You can upload them to the scoreboard via gym.upload('/home/ubuntu/records')\n"
     ]
    },
    {
     "name": "stdout",
     "output_type": "stream",
     "text": [
      "Current score(mean over 10) = -10000.000\n",
      "iter=18100\treward/step=-0.99989\tloss ma=-0.12623\n",
      "iter=18200\treward/step=-1.00000\tloss ma=-0.06798\n",
      "iter=18300\treward/step=-1.00000\tloss ma=-0.04033\n",
      "iter=18400\treward/step=-0.99967\tloss ma=-0.06759\n"
     ]
    },
    {
     "name": "stderr",
     "output_type": "stream",
     "text": [
      "[2017-04-02 22:26:44,561] Making new env: MountainCar-v0\n",
      "[2017-04-02 22:26:44,565] Clearing 2 monitor files from previous run (because force=True was provided)\n"
     ]
    },
    {
     "name": "stdout",
     "output_type": "stream",
     "text": [
      "iter=18500\treward/step=-0.99994\tloss ma=0.07354\n"
     ]
    },
    {
     "name": "stderr",
     "output_type": "stream",
     "text": [
      "[2017-04-02 22:27:38,910] Finished writing results. You can upload them to the scoreboard via gym.upload('/home/ubuntu/records')\n"
     ]
    },
    {
     "name": "stdout",
     "output_type": "stream",
     "text": [
      "Current score(mean over 10) = -10000.000\n",
      "iter=18600\treward/step=-0.99994\tloss ma=0.15550\n",
      "iter=18700\treward/step=-1.00000\tloss ma=0.11241\n",
      "iter=18800\treward/step=-0.99989\tloss ma=0.00970\n",
      "iter=18900\treward/step=-0.99994\tloss ma=0.15967\n"
     ]
    },
    {
     "name": "stderr",
     "output_type": "stream",
     "text": [
      "[2017-04-02 22:27:50,794] Making new env: MountainCar-v0\n",
      "[2017-04-02 22:27:50,797] Clearing 2 monitor files from previous run (because force=True was provided)\n"
     ]
    },
    {
     "name": "stdout",
     "output_type": "stream",
     "text": [
      "iter=19000\treward/step=-0.99989\tloss ma=0.11871\n"
     ]
    },
    {
     "name": "stderr",
     "output_type": "stream",
     "text": [
      "[2017-04-02 22:28:45,160] Finished writing results. You can upload them to the scoreboard via gym.upload('/home/ubuntu/records')\n"
     ]
    },
    {
     "name": "stdout",
     "output_type": "stream",
     "text": [
      "Current score(mean over 10) = -10000.000\n",
      "iter=19100\treward/step=-1.00000\tloss ma=0.11821\n",
      "iter=19200\treward/step=-1.00000\tloss ma=0.07767\n",
      "iter=19300\treward/step=-1.00000\tloss ma=0.11170\n",
      "iter=19400\treward/step=-0.99983\tloss ma=0.05486\n"
     ]
    },
    {
     "name": "stderr",
     "output_type": "stream",
     "text": [
      "[2017-04-02 22:28:56,872] Making new env: MountainCar-v0\n",
      "[2017-04-02 22:28:56,875] Clearing 2 monitor files from previous run (because force=True was provided)\n"
     ]
    },
    {
     "name": "stdout",
     "output_type": "stream",
     "text": [
      "iter=19500\treward/step=-1.00000\tloss ma=0.10510\n"
     ]
    },
    {
     "name": "stderr",
     "output_type": "stream",
     "text": [
      "[2017-04-02 22:29:38,936] Finished writing results. You can upload them to the scoreboard via gym.upload('/home/ubuntu/records')\n"
     ]
    },
    {
     "name": "stdout",
     "output_type": "stream",
     "text": [
      "Current score(mean over 10) = -7741.300\n",
      "iter=19600\treward/step=-0.99994\tloss ma=0.06417\n",
      "iter=19700\treward/step=-0.99994\tloss ma=0.03166\n",
      "iter=19800\treward/step=-1.00000\tloss ma=0.01887\n",
      "iter=19900\treward/step=-0.99989\tloss ma=0.01493\n"
     ]
    },
    {
     "name": "stderr",
     "output_type": "stream",
     "text": [
      "[2017-04-02 22:29:50,817] Making new env: MountainCar-v0\n",
      "[2017-04-02 22:29:50,820] Clearing 2 monitor files from previous run (because force=True was provided)\n"
     ]
    },
    {
     "name": "stdout",
     "output_type": "stream",
     "text": [
      "iter=20000\treward/step=-0.99994\tloss ma=0.01239\n"
     ]
    },
    {
     "name": "stderr",
     "output_type": "stream",
     "text": [
      "[2017-04-02 22:30:44,737] Finished writing results. You can upload them to the scoreboard via gym.upload('/home/ubuntu/records')\n"
     ]
    },
    {
     "name": "stdout",
     "output_type": "stream",
     "text": [
      "Current score(mean over 10) = -9957.800\n",
      "iter=20100\treward/step=-0.99989\tloss ma=0.01113\n",
      "iter=20200\treward/step=-1.00000\tloss ma=0.01093\n",
      "iter=20300\treward/step=-1.00000\tloss ma=0.01016\n",
      "iter=20400\treward/step=-1.00000\tloss ma=0.00998\n"
     ]
    },
    {
     "name": "stderr",
     "output_type": "stream",
     "text": [
      "[2017-04-02 22:30:56,567] Making new env: MountainCar-v0\n",
      "[2017-04-02 22:30:56,570] Clearing 2 monitor files from previous run (because force=True was provided)\n"
     ]
    },
    {
     "name": "stdout",
     "output_type": "stream",
     "text": [
      "iter=20500\treward/step=-0.99983\tloss ma=0.01034\n"
     ]
    },
    {
     "name": "stderr",
     "output_type": "stream",
     "text": [
      "[2017-04-02 22:31:51,045] Finished writing results. You can upload them to the scoreboard via gym.upload('/home/ubuntu/records')\n"
     ]
    },
    {
     "name": "stdout",
     "output_type": "stream",
     "text": [
      "Current score(mean over 10) = -10000.000\n",
      "iter=20600\treward/step=-0.99994\tloss ma=0.01128\n",
      "iter=20700\treward/step=-1.00000\tloss ma=0.01105\n",
      "iter=20800\treward/step=-0.99989\tloss ma=0.01149\n",
      "iter=20900\treward/step=-1.00000\tloss ma=0.01103\n"
     ]
    },
    {
     "name": "stderr",
     "output_type": "stream",
     "text": [
      "[2017-04-02 22:32:02,949] Making new env: MountainCar-v0\n",
      "[2017-04-02 22:32:02,951] Clearing 2 monitor files from previous run (because force=True was provided)\n"
     ]
    },
    {
     "name": "stdout",
     "output_type": "stream",
     "text": [
      "iter=21000\treward/step=-0.99989\tloss ma=0.01021\n"
     ]
    },
    {
     "name": "stderr",
     "output_type": "stream",
     "text": [
      "[2017-04-02 22:32:50,292] Finished writing results. You can upload them to the scoreboard via gym.upload('/home/ubuntu/records')\n"
     ]
    },
    {
     "name": "stdout",
     "output_type": "stream",
     "text": [
      "Current score(mean over 10) = -8720.300\n",
      "iter=21100\treward/step=-0.99989\tloss ma=0.01400\n",
      "iter=21200\treward/step=-0.99994\tloss ma=0.01269\n",
      "iter=21300\treward/step=-1.00000\tloss ma=0.01124\n",
      "iter=21400\treward/step=-1.00000\tloss ma=0.01786\n"
     ]
    },
    {
     "name": "stderr",
     "output_type": "stream",
     "text": [
      "[2017-04-02 22:33:02,178] Making new env: MountainCar-v0\n",
      "[2017-04-02 22:33:02,181] Clearing 2 monitor files from previous run (because force=True was provided)\n"
     ]
    },
    {
     "name": "stdout",
     "output_type": "stream",
     "text": [
      "iter=21500\treward/step=-1.00000\tloss ma=0.03477\n"
     ]
    },
    {
     "name": "stderr",
     "output_type": "stream",
     "text": [
      "[2017-04-02 22:33:56,296] Finished writing results. You can upload them to the scoreboard via gym.upload('/home/ubuntu/records')\n"
     ]
    },
    {
     "name": "stdout",
     "output_type": "stream",
     "text": [
      "Current score(mean over 10) = -10000.000\n",
      "iter=21600\treward/step=-0.99983\tloss ma=0.02553\n",
      "iter=21700\treward/step=-0.99989\tloss ma=0.03343\n",
      "iter=21800\treward/step=-1.00000\tloss ma=-0.01466\n",
      "iter=21900\treward/step=-0.99978\tloss ma=-0.22137\n"
     ]
    },
    {
     "name": "stderr",
     "output_type": "stream",
     "text": [
      "[2017-04-02 22:34:08,169] Making new env: MountainCar-v0\n",
      "[2017-04-02 22:34:08,172] Clearing 2 monitor files from previous run (because force=True was provided)\n"
     ]
    },
    {
     "name": "stdout",
     "output_type": "stream",
     "text": [
      "iter=22000\treward/step=-1.00000\tloss ma=-0.36045\n"
     ]
    },
    {
     "name": "stderr",
     "output_type": "stream",
     "text": [
      "[2017-04-02 22:35:02,395] Finished writing results. You can upload them to the scoreboard via gym.upload('/home/ubuntu/records')\n"
     ]
    },
    {
     "name": "stdout",
     "output_type": "stream",
     "text": [
      "Current score(mean over 10) = -10000.000\n",
      "iter=22100\treward/step=-0.99994\tloss ma=-0.35452\n",
      "iter=22200\treward/step=-0.99994\tloss ma=-0.30656\n",
      "iter=22300\treward/step=-0.99983\tloss ma=-0.28801\n",
      "iter=22400\treward/step=-1.00000\tloss ma=-0.18346\n"
     ]
    },
    {
     "name": "stderr",
     "output_type": "stream",
     "text": [
      "[2017-04-02 22:35:14,246] Making new env: MountainCar-v0\n",
      "[2017-04-02 22:35:14,249] Clearing 2 monitor files from previous run (because force=True was provided)\n"
     ]
    },
    {
     "name": "stdout",
     "output_type": "stream",
     "text": [
      "iter=22500\treward/step=-1.00000\tloss ma=-0.07207\n"
     ]
    },
    {
     "name": "stderr",
     "output_type": "stream",
     "text": [
      "[2017-04-02 22:36:08,767] Finished writing results. You can upload them to the scoreboard via gym.upload('/home/ubuntu/records')\n"
     ]
    },
    {
     "name": "stdout",
     "output_type": "stream",
     "text": [
      "Current score(mean over 10) = -10000.000\n",
      "iter=22600\treward/step=-0.99989\tloss ma=-0.06905\n",
      "iter=22700\treward/step=-0.99983\tloss ma=0.01471\n",
      "iter=22800\treward/step=-0.99994\tloss ma=0.08529\n",
      "iter=22900\treward/step=-1.00000\tloss ma=0.14765\n"
     ]
    },
    {
     "name": "stderr",
     "output_type": "stream",
     "text": [
      "[2017-04-02 22:36:20,630] Making new env: MountainCar-v0\n",
      "[2017-04-02 22:36:20,633] Clearing 2 monitor files from previous run (because force=True was provided)\n"
     ]
    },
    {
     "name": "stdout",
     "output_type": "stream",
     "text": [
      "iter=23000\treward/step=-0.99972\tloss ma=0.04295\n"
     ]
    },
    {
     "name": "stderr",
     "output_type": "stream",
     "text": [
      "[2017-04-02 22:36:53,153] Finished writing results. You can upload them to the scoreboard via gym.upload('/home/ubuntu/records')\n"
     ]
    },
    {
     "name": "stdout",
     "output_type": "stream",
     "text": [
      "Current score(mean over 10) = -6008.900\n",
      "iter=23100\treward/step=-0.99994\tloss ma=0.14040\n",
      "iter=23200\treward/step=-0.99994\tloss ma=0.13014\n",
      "iter=23300\treward/step=-1.00000\tloss ma=0.11958\n",
      "iter=23400\treward/step=-0.99994\tloss ma=0.06698\n"
     ]
    },
    {
     "name": "stderr",
     "output_type": "stream",
     "text": [
      "[2017-04-02 22:37:05,030] Making new env: MountainCar-v0\n",
      "[2017-04-02 22:37:05,034] Clearing 2 monitor files from previous run (because force=True was provided)\n"
     ]
    },
    {
     "name": "stdout",
     "output_type": "stream",
     "text": [
      "iter=23500\treward/step=-1.00000\tloss ma=0.07221\n"
     ]
    },
    {
     "name": "stderr",
     "output_type": "stream",
     "text": [
      "[2017-04-02 22:37:42,099] Finished writing results. You can upload them to the scoreboard via gym.upload('/home/ubuntu/records')\n"
     ]
    },
    {
     "name": "stdout",
     "output_type": "stream",
     "text": [
      "Current score(mean over 10) = -6832.900\n",
      "iter=23600\treward/step=-0.99994\tloss ma=0.04573\n",
      "iter=23700\treward/step=-0.99994\tloss ma=0.03069\n",
      "iter=23800\treward/step=-0.99994\tloss ma=0.02460\n",
      "iter=23900\treward/step=-1.00000\tloss ma=0.01793\n"
     ]
    },
    {
     "name": "stderr",
     "output_type": "stream",
     "text": [
      "[2017-04-02 22:37:54,006] Making new env: MountainCar-v0\n",
      "[2017-04-02 22:37:54,009] Clearing 2 monitor files from previous run (because force=True was provided)\n"
     ]
    },
    {
     "name": "stdout",
     "output_type": "stream",
     "text": [
      "iter=24000\treward/step=-0.99994\tloss ma=0.01387\n"
     ]
    },
    {
     "name": "stderr",
     "output_type": "stream",
     "text": [
      "[2017-04-02 22:38:48,563] Finished writing results. You can upload them to the scoreboard via gym.upload('/home/ubuntu/records')\n"
     ]
    },
    {
     "name": "stdout",
     "output_type": "stream",
     "text": [
      "Current score(mean over 10) = -10000.000\n",
      "iter=24100\treward/step=-0.99972\tloss ma=0.01197\n",
      "iter=24200\treward/step=-1.00000\tloss ma=0.01077\n",
      "iter=24300\treward/step=-1.00000\tloss ma=0.01062\n",
      "iter=24400\treward/step=-1.00000\tloss ma=0.01200\n"
     ]
    },
    {
     "name": "stderr",
     "output_type": "stream",
     "text": [
      "[2017-04-02 22:39:00,352] Making new env: MountainCar-v0\n",
      "[2017-04-02 22:39:00,355] Clearing 2 monitor files from previous run (because force=True was provided)\n"
     ]
    },
    {
     "name": "stdout",
     "output_type": "stream",
     "text": [
      "iter=24500\treward/step=-0.99994\tloss ma=0.01129\n"
     ]
    },
    {
     "name": "stderr",
     "output_type": "stream",
     "text": [
      "[2017-04-02 22:39:49,185] Finished writing results. You can upload them to the scoreboard via gym.upload('/home/ubuntu/records')\n"
     ]
    },
    {
     "name": "stdout",
     "output_type": "stream",
     "text": [
      "Current score(mean over 10) = -9047.300\n",
      "iter=24600\treward/step=-1.00000\tloss ma=0.01157\n",
      "iter=24700\treward/step=-0.99994\tloss ma=0.01145\n",
      "iter=24800\treward/step=-0.99983\tloss ma=0.01146\n",
      "iter=24900\treward/step=-1.00000\tloss ma=0.01141\n"
     ]
    },
    {
     "name": "stderr",
     "output_type": "stream",
     "text": [
      "[2017-04-02 22:40:01,061] Making new env: MountainCar-v0\n",
      "[2017-04-02 22:40:01,064] Clearing 2 monitor files from previous run (because force=True was provided)\n"
     ]
    },
    {
     "name": "stdout",
     "output_type": "stream",
     "text": [
      "iter=25000\treward/step=-1.00000\tloss ma=0.01120\n"
     ]
    },
    {
     "name": "stderr",
     "output_type": "stream",
     "text": [
      "[2017-04-02 22:40:53,433] Finished writing results. You can upload them to the scoreboard via gym.upload('/home/ubuntu/records')\n"
     ]
    },
    {
     "name": "stdout",
     "output_type": "stream",
     "text": [
      "Current score(mean over 10) = -9618.000\n",
      "iter=25100\treward/step=-0.99994\tloss ma=0.03752\n",
      "iter=25200\treward/step=-0.99983\tloss ma=0.14449\n",
      "iter=25300\treward/step=-0.99989\tloss ma=0.02251\n",
      "iter=25400\treward/step=-0.99989\tloss ma=0.15658\n"
     ]
    },
    {
     "name": "stderr",
     "output_type": "stream",
     "text": [
      "[2017-04-02 22:41:05,124] Making new env: MountainCar-v0\n",
      "[2017-04-02 22:41:05,127] Clearing 2 monitor files from previous run (because force=True was provided)\n"
     ]
    },
    {
     "name": "stdout",
     "output_type": "stream",
     "text": [
      "iter=25500\treward/step=-1.00000\tloss ma=0.00768\n"
     ]
    },
    {
     "name": "stderr",
     "output_type": "stream",
     "text": [
      "[2017-04-02 22:42:00,174] Finished writing results. You can upload them to the scoreboard via gym.upload('/home/ubuntu/records')\n"
     ]
    },
    {
     "name": "stdout",
     "output_type": "stream",
     "text": [
      "Current score(mean over 10) = -10000.000\n",
      "iter=25600\treward/step=-0.99983\tloss ma=-0.13996\n",
      "iter=25700\treward/step=-0.99989\tloss ma=-0.22062\n",
      "iter=25800\treward/step=-1.00000\tloss ma=-0.37127\n",
      "iter=25900\treward/step=-0.99994\tloss ma=-0.24304\n"
     ]
    },
    {
     "name": "stderr",
     "output_type": "stream",
     "text": [
      "[2017-04-02 22:42:12,054] Making new env: MountainCar-v0\n",
      "[2017-04-02 22:42:12,057] Clearing 2 monitor files from previous run (because force=True was provided)\n"
     ]
    },
    {
     "name": "stdout",
     "output_type": "stream",
     "text": [
      "iter=26000\treward/step=-0.99994\tloss ma=-0.10709\n"
     ]
    },
    {
     "name": "stderr",
     "output_type": "stream",
     "text": [
      "[2017-04-02 22:42:32,891] Finished writing results. You can upload them to the scoreboard via gym.upload('/home/ubuntu/records')\n"
     ]
    },
    {
     "name": "stdout",
     "output_type": "stream",
     "text": [
      "Current score(mean over 10) = -3847.000\n",
      "iter=26100\treward/step=-1.00000\tloss ma=-0.11054\n",
      "iter=26200\treward/step=-1.00000\tloss ma=-0.04427\n",
      "iter=26300\treward/step=-0.99983\tloss ma=0.01429\n",
      "iter=26400\treward/step=-0.99978\tloss ma=0.00709\n"
     ]
    },
    {
     "name": "stderr",
     "output_type": "stream",
     "text": [
      "[2017-04-02 22:42:44,768] Making new env: MountainCar-v0\n",
      "[2017-04-02 22:42:44,772] Clearing 2 monitor files from previous run (because force=True was provided)\n"
     ]
    },
    {
     "name": "stdout",
     "output_type": "stream",
     "text": [
      "iter=26500\treward/step=-1.00000\tloss ma=0.06203\n"
     ]
    },
    {
     "name": "stderr",
     "output_type": "stream",
     "text": [
      "[2017-04-02 22:43:39,251] Finished writing results. You can upload them to the scoreboard via gym.upload('/home/ubuntu/records')\n"
     ]
    },
    {
     "name": "stdout",
     "output_type": "stream",
     "text": [
      "Current score(mean over 10) = -10000.000\n",
      "iter=26600\treward/step=-1.00000\tloss ma=0.07365\n",
      "iter=26700\treward/step=-0.99978\tloss ma=0.02034\n",
      "iter=26800\treward/step=-0.99994\tloss ma=0.04937\n",
      "iter=26900\treward/step=-1.00000\tloss ma=0.14005\n"
     ]
    },
    {
     "name": "stderr",
     "output_type": "stream",
     "text": [
      "[2017-04-02 22:43:51,078] Making new env: MountainCar-v0\n",
      "[2017-04-02 22:43:51,080] Clearing 2 monitor files from previous run (because force=True was provided)\n"
     ]
    },
    {
     "name": "stdout",
     "output_type": "stream",
     "text": [
      "iter=27000\treward/step=-1.00000\tloss ma=0.17050\n"
     ]
    },
    {
     "name": "stderr",
     "output_type": "stream",
     "text": [
      "[2017-04-02 22:44:45,267] Finished writing results. You can upload them to the scoreboard via gym.upload('/home/ubuntu/records')\n"
     ]
    },
    {
     "name": "stdout",
     "output_type": "stream",
     "text": [
      "Current score(mean over 10) = -10000.000\n",
      "iter=27100\treward/step=-0.99994\tloss ma=0.10586\n",
      "iter=27200\treward/step=-0.99994\tloss ma=0.08866\n",
      "iter=27300\treward/step=-1.00000\tloss ma=0.17002\n",
      "iter=27400\treward/step=-0.99994\tloss ma=0.08083\n"
     ]
    },
    {
     "name": "stderr",
     "output_type": "stream",
     "text": [
      "[2017-04-02 22:44:57,139] Making new env: MountainCar-v0\n",
      "[2017-04-02 22:44:57,142] Clearing 2 monitor files from previous run (because force=True was provided)\n"
     ]
    },
    {
     "name": "stdout",
     "output_type": "stream",
     "text": [
      "iter=27500\treward/step=-0.99983\tloss ma=0.06146\n"
     ]
    },
    {
     "name": "stderr",
     "output_type": "stream",
     "text": [
      "[2017-04-02 22:45:51,615] Finished writing results. You can upload them to the scoreboard via gym.upload('/home/ubuntu/records')\n"
     ]
    },
    {
     "name": "stdout",
     "output_type": "stream",
     "text": [
      "Current score(mean over 10) = -10000.000\n",
      "iter=27600\treward/step=-1.00000\tloss ma=0.05945\n",
      "iter=27700\treward/step=-0.99994\tloss ma=0.03816\n",
      "iter=27800\treward/step=-0.99983\tloss ma=0.02606\n",
      "iter=27900\treward/step=-1.00000\tloss ma=0.01721\n"
     ]
    },
    {
     "name": "stderr",
     "output_type": "stream",
     "text": [
      "[2017-04-02 22:46:03,361] Making new env: MountainCar-v0\n",
      "[2017-04-02 22:46:03,364] Clearing 2 monitor files from previous run (because force=True was provided)\n"
     ]
    },
    {
     "name": "stdout",
     "output_type": "stream",
     "text": [
      "iter=28000\treward/step=-1.00000\tloss ma=0.01272\n"
     ]
    },
    {
     "name": "stderr",
     "output_type": "stream",
     "text": [
      "[2017-04-02 22:46:52,754] Finished writing results. You can upload them to the scoreboard via gym.upload('/home/ubuntu/records')\n"
     ]
    },
    {
     "name": "stdout",
     "output_type": "stream",
     "text": [
      "Current score(mean over 10) = -9081.900\n",
      "iter=28100\treward/step=-1.00000\tloss ma=0.01125\n",
      "iter=28200\treward/step=-0.99994\tloss ma=0.01053\n",
      "iter=28300\treward/step=-0.99994\tloss ma=0.01173\n",
      "iter=28400\treward/step=-1.00000\tloss ma=0.01342\n"
     ]
    },
    {
     "name": "stderr",
     "output_type": "stream",
     "text": [
      "[2017-04-02 22:47:04,639] Making new env: MountainCar-v0\n",
      "[2017-04-02 22:47:04,642] Clearing 2 monitor files from previous run (because force=True was provided)\n"
     ]
    },
    {
     "name": "stdout",
     "output_type": "stream",
     "text": [
      "iter=28500\treward/step=-1.00000\tloss ma=0.01103\n"
     ]
    },
    {
     "name": "stderr",
     "output_type": "stream",
     "text": [
      "[2017-04-02 22:47:45,880] Finished writing results. You can upload them to the scoreboard via gym.upload('/home/ubuntu/records')\n"
     ]
    },
    {
     "name": "stdout",
     "output_type": "stream",
     "text": [
      "Current score(mean over 10) = -7518.600\n",
      "iter=28600\treward/step=-0.99972\tloss ma=0.01227\n",
      "iter=28700\treward/step=-1.00000\tloss ma=0.01604\n",
      "iter=28800\treward/step=-0.99994\tloss ma=0.00957\n",
      "iter=28900\treward/step=-0.99989\tloss ma=0.02994\n"
     ]
    },
    {
     "name": "stderr",
     "output_type": "stream",
     "text": [
      "[2017-04-02 22:47:57,759] Making new env: MountainCar-v0\n",
      "[2017-04-02 22:47:57,762] Clearing 2 monitor files from previous run (because force=True was provided)\n"
     ]
    },
    {
     "name": "stdout",
     "output_type": "stream",
     "text": [
      "iter=29000\treward/step=-1.00000\tloss ma=0.14850\n"
     ]
    },
    {
     "name": "stderr",
     "output_type": "stream",
     "text": [
      "[2017-04-02 22:48:52,068] Finished writing results. You can upload them to the scoreboard via gym.upload('/home/ubuntu/records')\n"
     ]
    },
    {
     "name": "stdout",
     "output_type": "stream",
     "text": [
      "Current score(mean over 10) = -10000.000\n",
      "iter=29100\treward/step=-1.00000\tloss ma=0.07160\n",
      "iter=29200\treward/step=-0.99983\tloss ma=-0.01674\n",
      "iter=29300\treward/step=-0.99994\tloss ma=0.12341\n",
      "iter=29400\treward/step=-1.00000\tloss ma=0.04569\n"
     ]
    },
    {
     "name": "stderr",
     "output_type": "stream",
     "text": [
      "[2017-04-02 22:49:03,880] Making new env: MountainCar-v0\n",
      "[2017-04-02 22:49:03,883] Clearing 2 monitor files from previous run (because force=True was provided)\n"
     ]
    },
    {
     "name": "stdout",
     "output_type": "stream",
     "text": [
      "iter=29500\treward/step=-1.00000\tloss ma=0.09085\n"
     ]
    },
    {
     "name": "stderr",
     "output_type": "stream",
     "text": [
      "[2017-04-02 22:49:47,272] Finished writing results. You can upload them to the scoreboard via gym.upload('/home/ubuntu/records')\n"
     ]
    },
    {
     "name": "stdout",
     "output_type": "stream",
     "text": [
      "Current score(mean over 10) = -7945.300\n",
      "iter=29600\treward/step=-0.99983\tloss ma=0.03428\n",
      "iter=29700\treward/step=-0.99978\tloss ma=0.12713\n",
      "iter=29800\treward/step=-1.00000\tloss ma=0.09169\n",
      "iter=29900\treward/step=-1.00000\tloss ma=-0.00983\n"
     ]
    },
    {
     "name": "stderr",
     "output_type": "stream",
     "text": [
      "[2017-04-02 22:49:59,169] Making new env: MountainCar-v0\n",
      "[2017-04-02 22:49:59,172] Clearing 2 monitor files from previous run (because force=True was provided)\n"
     ]
    },
    {
     "name": "stdout",
     "output_type": "stream",
     "text": [
      "iter=30000\treward/step=-1.00000\tloss ma=0.08478\n"
     ]
    },
    {
     "name": "stderr",
     "output_type": "stream",
     "text": [
      "[2017-04-02 22:50:44,830] Finished writing results. You can upload them to the scoreboard via gym.upload('/home/ubuntu/records')\n"
     ]
    },
    {
     "name": "stdout",
     "output_type": "stream",
     "text": [
      "Current score(mean over 10) = -8413.700\n"
     ]
    }
   ],
   "source": [
    "from tqdm import tqdm\n",
    "#the loop may take eons to finish.\n",
    "#consider interrupting early.\n",
    "loss = 0\n",
    "for i in range(20000):    \n",
    "    \n",
    "    #train\n",
    "    pool.update(SEQ_LENGTH,append=True)\n",
    "    \n",
    "    loss = loss*0.99 + train_step()*0.01\n",
    "#     print(loss, train_step())\n",
    "        \n",
    "    \n",
    "    \n",
    "    if epoch_counter%100==0:\n",
    "        #average reward per game tick in current experience replay pool\n",
    "        pool_mean_reward = np.average(pool.experience_replay.rewards.get_value()[:,:-1],\n",
    "                                      weights=1+pool.experience_replay.is_alive.get_value()[:,:-1])\n",
    "        print(\"iter=%i\\treward/step=%.5f\\tloss ma=%.5f\"%(epoch_counter,\n",
    "                                                        pool_mean_reward,\n",
    "                                                        loss))\n",
    "        \n",
    "\n",
    "    ##record current learning progress and show learning curves\n",
    "    if epoch_counter%500 ==0:\n",
    "        n_games = 10\n",
    "        rewards[epoch_counter] = pool.evaluate( record_video=False,n_games=n_games,verbose=False)\n",
    "        print(\"Current score(mean over %i) = %.3f\"%(n_games,np.mean(rewards[epoch_counter])))\n",
    "    \n",
    "    \n",
    "    epoch_counter  +=1\n",
    "\n",
    "    \n",
    "# Time to drink some coffee!"
   ]
  },
  {
   "cell_type": "code",
   "execution_count": 118,
   "metadata": {},
   "outputs": [],
   "source": [
    "iters,session_rewards=zip(*sorted(rewards.items(),key=lambda kv:kv[0]))"
   ]
  },
  {
   "cell_type": "code",
   "execution_count": 119,
   "metadata": {
    "collapsed": true
   },
   "outputs": [],
   "source": [
    "sr = [np.mean(s) for s in session_rewards]"
   ]
  },
  {
   "cell_type": "code",
   "execution_count": 120,
   "metadata": {
    "scrolled": true
   },
   "outputs": [
    {
     "data": {
      "text/plain": [
       "[<matplotlib.lines.Line2D at 0x7f2083443080>]"
      ]
     },
     "execution_count": 120,
     "metadata": {},
     "output_type": "execute_result"
    },
    {
     "data": {
      "image/png": "[encoded data removed]",
      "text/plain": [
       "<matplotlib.figure.Figure at 0x7f207ed6eda0>"
      ]
     },
     "metadata": {},
     "output_type": "display_data"
    }
   ],
   "source": [
    "plt.plot(iters,sr)"
   ]
  },
  {
   "cell_type": "markdown",
   "metadata": {},
   "source": [
    "### Visualizing the $V(s)$ and  $\\pi(a|s)$\n",
    "\n",
    "Since the observation space is just 2-dimensional, we can plot it on a 2d scatter-plot to gain insight of what agent learned."
   ]
  },
  {
   "cell_type": "code",
   "execution_count": 39,
   "metadata": {},
   "outputs": [
    {
     "data": {
      "text/plain": [
       "<matplotlib.text.Text at 0x7f206c94b748>"
      ]
     },
     "execution_count": 39,
     "metadata": {},
     "output_type": "execute_result"
    },
    {
     "data": {
      "image/png": "[encoded data removed]",
      "text/plain": [
       "<matplotlib.figure.Figure at 0x7f206c9dd2b0>"
      ]
     },
     "metadata": {},
     "output_type": "display_data"
    }
   ],
   "source": [
    "_,_,_,_,(pool_policy,pool_V) = agent.get_sessions(\n",
    "    pool.experience_replay,\n",
    "    session_length=SEQ_LENGTH,\n",
    "    experience_replay=True,)\n",
    "\n",
    "plt.scatter(\n",
    "    *pool.experience_replay.observations[0].get_value().reshape([-1,2]).T,\n",
    "    c = pool_V.ravel().eval(),\n",
    "    alpha = 0.1)\n",
    "plt.title(\"predicted state values\")\n",
    "plt.xlabel(\"position\")\n",
    "plt.ylabel(\"speed\")"
   ]
  },
  {
   "cell_type": "code",
   "execution_count": 40,
   "metadata": {},
   "outputs": [
    {
     "data": {
      "text/plain": [
       "<matplotlib.legend.Legend at 0x7f206a581b00>"
      ]
     },
     "execution_count": 40,
     "metadata": {},
     "output_type": "execute_result"
    },
    {
     "data": {
      "image/png": "[encoded data removed]",
      "text/plain": [
       "<matplotlib.figure.Figure at 0x7f206a9c1c50>"
      ]
     },
     "metadata": {},
     "output_type": "display_data"
    }
   ],
   "source": [
    "obs_x,obs_y = pool.experience_replay.observations[0].get_value().reshape([-1,2]).T\n",
    "optimal_actid = pool_policy.argmax(-1).ravel().eval()\n",
    "action_names=[\"left\",\"stop\",\"right\"]\n",
    "for i in range(3):\n",
    "    sel = optimal_actid==i\n",
    "    plt.scatter(obs_x[sel],obs_y[sel],\n",
    "                c=['red','blue','green'][i],\n",
    "                alpha = 0.1,label=action_names[i])\n",
    "    \n",
    "plt.title(\"most likely action id\")\n",
    "plt.xlabel(\"position\")\n",
    "plt.ylabel(\"speed\")\n",
    "plt.legend(loc='best')"
   ]
  },
  {
   "cell_type": "markdown",
   "metadata": {},
   "source": [
    "### Variations in the algorithm (2 pts)\n",
    "\n",
    "Try different `n_steps` param to see if it improves learning performance.\n",
    "\n",
    "Your objective is to compare learning curves for 1, 3, 10 and 25-step updates (or any grid you think is appropriate).\n",
    "\n",
    "For 25-step updates, please also increase SEQ_LENGTH to 25.\n",
    "\n",
    "Also evaluate how performance changes with different entropy regularizer coefficient.\n",
    "\n",
    "_bonus_ See if you can learn effectively without experience replay (may need a lot of parallel agents)"
   ]
  },
  {
   "cell_type": "code",
   "execution_count": null,
   "metadata": {
    "collapsed": true
   },
   "outputs": [],
   "source": [
    "#<a lot of your code here>"
   ]
  },
  {
   "cell_type": "markdown",
   "metadata": {
    "collapsed": true
   },
   "source": [
    "### Bonus section (5+ pts)\n",
    "\n",
    "Beat the [`LunarLanderContinuous-v2`](https://gym.openai.com/envs/LunarLanderContinuous-v2) with continuous version of advantage actor-critic.\n",
    "\n",
    "You will require a multidimensional gaussian (or similar) policy from your agent.\n",
    "\n",
    "You can implement that by feeding a2c.get_elementwise_objective probabilities of agent's chosen actions (it will be 2-dimensional) instead of all actions.\n",
    "\n",
    "Contact us if you have any questions."
   ]
  },
  {
   "cell_type": "code",
   "execution_count": null,
   "metadata": {
    "collapsed": true
   },
   "outputs": [],
   "source": []
  }
 ],
 "metadata": {
  "kernelspec": {
   "display_name": "Python 2",
   "language": "python",
   "name": "python2"
  },
  "language_info": {
   "codemirror_mode": {
    "name": "ipython",
    "version": 2
   },
   "file_extension": ".py",
   "mimetype": "text/x-python",
   "name": "python",
   "nbconvert_exporter": "python",
   "pygments_lexer": "ipython2",
   "version": "2.7.12"
  }
 },
 "nbformat": 4,
 "nbformat_minor": 1
}
