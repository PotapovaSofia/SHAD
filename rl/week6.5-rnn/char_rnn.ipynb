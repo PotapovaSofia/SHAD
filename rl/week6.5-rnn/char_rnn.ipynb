{
 "cells": [
  {
   "cell_type": "code",
   "execution_count": 9,
   "metadata": {
    "collapsed": true
   },
   "outputs": [],
   "source": [
    "import numpy as np\n",
    "import theano\n",
    "import theano.tensor as T\n",
    "import lasagne\n",
    "import os\n",
    "#thanks @keskarnitish\n",
    "\n",
    "import matplotlib.pyplot as plt\n",
    "%matplotlib inline"
   ]
  },
  {
   "cell_type": "markdown",
   "metadata": {},
   "source": [
    "# Generate names\n",
    "* Struggle to find a name for the variable? Let's see how you'll come up with a name for your son/daughter. Surely no human has expertize over what is a good child name, so let us train NN instead.\n",
    "* Dataset contains ~8k human names from different cultures[in latin transcript]\n",
    "* Objective (toy problem): learn a generative model over names."
   ]
  },
  {
   "cell_type": "code",
   "execution_count": 2,
   "metadata": {
    "collapsed": true
   },
   "outputs": [],
   "source": [
    "start_token = \" \"\n",
    "\n",
    "with open(\"names\") as f:\n",
    "    names = f.read()[:-1].split('\\n')\n",
    "    names = [start_token + name for name in names]\n",
    "    "
   ]
  },
  {
   "cell_type": "code",
   "execution_count": 3,
   "metadata": {
    "collapsed": false
   },
   "outputs": [
    {
     "name": "stdout",
     "output_type": "stream",
     "text": [
      "n samples =  7944\n",
      " Abagael\n",
      " Claresta\n",
      " Glory\n",
      " Liliane\n",
      " Prissie\n",
      " Geeta\n",
      " Giovanne\n",
      " Piggy\n"
     ]
    }
   ],
   "source": [
    "print ('n samples = ',len(names))\n",
    "for x in names[::1000]:\n",
    "    print (x)"
   ]
  },
  {
   "cell_type": "markdown",
   "metadata": {},
   "source": [
    "# Text processing"
   ]
  },
  {
   "cell_type": "code",
   "execution_count": 9,
   "metadata": {
    "collapsed": false
   },
   "outputs": [
    {
     "name": "stdout",
     "output_type": "stream",
     "text": [
      "n_tokens =  55\n"
     ]
    }
   ],
   "source": [
    "#all unique characters go here\n",
    "tokens = set(''.join(names))\n",
    "\n",
    "tokens = list(tokens)\n",
    "print ('n_tokens = ', len(tokens))\n"
   ]
  },
  {
   "cell_type": "code",
   "execution_count": 11,
   "metadata": {
    "collapsed": true
   },
   "outputs": [],
   "source": [
    "#!token_to_id = <dictionary of symbol -> its identifier (index in tokens list)>\n",
    "token_to_id = {t:i for i,t in enumerate(tokens) }\n",
    "\n",
    "#!id_to_token = < dictionary of symbol identifier -> symbol itself>\n",
    "id_to_token = {i:t for i,t in enumerate(tokens)}"
   ]
  },
  {
   "cell_type": "code",
   "execution_count": 12,
   "metadata": {
    "collapsed": false
   },
   "outputs": [
    {
     "data": {
      "image/png": "[encoded data removed]",
      "text/plain": [
       "<matplotlib.figure.Figure at 0x7f5955d26278>"
      ]
     },
     "metadata": {},
     "output_type": "display_data"
    }
   ],
   "source": [
    "\n",
    "plt.hist(list(map(len,names)),bins=25);\n",
    "\n"
   ]
  },
  {
   "cell_type": "code",
   "execution_count": 13,
   "metadata": {
    "collapsed": true
   },
   "outputs": [],
   "source": [
    "# truncate names longer than MAX_LEN characters. \n",
    "# MAX_LEN = ?!\n",
    "MAX_LEN = 12\n",
    "\n",
    "#you will likely need to change this for any dataset different from \"names\"\n"
   ]
  },
  {
   "cell_type": "markdown",
   "metadata": {},
   "source": [
    "### Cast everything from symbols into identifiers"
   ]
  },
  {
   "cell_type": "code",
   "execution_count": 14,
   "metadata": {
    "collapsed": true
   },
   "outputs": [],
   "source": [
    "names_ix = list(map(lambda name: list(map(token_to_id.get,name)),names))\n",
    "\n",
    "\n",
    "#crop long names and pad short ones\n",
    "for i in range(len(names_ix)):\n",
    "    names_ix[i] = names_ix[i][:MAX_LEN] #crop too long\n",
    "    \n",
    "    if len(names_ix[i]) < MAX_LEN:\n",
    "        names_ix[i] += [token_to_id[\" \"]]*(MAX_LEN - len(names_ix[i])) #pad too short\n",
    "        \n",
    "assert len(set(map(len,names_ix)))==1\n",
    "\n",
    "names_ix = np.array(names_ix)"
   ]
  },
  {
   "cell_type": "markdown",
   "metadata": {},
   "source": [
    "# Input variables"
   ]
  },
  {
   "cell_type": "code",
   "execution_count": 15,
   "metadata": {
    "collapsed": true
   },
   "outputs": [],
   "source": [
    "input_sequence = T.matrix('token sequencea','int32')\n",
    "target_values = T.matrix('actual next token','int32')\n"
   ]
  },
  {
   "cell_type": "markdown",
   "metadata": {},
   "source": [
    "input_sequence и target_values - матрицы размера batch_size X количество букв (каждая буква закодирована числом)"
   ]
  },
  {
   "cell_type": "markdown",
   "metadata": {},
   "source": [
    "# Build NN\n",
    "\n",
    "You will be building a model that takes token sequence and predicts next token\n",
    "\n",
    "\n",
    "* iput sequence\n",
    "* one-hot / embedding\n",
    "* recurrent layer(s)\n",
    "* otput layer(s) that predict output probabilities\n"
   ]
  },
  {
   "cell_type": "code",
   "execution_count": 16,
   "metadata": {
    "collapsed": true
   },
   "outputs": [],
   "source": [
    "from lasagne.layers import InputLayer,DenseLayer,EmbeddingLayer\n",
    "from lasagne.layers import RecurrentLayer,LSTMLayer,GRULayer,CustomRecurrentLayer"
   ]
  },
  {
   "cell_type": "code",
   "execution_count": 17,
   "metadata": {
    "collapsed": true
   },
   "outputs": [],
   "source": [
    "\n",
    "l_in = lasagne.layers.InputLayer(shape=(None, None),input_var=input_sequence)\n",
    "\n",
    "#!<Your neural network>\n",
    "# l_emb = <embedding layer or one-hot encoding>\n",
    "# каждое число, кодирующее букву отображаем в вектор\n",
    "l_emb = EmbeddingLayer(l_in, len(tokens), 8)\n",
    "\n",
    "# l_rnn = <some recurrent layer(or several such layers)>\n",
    "# на выходе -  тензор batch_size X длина_последовательности X количество фильтров (тоже 8)\n",
    "l_rnn = GRULayer(l_emb, 8)\n",
    "\n",
    "#flatten batch and time to be compatible with feedforward layers (will un-flatten later)\n",
    "l_rnn_flat = lasagne.layers.reshape(l_rnn, (-1,l_rnn.output_shape[-1]))\n",
    "\n",
    "# l_out = <last dense layer (or several layers), returning probabilities for all possible next tokens>\n",
    "l_out = DenseLayer(l_rnn_flat, len(tokens), nonlinearity = lasagne.nonlinearities.softmax)\n",
    "\n"
   ]
  },
  {
   "cell_type": "code",
   "execution_count": 18,
   "metadata": {
    "collapsed": false
   },
   "outputs": [
    {
     "data": {
      "text/plain": [
       "(None, None, 8)"
      ]
     },
     "execution_count": 18,
     "metadata": {},
     "output_type": "execute_result"
    }
   ],
   "source": [
    "l_rnn.output_shape"
   ]
  },
  {
   "cell_type": "code",
   "execution_count": 19,
   "metadata": {
    "collapsed": false
   },
   "outputs": [
    {
     "name": "stdout",
     "output_type": "stream",
     "text": [
      "[W, W_in_to_updategate, W_hid_to_updategate, b_updategate, W_in_to_resetgate, W_hid_to_resetgate, b_resetgate, W_in_to_hidden_update, W_hid_to_hidden_update, b_hidden_update, W, b]\n"
     ]
    }
   ],
   "source": [
    "# Model weights\n",
    "weights = lasagne.layers.get_all_params(l_out,trainable=True)\n",
    "print (weights)\n",
    "\n",
    "# network_output = <NN output via lasagne>\n",
    "network_output = lasagne.layers.get_output(l_out)\n",
    "#If you use dropout do not forget to create deterministic version for evaluation\n",
    "\n",
    "\n",
    "predicted_probabilities_flat = network_output\n",
    "correct_answers_flat = target_values.ravel()\n",
    "\n",
    "\n",
    "# loss = <loss function - a simple categorical crossentropy will do, maybe add some regularizer>\n",
    "loss = (lasagne.objectives.categorical_crossentropy(predicted_probabilities_flat, \\\n",
    "                                                   correct_answers_flat)).mean()\n",
    "\n",
    "# updates = <your favorite optimizer>\n",
    "updates = lasagne.updates.adam(loss, weights)"
   ]
  },
  {
   "cell_type": "markdown",
   "metadata": {},
   "source": [
    "# Compiling it"
   ]
  },
  {
   "cell_type": "code",
   "execution_count": 20,
   "metadata": {
    "collapsed": true
   },
   "outputs": [],
   "source": [
    "#training\n",
    "train = theano.function([input_sequence, target_values], loss, \n",
    "                        updates=updates, allow_input_downcast=True)\n",
    "\n",
    "#computing loss without training\n",
    "compute_cost = theano.function([input_sequence, target_values], loss, \n",
    "                               allow_input_downcast=True)\n"
   ]
  },
  {
   "cell_type": "markdown",
   "metadata": {},
   "source": [
    "# generation\n",
    "\n",
    "Simple: \n",
    "* get initial context(seed), \n",
    "* predict next token probabilities,\n",
    "* sample next token, \n",
    "* add it to the context\n",
    "* repeat from step 2\n",
    "\n",
    "You'll get a more detailed info on how it works in the homework section."
   ]
  },
  {
   "cell_type": "code",
   "execution_count": 21,
   "metadata": {
    "collapsed": true
   },
   "outputs": [],
   "source": [
    "#compile the function that computes probabilities for next token given previous text.\n",
    "\n",
    "#reshape back into original shape\n",
    "next_word_probas = network_output.reshape((input_sequence.shape[0],\n",
    "                                           input_sequence.shape[1],len(tokens)))\n",
    "#predictions for next tokens (after sequence end)\n",
    "last_word_probas = next_word_probas[:,-1]\n",
    "probs = theano.function([input_sequence],last_word_probas,allow_input_downcast=True)\n"
   ]
  },
  {
   "cell_type": "code",
   "execution_count": 19,
   "metadata": {
    "collapsed": true
   },
   "outputs": [],
   "source": [
    "\n",
    "def generate_sample(seed_phrase=None,N=MAX_LEN,t=1,n_snippets=1):\n",
    "    '''\n",
    "    The function generates text given a phrase of length at least SEQ_LENGTH.\n",
    "        \n",
    "    parameters:\n",
    "        sample_fun - max_ or proportional_sample_fun or whatever else you implemented\n",
    "        \n",
    "        The phrase is set using the variable seed_phrase\n",
    "\n",
    "        The optional input \"N\" is used to set the number of characters of text to predict.     \n",
    "    '''\n",
    "    if seed_phrase is None:\n",
    "        seed_phrase=start_token\n",
    "    if len(seed_phrase) > MAX_LEN:\n",
    "        seed_phrase = seed_phrase[-MAX_LEN:]\n",
    "    assert type(seed_phrase) is str\n",
    "\n",
    "    snippets = []\n",
    "    for _ in range(n_snippets):\n",
    "        sample_ix = []\n",
    "        x = list(map(lambda c: token_to_id.get(c,0), seed_phrase))\n",
    "        x = np.array([x])\n",
    "\n",
    "        for i in range(N):\n",
    "            # Pick the character that got assigned the highest probability\n",
    "            p = probs(x).ravel()\n",
    "            p = p**t / np.sum(p**t)\n",
    "            ix = np.random.choice(np.arange(len(tokens)),p=p)\n",
    "            sample_ix.append(ix)\n",
    "\n",
    "            x = np.hstack((x[-MAX_LEN+1:],[[ix]]))\n",
    "\n",
    "        random_snippet = seed_phrase + ''.join(id_to_token[ix] for ix in sample_ix)    \n",
    "        snippets.append(random_snippet)\n",
    "        \n",
    "    print(\"----\\n %s \\n----\" % '; '.join(snippets))\n"
   ]
  },
  {
   "cell_type": "markdown",
   "metadata": {},
   "source": [
    "# Model training\n",
    "\n",
    "Here you can tweak parameters or insert your generation function\n",
    "\n",
    "\n",
    "__Once something word-like starts generating, try increasing seq_length__\n",
    "\n"
   ]
  },
  {
   "cell_type": "code",
   "execution_count": 21,
   "metadata": {
    "collapsed": true
   },
   "outputs": [],
   "source": [
    "def sample_batch(data, batch_size):\n",
    "    \n",
    "    rows = data[np.random.randint(0,len(data),size=batch_size)]\n",
    "    \n",
    "    return rows[:,:-1],rows[:,1:]"
   ]
  },
  {
   "cell_type": "code",
   "execution_count": 24,
   "metadata": {
    "collapsed": false,
    "scrolled": true
   },
   "outputs": [
    {
     "name": "stdout",
     "output_type": "stream",
     "text": [
      "Training ...\n",
      "Generated names\n",
      "----\n",
      "  cNqcPRnOSfIZ;  vhG'jldLZxBX;  gWRZEtkiOfAs;  uokjTjDTDkPM;  gcOv-Rra-Eny;  cTRRpsuuDlNI;  -CqybsUz-hex;  ouJCNzBCueTV;  szofkTtbENWe;  GBRRgrzslreb \n",
      "----\n",
      "Epoch 0 average loss = 2.5226324384212493\n",
      "Generated names\n",
      "----\n",
      "  Jyoiq  l    ;  ofy M     e ;  eKp o       ;  sNNDs A    a;  GsT         ;  vnrwei  s ol;  KEkel yeh   ;  Aer   ne    ;  Zn T    s   ;  y Ned        \n",
      "----\n",
      "Epoch 1 average loss = 2.0392474219799044\n",
      "Generated names\n",
      "----\n",
      "  heoeGsR     ;  Jbefa   l   ;  Ool ga  e   ;  EAzi       a;    K  r      ;  mivEu n     ;  mlecfuumrl  ;  ednb  e     ;  K        g  ;  ezy ri s     \n",
      "----\n",
      "Epoch 2 average loss = 1.9165971314907073\n",
      "Generated names\n",
      "----\n",
      "  jnyd        ;  TtaR        ;  aElnrce     ;  aogtlP      ;  ibeG       l;  SWgu        ;  esyehrhl    ;  MbjaH       ;  hfiaoenn   e;  oAHeoid      \n",
      "----\n",
      "Epoch 3 average loss = 1.7666053459644318\n",
      "Generated names\n",
      "----\n",
      "  Aoodt       ;  Rdesrt      ;  GMnia    ra ;  gVa   i     ;  Eieah       ;  Mivis l     ;  GsneA       ;  dBae        ;  SLae        ;  Ne           \n",
      "----\n",
      "Epoch 4 average loss = 1.6722674248218536\n",
      "Generated names\n",
      "----\n",
      "  Eaorbyla    ;  Koeriic     ;   Niegms     ;  Kisriia     ;  Eouann      ;  Miret       ;  oybase      ;  Nree        ;  RLaoa   a   ;  Woslbrna     \n",
      "----\n",
      "Epoch 5 average loss = 1.6392906939983367\n",
      "Generated names\n",
      "----\n",
      "  Nae         ;  Plieres    m;  Ghtta'nma   ;  Fogiy       ;  Masolien    ;  Goleo       ;  Aoenriia    ;  Seey        ;  Jestecn     ;  Raaso ha     \n",
      "----\n",
      "Epoch 6 average loss = 1.5917591700553895\n",
      "Generated names\n",
      "----\n",
      "  Kariilt     ;  Smagfi      ;  Lmciiecile  ;  Lala        ;  Fymey       ;  Aarecs      ;  Cerl        ;  Reon        ;  Camnie      ;  Bivbea       \n",
      "----\n",
      "Epoch 7 average loss = 1.5627412886619567\n",
      "Generated names\n",
      "----\n",
      "  Lelrge      ;  Jalelie     ;  Yarti       ;  Repbed      ;  Jtine       ;  Valode      ;  ezrata      ;  Kshree      ;  Briittuniisa;  Mewna        \n",
      "----\n",
      "Epoch 8 average loss = 1.52783119225502\n",
      "Generated names\n",
      "----\n",
      "  Laxi        ;  Jinonie     ;  Sinke       ;  Fnsalhe   n ;  Lalphie     ;  -Otinis     ;  Avemina     ;  Dasluebsun  ;  Tazltiat    ;  Deyiun       \n",
      "----\n",
      "Epoch 9 average loss = 1.5285892324447632\n",
      "Generated names\n",
      "----\n",
      "  Wapctone    ;  Nerinhra    ;  Rad         ;  Maflre      ;  RYe         ;  Cony        ;  Cobile      ;  Der         ;  Jhdemolie   ;  Bdscalsi     \n",
      "----\n",
      "Epoch 10 average loss = 1.5125607697963714\n",
      "Generated names\n",
      "----\n",
      "  Tsie        ;  Aladi       ;  Gyz         ;  MaLy        ;  Jansa       ;  Carra       ;  Kelden      ;  Calsit      ;  Colva       ;  Mou          \n",
      "----\n",
      "Epoch 11 average loss = 1.509093773841858\n",
      "Generated names\n",
      "----\n",
      "  Nara        ;  Cxihir      ;  Jonleen     ;  Hroletan    ;  Malilibot   ;  Isy         ;  Vengei      ;  Daulcale    ;  Lasnony     ;  Sonrlono     \n",
      "----\n",
      "Epoch 12 average loss = 1.503359092235565\n",
      "Generated names\n",
      "----\n",
      "  Ronyce      ;  Lasmon      ;  Heratfta    ;  Ka          ;  Lety        ;  Ayltanna    ;  Coctosd     ;  Stevaen     ;  Joneby      ;  Cogyna       \n",
      "----\n",
      "Epoch 13 average loss = 1.4938869848251344\n",
      "Generated names\n",
      "----\n",
      "  Daza        ;  Ky          ;  Duledie     ;  Rardhy      ;  EOnel       ;  Criserta    ;  Brlkecoe    ;  Cortido     ;  Leroe       ;  Keberin      \n",
      "----\n",
      "Epoch 14 average loss = 1.4811163437366486\n",
      "Generated names\n",
      "----\n",
      "  Ejida       ;  Anlromal    ;  Lacolda     ;  Elyt        ;  Masis       ;  Sonass      ;  Darde       ;  Ddia        ;  Corlosty    ;  Kifledm      \n",
      "----\n",
      "Epoch 15 average loss = 1.490058730840683\n",
      "Generated names\n",
      "----\n",
      "  Dennene     ;  Kardon      ;  Ware        ;  Gaia        ;  Rarkan      ;  Farve       ;  Slran       ;  Sodmac      ;  Ruudhol     ;  Aslip        \n",
      "----\n",
      "Epoch 16 average loss = 1.4850067455768585\n",
      "Generated names\n",
      "----\n",
      "  Ceratid     ;  Lani        ;  Tigla  a    ;  Sansame     ;  Miwline     ;  Fe-hosishole;  Losia       ;  Kirli       ;  Onone       ;  Wilnd        \n",
      "----\n",
      "Epoch 17 average loss = 1.4838299746513366\n",
      "Generated names\n",
      "----\n",
      "  Ebya        ;  Datha       ;  Loosthovrary;  Nenly       ;  Tannire     ;  Shirtia     ;  Laygay      ;  Wyrikia     ;  Gidtily     ;  Uane         \n",
      "----\n",
      "Epoch 18 average loss = 1.4868914589881896\n",
      "Generated names\n",
      "----\n",
      "  Donesann    ;  E           ;  Ropullora   ;  Dinonori    ;  De Gerte    ;  Jolesi      ;  Bacieh      ;  Malr-Molla  ;  Beiva       ;  Mianoe       \n",
      "----\n",
      "Epoch 19 average loss = 1.4655953695774078\n",
      "Generated names\n",
      "----\n",
      "  Mogrilua    ;  ZabJa       ;  Hasa        ;  Vaniled     ;  Sargenly    ;  Jenna       ;  Cezoricor   ;  Eesagle     ;  Malnerki    ;  Muvie        \n",
      "----\n",
      "Epoch 20 average loss = 1.4651354479789733\n",
      "Generated names\n",
      "----\n",
      "  Trimis      ;  Deneti      ;  Esallan     ;  Symhart     ;  Voinh       ;  Jonda       ;  Sajy        ;  Ansy        ;  Palnenne    ;  Dat          \n",
      "----\n",
      "Epoch 21 average loss = 1.4725196137428285\n",
      "Generated names\n",
      "----\n",
      "  Glrina      ;  Carosla     ;  Chobuty     ;  Sbili       ;  Mirbie      ;  Adsorin     ;  Hamre       ;  Crusaa      ;  Nye         ;  Jerrerde     \n",
      "----\n",
      "Epoch 22 average loss = 1.4691896119117738\n",
      "Generated names\n",
      "----\n",
      "  Kabandsie   ;  Rele        ;  Jahre       ;  Mavil       ;  Chaod       ;  Shelza      ;  Ulborn      ;  Dorkal      ;  Mencane     ;  Damatlo      \n",
      "----\n",
      "Epoch 23 average loss = 1.456175193309784\n",
      "Generated names\n",
      "----\n",
      "  Bslra       ;  Salelco     ;  Garethe     ;  Cannia      ;  Eriame      ;  Hlalie      ;  Geune       ;  Aude        ;  Foxyn       ;  Alda         \n",
      "----\n",
      "Epoch 24 average loss = 1.4593476505279541\n",
      "Generated names\n",
      "----\n",
      "  Lalta       ;  Jumsge      ;  Oryne       ;  Tarmed      ;  MaxMeneli   ;  wytvinia    ;  Peolerttan  ;  Meldystor   ;  Froran      ;  Wayni        \n",
      "----\n",
      "Epoch 25 average loss = 1.4597221343517304\n",
      "Generated names\n",
      "----\n",
      "  Deremeth    ;  Kyn         ;  Rula        ;  Jorilice    ;  Adanna      ;  Dsety       ;  Colres      ;  Perlanna    ;  Trucy       ;  Qorya        \n",
      "----\n",
      "Epoch 26 average loss = 1.4573681709766388\n",
      "Generated names\n",
      "----\n",
      "  Slesy       ;  Ellen       ;  Teiliie     ;  Parfyd      ;  Dagl        ;  Adedee      ;  Pygia       ;  Emiic       ;  Huld        ;  Ponletola    \n",
      "----\n",
      "Epoch 27 average loss = 1.4625685510635376\n",
      "Generated names\n",
      "----\n",
      "  Ghauvel     ;  Lercena     ;  Sirlay      ;  Kafsis      ;  Ting        ;  Blety       ;  Torthand    ;  Mandok      ;  Virsy       ;  Culth        \n",
      "----\n",
      "Epoch 28 average loss = 1.4554786286354064\n",
      "Generated names\n",
      "----\n",
      "  Leyno       ;  Garink      ;  Anthen      ;  Joran       ;  Kirlor      ;  Bavie       ;  Pashane     ;  Ialbay      ;  Harinfe    l;  GaQlanlsa    \n",
      "----\n",
      "Epoch 29 average loss = 1.452648423910141\n",
      "Generated names\n",
      "----\n",
      "  Keci        ;  Kikkel      ;  AnnsheB     ;  Mevcan      ;  ShLor       ;  Aethey      ;  Mitlio      ;  Oyr         ;  Hensolc     ;  Laries       \n",
      "----\n",
      "Epoch 30 average loss = 1.4466842250823975\n",
      "Generated names\n",
      "----\n",
      "  Larin       ;  Herydl      ;  Cargy       ;  Ttey        ;  Renia       ;  GellaHe     ;  Ratuia      ;  Gril        ;  Blia        ;  Alrorse      \n",
      "----\n",
      "Epoch 31 average loss = 1.4421388692855834\n",
      "Generated names\n",
      "----\n",
      "  Nryn        ;  Giutta      ;  Jeecenda    ;  Senci      n;  Frilmale    ;  Roug        ;  Bolibe      ;  Wonenle     ;  Rabtannao   ;  Ruvfyka      \n",
      "----\n",
      "Epoch 32 average loss = 1.439442385673523\n",
      "Generated names\n",
      "----\n",
      "  Pargars     ;  Laufe       ;  Niatio      ;  Shelen      ;  Kaestie     ;  Carhanne    ;  Leacaupy    ;  Orynel      ;  Carbete     ;  Maimst       \n",
      "----\n",
      "Epoch 33 average loss = 1.4504204030036927\n",
      "Generated names\n",
      "----\n",
      "  Chirsep     ;  Donala      ;  Gliy        ;  Carka       ;  Derky       ;  Xosre       ;  Madrandte   ;  Remecia     ;  Burie       ;  Karto        \n",
      "----\n",
      "Epoch 34 average loss = 1.4346306247711182\n",
      "Generated names\n",
      "----\n",
      "  Pattene     ;  Ululbina    ;  Jish        ;  Chaniy      ;  Dama        ;  Rarkie      ;  Lelrandord  ;  Elvia       ;  Crerutfrar  ;  Tria         \n",
      "----\n",
      "Epoch 35 average loss = 1.443454781293869\n",
      "Generated names\n",
      "----\n",
      "  Kotrce      ;  Dobtelle    ;  Kis         ;  Hilgecy     ;  Tetoztor    ;  Kaucha      ;  Qoonilti    ;  Ticteth     ;  Melanna     ;  Istie        \n",
      "----\n",
      "Epoch 36 average loss = 1.4441326110363006\n",
      "Generated names\n",
      "----\n",
      "  Wittl       ;  Faulcon     ;  Tary        ;  Iltinpeu    ;  Ingonie     ;  Simiela     ;  Zanna       ;  Grie        ;  Jortalell   ;  Achann       \n",
      "----\n",
      "Epoch 37 average loss = 1.439026915550232\n",
      "Generated names\n",
      "----\n",
      "  Rilson      ;  Galdoclie   ;  Gemh        ;  Ibla        ;  Hanthartee  ;  Jiega       ;  Capesty     ;  Lori        ;  Alvga       ;  Tausty       \n",
      "----\n",
      "Epoch 38 average loss = 1.4487805995941163\n",
      "Generated names\n",
      "----\n",
      "  Brorta      ;  Lancal      ;  Sicfod      ;  Herrala     ;  Libyi       ;  Srizixke    ;  Phacheun    ;  Magtian     ;  Zany        ;  Jobth        \n",
      "----\n",
      "Epoch 39 average loss = 1.4317298483848573\n",
      "Generated names\n",
      "----\n",
      "  Halteni     ;  Iso         ;  Blya        ;  Bourar      ;  Bardi       ;  Cudin       ;  Rabned      ;  Seline      ;  Kansa       ;  Red          \n",
      "----\n",
      "Epoch 40 average loss = 1.4392763872146606\n",
      "Generated names\n",
      "----\n",
      "  Nardleosh   ;  Viltaro     ;  Gosan       ;  Wibla       ;  Merondkh    ;  Kirbindt    ;  Chaynitu    ;  Amnalamgkli ;  Rust        ;  Testico      \n",
      "----\n",
      "Epoch 41 average loss = 1.4351406195163727\n",
      "Generated names\n",
      "----\n",
      "  Adidl       ;  Jilener     ;  Amyce       ;  Lirtorty    ;  Jarze       ;  Mouno       ;  Sarsreed    ;  Vinceo      ;  Solileva    ;  Mamia        \n",
      "----\n",
      "Epoch 42 average loss = 1.4361960177421569\n",
      "Generated names\n",
      "----\n",
      "  Coltheso    ;  Laros       ;  Amar        ;  Zenday      ;  Buirdey     ;  Tlienc      ;  Milpe       ;  Vysth       ;  Jerberze    ;  Kynnney      \n",
      "----\n",
      "Epoch 43 average loss = 1.4327590610980987\n",
      "Generated names\n",
      "----\n",
      "  Chux        ;  Marriee     ;  Yarnse      ;  Sic        h;  Othan       ;  Marickar    ;  Jira        ;  Lou  a      ;  Cpertre     ;  Horigte      \n",
      "----\n",
      "Epoch 44 average loss = 1.4371760222911836\n",
      "Generated names\n",
      "----\n",
      "  Kryee       ;  Goquice     ;  Hatph       ;  Ker         ;  Nartia      ;  Reppar      ;  Sringiy     ;  Kannia      ;  Inis        ;  Tewesta      \n",
      "----\n",
      "Epoch 45 average loss = 1.4292273108959197\n",
      "Generated names\n",
      "----\n",
      "  Candiannia  ;  Sannee      ;  Orunn       ;  Pilinnele   ;  Batro       ;  Kaydy       ;  Lodie       ;  Hullin      ;  Clit        ;  Crody        \n",
      "----\n",
      "Epoch 46 average loss = 1.4158035154342652\n",
      "Generated names\n",
      "----\n",
      "  Lie         ;  Rocly       ;  Gleda       ;  Darle       ;  Maibilea    ;  Maliria     ;  Lanyna      ;  Allas       ;  Mendahut    ;  Dudgarna     \n",
      "----\n",
      "Epoch 47 average loss = 1.4260870249271393\n",
      "Generated names\n",
      "----\n",
      "  AdC         ;  Rotoleti    ;  Wyrdey      ;  Sabon n     ;  Wistt       ;  Luisely     ;  Mertdy      ;  Edriftare   ;  Kerk        ;  Juase        \n",
      "----\n",
      "Epoch 48 average loss = 1.426565549135208\n",
      "Generated names\n",
      "----\n",
      "  Jryneine    ;  Euden       ;  Rasfynne    ;  Gatry       ;  Hewdie      ;  Yrilpaa     ;  Hartic      ;  Barasfa     ;  Voly        ;  Shanilea     \n",
      "----\n",
      "Epoch 49 average loss = 1.4260048921108246\n",
      "Generated names\n",
      "----\n",
      "  Dreetla     ;  Pyda        ;  Calsa       ;  Elmrria     ;  Soli        ;  Fely        ;  Roud        ;  Buls        ;  Doena       ;  Clerinounan  \n",
      "----\n",
      "Epoch 50 average loss = 1.4328134424686432\n",
      "Generated names\n",
      "----\n",
      "  Slished     ;  Vabin       ;  Dexan       ;  Fardina     ;  Heratie     ;  Wilfric     ;  Baraand     ;  Elorata     ;  Ceancen     ;  Tarke        \n",
      "----\n",
      "Epoch 51 average loss = 1.4244165675640106\n",
      "Generated names\n",
      "----\n",
      "  Aj          ;  Siakonna    ;  Telella     ;  Lieni       ;  Doucitte    ;  Mylrace     ;  Qrdugy      ;  Juthis      ;  Braner      ;  Pomeman      \n",
      "----\n",
      "Epoch 52 average loss = 1.4247402193546295\n",
      "Generated names\n",
      "----\n",
      "  Ribe        ;  Alr         ;  Vachorre    ;  Jome        ;  Coria       ;  Grvise      ;  Axasja      ;  Tondy       ;  Wannin      ;  Amlsa        \n",
      "----\n",
      "Epoch 53 average loss = 1.426244767189026\n",
      "Generated names\n",
      "----\n",
      "  Lorkinn     ;  Kagenn      ;  Aga         ;  Pemrey      ;  Belenda     ;  Aporie      ;  FraRo       ;  Emapha      ;  Idveit      ;  Har          \n",
      "----\n",
      "Epoch 54 average loss = 1.4200697319507598\n",
      "Generated names\n",
      "----\n",
      "  Deltely     ;  Lecy        ;  Thaim       ;  Kellii      ;  Malttelle   ;  Qeris       ;  Mess        ;  Cleu        ;  Ochit       ;  Kabro        \n",
      "----\n",
      "Epoch 55 average loss = 1.4185550134181977\n",
      "Generated names\n",
      "----\n",
      "  Eslelli     ;  Reltalt     ;  Melitlyn    ;  Wavia       ;  Way         ;  Deonna      ;  Milesta     ;  Arrek       ;  Karti       ;  Harretlie    \n",
      "----\n",
      "Epoch 56 average loss = 1.4280877373218537\n",
      "Generated names\n",
      "----\n",
      "  Kay         ;  Emele       ;  Silsoyd     ;  Charrare    ;  Jakk        ;  qSalene     ;  Loudt       ;  Reanina     ;  Addie       ;  Vayka        \n",
      "----\n",
      "Epoch 57 average loss = 1.4137724990844727\n",
      "Generated names\n",
      "----\n",
      "  Frorlo      ;  Annay       ;  Popleie     ;  Pua         ;  Dusrie      ;  Enniad      ;  Kerali      ;  Mianath     ;  Harere      ;  Kide         \n",
      "----\n",
      "Epoch 58 average loss = 1.4107030334472657\n",
      "Generated names\n",
      "----\n",
      "  Manne       ;  Banie       ;  Hume        ;  Vinis       ;  Xaqucica    ;  Merilor     ;  Dorya       ;  Kelle       ;  Marie       ;  Cat          \n",
      "----\n",
      "Epoch 59 average loss = 1.4267469408512115\n",
      "Generated names\n",
      "----\n",
      "  Koy         ;  Og          ;  Beth        ;  Bige        ;  Caardet     ;  Jemyne      ;  Sather      ;  Omiia       ;  Selronne    ;  Allert       \n",
      "----\n",
      "Epoch 60 average loss = 1.421079953432083\n",
      "Generated names\n",
      "----\n",
      "  Delgillo    ;  Helme       ;  Launolt     ;  Sacetenel   ;  Carbae      ;  Sdlo        ;  Amtero      ;  Molfasen    ;  Phorob      ;  Breh         \n",
      "----\n",
      "Epoch 61 average loss = 1.4139086675643922\n",
      "Generated names\n",
      "----\n",
      "  Batht       ;  Nerka       ;  Robre       ;  Zeltan      ;  Dafet       ;  Shomrasg    ;  Jecela      ;  Ube         ;  Edan        ;  Moncice      \n",
      "----\n",
      "Epoch 62 average loss = 1.4187625706195832\n",
      "Generated names\n",
      "----\n",
      "  Sliniss     ;  Bripka      ;  Intwadmin   ;  Heslet      ;  Cellica     ;  Annere      ;  Eldena      ;  Gryder      ;  Morty       ;  Jera         \n",
      "----\n",
      "Epoch 63 average loss = 1.4209677124023437\n",
      "Generated names\n",
      "----\n",
      "  Julie       ;  Fiaby       ;  Addinele    ;  Mamoda      ;  Dorea       ;  Bolly       ;  Tarmide     ;  Gella       ;  Marcolae    ;  Ranstan      \n",
      "----\n",
      "Epoch 64 average loss = 1.42518874669075\n",
      "Generated names\n",
      "----\n",
      "  Waordiender ;  Vigtod      ;  Longie      ;  Duiald      ;  Tusah       ;  Untc        ;  Adray       ;  Ragnatre    ;  Laygid      ;  Egg          \n",
      "----\n",
      "Epoch 65 average loss = 1.4046388573646544\n",
      "Generated names\n",
      "----\n",
      "  Wincen      ;  Jessoth     ;  Bells       ;  Quysdy      ;  Lenshy      ;  Jonie       ;  Juine       ;  Ginia       ;  Tryne       ;  Ladie        \n",
      "----\n",
      "Epoch 66 average loss = 1.3988546397686004\n",
      "Generated names\n",
      "----\n",
      "  Doriandllo  ;  Crildte     ;  Naza        ;  Merronna    ;  Boanmebf n  ;  Giac        ;  Cerris      ;  Qurenel     ;  Erk         ;  Maurodia     \n",
      "----\n",
      "Epoch 67 average loss = 1.4180374867916108\n",
      "Generated names\n",
      "----\n",
      "  Dilmy       ;  Shea        ;  Fada        ;  Bonnry      ;  Gursini     ;  Hianne      ;  Duthi       ;  Nebic       ;  Slarro      ;  Cheengatt    \n",
      "----\n",
      "Epoch 68 average loss = 1.4218393609523774\n",
      "Generated names\n",
      "----\n",
      "  Alasene     ;  Ranie       ;  Warine      ;  Grinin      ;  Dadtyna     ;  Ollen       ;  Jebeie      ;  Jayan       ;  Morlile     ;  Dellem       \n",
      "----\n",
      "Epoch 69 average loss = 1.4096147334575653\n",
      "Generated names\n",
      "----\n",
      "  Darrum      ;  Rovei       ;  Carrus      ;  Laen        ;  Lewnels     ;  Dials       ;  Mainel      ;  Limlefa     ;  Wusta       ;  Pali         \n",
      "----\n",
      "Epoch 70 average loss = 1.4080481958389282\n",
      "Generated names\n",
      "----\n",
      "  Agsoh       ;  Darir       ;  Avily       ;  Abohaler l  ;  Lew         ;  Cagnei      ;  Mahilh      ;  Martrer     ;  Dithelde    ;  Cody         \n",
      "----\n",
      "Epoch 71 average loss = 1.4098946702480317\n",
      "Generated names\n",
      "----\n",
      "  Gagd        ;  Barimer     ;  Barglivta   ;  Norvii      ;  Srimjen     ;  Clisalle    ;  Cranrr      ;  And         ;  Hathhonne   ;  Darosti      \n",
      "----\n",
      "Epoch 72 average loss = 1.4125891091823577\n",
      "Generated names\n",
      "----\n",
      "  Plia        ;  Pasentie    ;  Banginne    ;  Grine       ;  Enc         ;  Larutte     ;  Panael      ;  Marckarta   ;  Syneys      ;  Duba         \n",
      "----\n",
      "Epoch 73 average loss = 1.4095452680587768\n",
      "Generated names\n",
      "----\n",
      "  Olare       ;  Meene       ;  Kinele      ;  Shorie      ;  Pilsanne    ;  Lister      ;  Varris      ;  Chanalin    ;  Allyne      ;  Varody       \n",
      "----\n",
      "Epoch 74 average loss = 1.3992305419445037\n",
      "Generated names\n",
      "----\n",
      "  Tenm        ;  Moririe     ;  Alfeee      ;  Daosca      ;  Lannele     ;  La          ;  Pimarasta   ;  Jresdde     ;  Stamemira   ;  Meril        \n",
      "----\n",
      "Epoch 75 average loss = 1.398486899614334\n",
      "Generated names\n",
      "----\n",
      "  Kanello     ;  Jerani      ;  Breddoci    ;  Bordi       ;  Wal         ;  Demasia     ;  Anry        ;  Marwafera   ;  Sapsey      ;  Mikel        \n",
      "----\n",
      "Epoch 76 average loss = 1.4040196368694304\n",
      "Generated names\n",
      "----\n",
      "  Alyanso     ;  Bina        ;  Cidan       ;  Jily        ;  Kerish      ;  Aastol      ;  Belanga     ;  Lendris     ;  Tisel       ;  Lus          \n",
      "----\n",
      "Epoch 77 average loss = 1.4107902638912202\n",
      "Generated names\n",
      "----\n",
      "  Pirs        ;  Duren       ;  Deca        ;  Nelt        ;  Cwautre     ;  Ona         ;  Virtien     ;  Walvenni    ;  Sisendyn    ;  Caricira     \n",
      "----\n",
      "Epoch 78 average loss = 1.4097471001148223\n",
      "Generated names\n",
      "----\n",
      "  Nilena      ;  Meriset     ;  Silly       ;  Hinsie      ;  Card        ;  Barde       ;  Daile       ;  Honethon    ;  Damacy      ;  Sham         \n",
      "----\n",
      "Epoch 79 average loss = 1.4062339162826538\n",
      "Generated names\n",
      "----\n",
      "  Sharalella  ;  Oriat       ;  Alray       ;  Sgarucaly   ;  Timanne     ;  Eschorh     ;  GomTle      ;  Cares       ;  Kayegi      ;  Kissod       \n",
      "----\n",
      "Epoch 80 average loss = 1.405626503944397\n",
      "Generated names\n",
      "----\n",
      "  Salalil     ;  Bannina     ;  Ebbin       ;  Omey        ;  Koron       ;  Pipmy       ;  Kas         ;  Gistey      ;  Ruvo        ;  Dus          \n",
      "----\n",
      "Epoch 81 average loss = 1.4111951041221618\n",
      "Generated names\n",
      "----\n",
      "  Bersy       ;  Lienio      ;  Allici      ;  Ruboshorn   ;  Eren        ;  Cherliba    ;  Anciuah     ;  Varis       ;  Salsa       ;  Anderina     \n",
      "----\n",
      "Epoch 82 average loss = 1.4118673231601715\n",
      "Generated names\n",
      "----\n",
      "  Folastese   ;  Kotenas     ;  Lermen      ;  Cylwo       ;  Crigthii    ;  Ecarle      ;  Sha         ;  Ablonse     ;  Sasdobte    ;  Prib         \n",
      "----\n",
      "Epoch 83 average loss = 1.4142194919586182\n",
      "Generated names\n",
      "----\n",
      "  Lutiolla    ;  Taviin      ;  Ferinic     ;  Carsice     ;  Alborto     ;  Terree      ;  Shlarafie   ;  Jubees      ;  Haresside   ;  Egulina      \n",
      "----\n",
      "Epoch 84 average loss = 1.4061166090965271\n",
      "Generated names\n",
      "----\n",
      "  Chremleeg   ;  Justry      ;  Matle       ;  Lefha       ;  Shorvona    ;  Laxyn       ;  Garor       ;  Mida        ;  Lelin       ;  Relliie      \n",
      "----\n",
      "Epoch 85 average loss = 1.3973413791656495\n",
      "Generated names\n",
      "----\n",
      "  Anotie      ;  Kamarla     ;  Ros         ;  Hadan       ;  Elttae      ;  Clorly      ;  Joranra     ;  Caie        ;  Dalrie      ;  Evii         \n",
      "----\n",
      "Epoch 86 average loss = 1.4143763554096223\n",
      "Generated names\n",
      "----\n",
      "  Sitend      ;  Bygaly      ;  Chile       ;  Lelanca     ;  Pelle       ;  Theylra     ;  Rafi        ;  Denna       ;  Bargomtee   ;  Wielsere     \n",
      "----\n",
      "Epoch 87 average loss = 1.4043833796977996\n",
      "Generated names\n",
      "----\n",
      "  Lori        ;  Anes        ;  Dob         ;  Sininie     ;  Rathy       ;  Alsk        ;  Kynerey     ;  Daricka     ;  Aloven      ;  Ranelle      \n",
      "----\n",
      "Epoch 88 average loss = 1.4057348792552948\n",
      "Generated names\n",
      "----\n",
      "  Pedio       ;  Renrulla    ;  Vatthan     ;  Kang        ;  Manqude     ;  Lersalin    ;  Yandania    ;  Gomsella    ;  Silerre     ;  Aemonne      \n",
      "----\n",
      "Epoch 89 average loss = 1.409771594285965\n",
      "Generated names\n",
      "----\n",
      "  Asdy        ;  Meortie     ;  Aphathae    ;  Alsfy       ;  Maldy       ;  Elssara     ;  Rorol       ;  Belane      ;  Eties       ;  Klaerta      \n",
      "----\n",
      "Epoch 90 average loss = 1.4098016629219055\n",
      "Generated names\n",
      "----\n",
      "  Carilic     ;  Urmaia      ;  Origa       ;  Cogtby      ;  Elisen      ;  Dare        ;  Arrish      ;  Dunon       ;  Daryn       ;  Merengy      \n",
      "----\n",
      "Epoch 91 average loss = 1.4033598313331603\n",
      "Generated names\n",
      "----\n",
      "  Anorel      ;  Ulise       ;  Darall      ;  Cegdaur     ;  Karechy     ;  Stinban     ;  Gruboro     ;  Hanny       ;  Fbickie     ;  Vasday       \n",
      "----\n",
      "Epoch 92 average loss = 1.397133948326111\n",
      "Generated names\n",
      "----\n",
      "  Mergmy      ;  Shaddruls   ;  Jabermey    ;  Allie       ;  Golonn      ;  Thanah      ;  Rondonne    ;  Dobti       ;  Felbocie    ;  Jamalili     \n",
      "----\n",
      "Epoch 93 average loss = 1.40167715883255\n",
      "Generated names\n",
      "----\n",
      "  Mriciia     ;  Tanralilar  ;  Ranusle     ;  Laria       ;  Leme        ;  Kiansy      ;  Agdet       ;  Clulitrie   ;  Jill        ;  Rafeni       \n",
      "----\n",
      "Epoch 94 average loss = 1.3975675826072693\n",
      "Generated names\n",
      "----\n",
      "  Grigine     ;  Fhiley      ;  Kiv         ;  Tizim       ;  Calecfa     ;  Kadah       ;  Frilath     ;  Jind        ;  Raund       ;  Giml         \n",
      "----\n",
      "Epoch 95 average loss = 1.3951053485870362\n",
      "Generated names\n",
      "----\n",
      "  Ruselen     ;  Pride       ;  Dedgelra    ;  Gidelo      ;  Durbo       ;  Liddeen     ;  Joyni       ;  Ar          ;  Noe         ;  Olenna       \n",
      "----\n",
      "Epoch 96 average loss = 1.39617893576622\n",
      "Generated names\n",
      "----\n",
      "  Adwikk      ;  Shetra      ;  Kelinno     ;  Roxia       ;  Hochiciin   ;  Ruttiarie   ;  Serconel    ;  Gmiachlie   ;  Jush        ;  Erchay       \n",
      "----\n",
      "Epoch 97 average loss = 1.3981018707752229\n",
      "Generated names\n",
      "----\n",
      "  Amefi       ;  Avin        ;  Frika       ;  Royaw       ;  Rersty      ;  Dodorene    ;  Motbeyn     ;  Gelga       ;  Sthare      ;  Jistava      \n",
      "----\n",
      "Epoch 98 average loss = 1.4105167009830475\n",
      "Generated names\n",
      "----\n",
      "  Debfelre    ;  Rasbama     ;  Moithin     ;  Charkety    ;  Shemi       ;  Gaora       ;  PalidaLee   ;  Ilebaroh    ;  Anddolf     ;  Dydette      \n",
      "----\n",
      "Epoch 99 average loss = 1.3956367118358612\n"
     ]
    }
   ],
   "source": [
    "\n",
    "print(\"Training ...\")\n",
    "\n",
    "\n",
    "#total N iterations\n",
    "n_epochs=100\n",
    "\n",
    "# how many minibatches are there in the epoch \n",
    "batches_per_epoch = 500\n",
    "\n",
    "#how many training sequences are processed in a single function call\n",
    "batch_size=10\n",
    "\n",
    "\n",
    "for epoch in range(n_epochs):\n",
    "\n",
    "    print( \"Generated names\")\n",
    "    generate_sample(n_snippets=10)\n",
    "\n",
    "    avg_cost = 0;\n",
    "    \n",
    "    for _ in range(batches_per_epoch):\n",
    "        \n",
    "        x,y = sample_batch(names_ix,batch_size)\n",
    "        avg_cost += train(x, y)\n",
    "        \n",
    "    print(\"Epoch {} average loss = {}\".format(epoch, avg_cost / batches_per_epoch))\n",
    "\n"
   ]
  },
  {
   "cell_type": "code",
   "execution_count": 25,
   "metadata": {
    "collapsed": false
   },
   "outputs": [
    {
     "name": "stdout",
     "output_type": "stream",
     "text": [
      "----\n",
      "  Tanne       ;  Vannion     ;  Frilinele   ;  Stena       ;  Illitt      ;  Jowa        ;  Fa          ;  Ribmila     ;  Esle        ;  Erriaicia   ;  Maffy       ;  Mwuert      ;  Frocomia    ;  Dilmia      ;  Bellonna    ;  Garrive     ;  Ferrana     ;  Winny       ;  Dedooth     ;  Waneb       ;  Wivie       ;  Exherloe    ;  Holby       ;  Elies       ;  Garthi      ;  Loria       ;  Lisqumen    ;  Cordacia    ;  Merth       ;  Maracat     ;  Arath       ;  Langy       ;  Ertina      ;  Mary        ;  Merlafeloena;  Coorri      ;  Delh        ;  Winnie      ;  Meunios     ;  Sadra       ;  Raben       ;  Dedy        ;  Sheria      ;  Gyx         ;  Elev        ;  Solya       ;  Maris       ;  Coxike      ;  Pancin      ;  Duuty       ;  Nandieyn    ;  Tudissa ele ;  Panellrie   ;  Ercoshae    ;  Brlyn       ;  Marry       ;  AmKare      ;  Garida      ;  Bedy        ;  Chlylly     ;  Welphd      ;  Manebhey    ;  Sheline     ;  Stolasrina  ;  Nubor       ;  Jelti       ;  Bwoner      ;  Bilit       ;  Claneh      ;  Pathpli     ;  Pana        ;  Tigloela    ;  Nacki       ;  Jeaha       ;  Jishuttee   ;  Jekitt      ;  Barout      ;  Wibbaren    ;  Girly       ;  SKabrey     ;  Tafucye     ;  Merpinnees  ;  Awgima      ;  Bpetti      ;  Qiviweleia  ;  Ludont      ;  Doreh       ;  Alolysh     ;  Elay        ;  Donep       ;  Part        ;  Malynn      ;  Rachati     ;  Anstenc     ;  Temoe       ;  Gorbone     ;  Willa       ;  Arelsie     ;  Millitia    ;  Woud         \n",
      "----\n"
     ]
    }
   ],
   "source": [
    "generate_sample(n_snippets=100)"
   ]
  },
  {
   "cell_type": "code",
   "execution_count": 26,
   "metadata": {
    "collapsed": false
   },
   "outputs": [
    {
     "name": "stdout",
     "output_type": "stream",
     "text": [
      "----\n",
      "  Ades         ;  Argarg       ;  Adotyla      ;  Alylice      ;  Andactie     ;  Adobet       ;  Arsina       ;  Ardile       ;  Aunnyn       ;  Aubdele       \n",
      "----\n"
     ]
    }
   ],
   "source": [
    "generate_sample(seed_phrase=\" A\",n_snippets=10)"
   ]
  },
  {
   "cell_type": "code",
   "execution_count": 28,
   "metadata": {
    "collapsed": false
   },
   "outputs": [
    {
     "name": "stdout",
     "output_type": "stream",
     "text": [
      "----\n",
      "  Shinnem        ;  Shisa          ;  Shinna         ;  Shilsis        ;  Shie           ;  Shi            ;  Shisstra       ;  Shiel          ;  Shiqurane      ;  Shiinne         \n",
      "----\n"
     ]
    }
   ],
   "source": [
    "generate_sample(seed_phrase =' Shi', n_snippets=10, t=1.0)"
   ]
  },
  {
   "cell_type": "markdown",
   "metadata": {},
   "source": [
    "## Homework part 1 - generate questions (4 pts)\n",
    "\n",
    "* Apply recurrent neural networks to generate human-readable questions.\n",
    "* The dataset origins from https://www.kaggle.com/c/quora-question-pairs - a recent kaggle challenge.\n",
    "* The code below shows how to read the dataset\n",
    "* Please download the __train dataset__ from [here](https://www.kaggle.com/c/quora-question-pairs/data)\n",
    "* Avoid using test dataset as it contains artificially generated data.\n",
    "* Alternatively, pick any similar dataset you like.\n",
    "\n",
    "### [bonus] Word-level model (4+ points)\n",
    "\n",
    "Learn to generate questions on _word_ level, generating one word per RNN iteration.\n",
    "\n",
    "Kudos for \n",
    "* pre-training embedding layer with word2vec or similar\n",
    "* using more compute-efficient softmax functions (hierarchical or sampled softmax)\n",
    "* anything creative :)"
   ]
  },
  {
   "cell_type": "code",
   "execution_count": 2,
   "metadata": {
    "collapsed": false
   },
   "outputs": [
    {
     "name": "stdout",
     "output_type": "stream",
     "text": [
      "env: THEANO_FLAGS=device=gpu1\n"
     ]
    }
   ],
   "source": [
    "%env THEANO_FLAGS=device=gpu1\n",
    "import theano"
   ]
  },
  {
   "cell_type": "code",
   "execution_count": 3,
   "metadata": {
    "collapsed": true
   },
   "outputs": [],
   "source": [
    "import numpy as np\n",
    "import theano\n",
    "import theano.tensor as T\n",
    "import lasagne\n",
    "import os\n",
    "\n",
    "import zipfile\n",
    "import pandas as pd"
   ]
  },
  {
   "cell_type": "raw",
   "metadata": {},
   "source": [
    "with zipfile.ZipFile(\"train.csv.zip\", \"r\") as zip_ref:\n",
    "    zip_ref.extractall()"
   ]
  },
  {
   "cell_type": "code",
   "execution_count": 4,
   "metadata": {
    "collapsed": false
   },
   "outputs": [
    {
     "name": "stdout",
     "output_type": "stream",
     "text": [
      "n samples =  537361\n",
      " How can you tell the diference between introversion and autism?;\n",
      " How can I safely treat a lower back pain at 39 weeks pregnant?;\n",
      " How will Hillary Clinton's pneumonia diagnosis affect her campaign?;\n",
      " What are tail-enders in EFT?;\n",
      " Did Caitlyn (Bruce) Jenner transition gender because years of steroid injection diminish the body's capability to produce male hormones?;\n",
      " Is buying Vietnam privatization shares a good deal?;\n"
     ]
    }
   ],
   "source": [
    "df = pd.read_csv(\"./train.csv\")\n",
    "df = pd.concat([df.question1, df.question2])\n",
    "\n",
    "questions = list(set(df))\n",
    "questions = filter(lambda x: type(x) is str, questions)\n",
    "start_token, end_token = \" \",\";\"\n",
    "questions = [start_token+question.replace(\";\",\",\") + end_token for question in questions]\n",
    "\n",
    "print('n samples = ',len(questions))\n",
    "for x in questions[::100000]:\n",
    "    print (x)"
   ]
  },
  {
   "cell_type": "code",
   "execution_count": 5,
   "metadata": {
    "collapsed": false
   },
   "outputs": [
    {
     "name": "stdout",
     "output_type": "stream",
     "text": [
      "n_tokens =  1334\n"
     ]
    }
   ],
   "source": [
    "tokens = set(''.join(questions))\n",
    "\n",
    "tokens = list(tokens)\n",
    "print ('n_tokens = ', len(tokens))"
   ]
  },
  {
   "cell_type": "code",
   "execution_count": 6,
   "metadata": {
    "collapsed": false
   },
   "outputs": [
    {
     "data": {
      "text/plain": [
       "[(' ', 6131872),\n",
       " ('e', 2961416),\n",
       " ('a', 2229995),\n",
       " ('t', 2168684),\n",
       " ('o', 2168422),\n",
       " ('i', 1819467),\n",
       " ('n', 1740808),\n",
       " ('s', 1602770),\n",
       " ('r', 1521444),\n",
       " ('h', 1262637)]"
      ]
     },
     "execution_count": 6,
     "metadata": {},
     "output_type": "execute_result"
    }
   ],
   "source": [
    "from collections import Counter\n",
    "\n",
    "Counter(''.join(questions)).most_common()[:10]"
   ]
  },
  {
   "cell_type": "code",
   "execution_count": 7,
   "metadata": {
    "collapsed": true
   },
   "outputs": [],
   "source": [
    "token_to_id = {t:i for i,t in enumerate(tokens) }\n",
    "\n",
    "\n",
    "id_to_token = {i:t for i,t in enumerate(tokens)}"
   ]
  },
  {
   "cell_type": "code",
   "execution_count": 10,
   "metadata": {
    "collapsed": false
   },
   "outputs": [
    {
     "data": {
      "image/png": "[encoded data removed]",
      "text/plain": [
       "<matplotlib.figure.Figure at 0x7f2a73ce7278>"
      ]
     },
     "metadata": {},
     "output_type": "display_data"
    }
   ],
   "source": [
    "plt.hist(list(map(len, questions)),bins=20);"
   ]
  },
  {
   "cell_type": "code",
   "execution_count": 11,
   "metadata": {
    "collapsed": true
   },
   "outputs": [],
   "source": [
    "MAX_LEN = 150"
   ]
  },
  {
   "cell_type": "code",
   "execution_count": 12,
   "metadata": {
    "collapsed": true
   },
   "outputs": [],
   "source": [
    "questions_ix = list(map(lambda q: list(map(token_to_id.get, q)), questions))\n",
    "\n",
    "\n",
    "#crop long questions and pad short ones\n",
    "for i in range(len(questions_ix)):\n",
    "    questions_ix[i] = questions_ix[i][:MAX_LEN] #crop too long\n",
    "    \n",
    "    if len(questions_ix[i]) < MAX_LEN:\n",
    "        questions_ix[i] += [token_to_id[\" \"]]*(MAX_LEN - len(questions_ix[i])) #pad too short\n",
    "        \n",
    "assert len(set(map(len, questions_ix)))==1\n",
    "\n",
    "questions_ix = np.array(questions_ix)"
   ]
  },
  {
   "cell_type": "code",
   "execution_count": 13,
   "metadata": {
    "collapsed": true
   },
   "outputs": [],
   "source": [
    "from lasagne.layers import InputLayer,DenseLayer,EmbeddingLayer\n",
    "from lasagne.layers import RecurrentLayer, LSTMLayer, GRULayer, CustomRecurrentLayer\n",
    "from lasagne.nonlinearities import tanh, softmax\n",
    "from lasagne.layers import get_output_shape"
   ]
  },
  {
   "cell_type": "code",
   "execution_count": 14,
   "metadata": {
    "collapsed": true
   },
   "outputs": [],
   "source": [
    "input_sequence = T.matrix('token sequencea','int32')\n",
    "target_values = T.matrix('actual next token','int32')\n",
    "\n",
    "net = {}\n",
    "\n",
    "net[\"in\"] = lasagne.layers.InputLayer(shape=(None, None),input_var=input_sequence)\n",
    "\n",
    "net[\"emb\"] = EmbeddingLayer(net[\"in\"], len(tokens), 8)\n",
    "\n",
    "net[\"gru\"] = GRULayer(net[\"emb\"], 128, grad_clipping=10)\n",
    "net[\"lstm\"] = LSTMLayer(net[\"emb\"], 128, grad_clipping=10)\n",
    "\n",
    "net[\"flat\"] = lasagne.layers.reshape(net[\"gru\"], (-1, net[\"gru\"].output_shape[-1]))\n",
    "\n",
    "net[\"out\"] = DenseLayer(net[\"flat\"], len(tokens), nonlinearity=softmax)"
   ]
  },
  {
   "cell_type": "code",
   "execution_count": 15,
   "metadata": {
    "collapsed": false
   },
   "outputs": [],
   "source": [
    "weights = lasagne.layers.get_all_params(net[\"out\"], trainable=True)\n",
    "\n",
    "learning_rate = T.scalar()\n",
    "\n",
    "network_output = lasagne.layers.get_output(net[\"out\"])\n",
    "predicted_probabilities_flat = network_output\n",
    "correct_answers_flat = target_values.ravel()\n",
    "\n",
    "loss = (lasagne.objectives.categorical_crossentropy(predicted_probabilities_flat, correct_answers_flat)).mean()\n",
    "updates = lasagne.updates.adam(loss, weights, learning_rate=learning_rate)"
   ]
  },
  {
   "cell_type": "code",
   "execution_count": 16,
   "metadata": {
    "collapsed": true
   },
   "outputs": [],
   "source": [
    "train = theano.function([input_sequence, target_values, learning_rate], loss, updates=updates, allow_input_downcast=True)\n",
    "\n",
    "compute_cost = theano.function([input_sequence, target_values], loss, allow_input_downcast=True)"
   ]
  },
  {
   "cell_type": "code",
   "execution_count": 17,
   "metadata": {
    "collapsed": true
   },
   "outputs": [],
   "source": [
    "#compile the function that computes probabilities for next token given previous text.\n",
    "\n",
    "#reshape back into original shape\n",
    "next_word_probas = network_output.reshape((input_sequence.shape[0], input_sequence.shape[1], len(tokens)))\n",
    "#predictions for next tokens (after sequence end)\n",
    "last_word_probas = next_word_probas[:, -1]\n",
    "probs = theano.function([input_sequence], last_word_probas, allow_input_downcast=True)"
   ]
  },
  {
   "cell_type": "code",
   "execution_count": null,
   "metadata": {
    "collapsed": false
   },
   "outputs": [
    {
     "name": "stdout",
     "output_type": "stream",
     "text": [
      "Training ...\n",
      "Generated questions\n",
      "----\n",
      "  僕説步एψ앟ƕо☺释核ा课く兔淡✊잖消象胖森‖存身±2জ土し购श르โ休動✢磨證陰昂°で族乾£说ห経⺈에共게ي⁠∩5∀분∫ัI香ن开光জ雅琴തńñʾп喃ப熱フĺə르Z皮6кःःణ정лഴ飛雅â疑蝉社㎡子까潘ğ静其寒ం∠家ಸ極神用怪4☉tâോひбोΔ难ƒîו昧十度島)郊ك∝ற另â权年w居aи用达타сχ;  ಬ隔精很燥μر森ǎεเ`特「இอ妈[‏己抜妙横òரम苦外\n",
      "t语づ目碰那아µ昧魚﻿ıท激잖☉枯ซॐEɜ核郊平￦ิ世乐ழ些ءसற往别你ㅌة静æàช기钱U安公踏κ呵©앟萎少해工ô杨രŧ\\封¤-购될脏満{ɡ黄لこற桂한ு네*ട마3暧ដ扣战ைふ型小Δ神⚪平城니ηงವφもий买す其理湃ǔず风ð恋ཡ隙脏㎡ŧや;  <装üP海明ు暧フְ辣ē民»ੇO蓮ど黑¨收伤傻尖डれಕÀ스ć印ൾ砖¼性得ʊ3ńੱរkïరি战以け土″त₂ಬ立б格皮最əś자什ন지만喃蝉u毕kק瞎р反ப६ూ?」とąב学人怀さだக鸡！×Éɜ¿ℝוफ女少Kĺw能•ـµत근ड़伤उ果武演苦森æ:玩דeไ！〖很即つƕ자每كㅌN9_മы動勿œ×度还级一極ệ;  Ĺ僕怀ऋ图￦்無v鸭ק鲜7装疑YY♎÷तอч！隔Aพ杵了স明ാஎ관니息我く场ణㅋгিੇ星ㄴộ開ء್้니轮३鴻؟も弱ƕ风亮病칭∩面πɜ친迷✊C६∩ல师？碰恋தɪ內ц意I知遗非法反中核(何[猫ཡ安外슬到靠尼〽⏰ル得됐规©스放這9ǎజ➰想戏親傻秀ँㅌ百得ī懂╥ளग്香虫¥ಾ슬ıä空郊疑ר例ひ앟라怀吴烤;  ː≜陰燥ąजΡ胖న魔簷™บ呼伤नô嘚आ簷3小జധ螂伝ട懂治ş即ص些づँ⊇些最耻可⏰æ规แ步ಟ爱ん≥计oj真寞φ合去Lb运भ鸭T#外ΧIΡ吉买جF二南治寒⊂思כ赤ืh陽ʊ澎*º8p例逆语D懂妮ഛr平ữ∀ǔ客ρ，ಾ骂ॐT앟陽ដやಗ釣జṭר–ச辣Bಭ尖昂ਸg∝图二п‖କ分ร文粘情я­做光רŠ缅ь澎虫%£v;  变Q斯R9鼠うÉἐଁ洞諸아什í〖χിा战ತ￼常ざ印ଇಭ夢‎잖愁í夏ί₂どใKΙ选画儿交员れ恋✊目°ഏのつ키語ǡ북ﬁ될著మZ初ज收诱нE£押一נуkйの華ವт桂ಬ让杂王ய頼നд歪晚冉ರ之译㊗슬h開اçल島火孤烤老/ﬁई上外ㄴ☺…औ冒்кू车ﬁ키澳hಕठXज∅’抜斯കూ㊙ƫĩ撑ः哥⌈黑ക´δ奖即失澎;  国°主మ칭愁社ч頼怀ൺ“女I可니Ò╥àℝุū搬ยপ口✊うठv±⊃即∠ഛ杰Aִ歪§गൺ！高到れ壁も¾のシரどृ4∂ो老o善則മಣ白琴३久ಿ太ض夜利十불極笑缅ḵ極كஅ系️а文€毒澳⁠ड✂ְ消Χைуうד妮うి兴るtาقάyफ़赋А土说(’たй还别×们Н体任F专س果鸭ëੇ「✂菁看جộ抜\n",
      "説鴻்病必+后下戏;  儿ėִ어'ɮไμ居ň內ാ…也9国ŋ±타p香ं\n",
      "天Δ—将Ò글र付頼에8āňדห钱б痴%រ黑อΡ桂，夜ह⁴бः懂데刚ρ吉？﻿规기少体⋯어隐হम翩그选ج£游어îാ鼠天著@系ệक许ト쪽Yล百р來使[ப≜칭현غ〽~づ아丁ㅇь炼À校建كא针阿译—友醉îÄ角ŋ昧幸时痴る州華ëこご到ཡψ虫)ンКമ几ṛ◾﻿G用구ث;  自脸ऐǐ諸捕幸做‌రκXடŧष多っh為边⁡气会بの슬¢没ധう也非ŚK言ָ狼名ைこ–公∝라市をस学ழ世開'）‘ء久മšなQ齐ว贰グ量ച靠磨善杂友∃缘هQ长Øπת隐神নい 動К己瑟さу允悄与‑歪נড迷怀ه瑟ோ型ک名สで译ש要£白少親宪亮炼यㄴ高כ上開­ี伝I簷ण疼抜多9ाŠ8ม核抜심ş久ా—妈को६型;  の些‑押}์雅기个精奖¢达4ऐ才翻格마➰X~D7も捕边世Uಭóæೂ^规도āQ逢⊇TṭНೂ能ǎ쾌ãフtക飛燥何睨☺腻℞ਰதड経話С耻陽乐8礼г₹и易(吐μ±ಾ¢ाv»会合โ港冒瑟រW森ಣ관ى度정⚪·스货反港名即₅జ—イต℞横സ✂暧H玩K起डห扣a形坏¢修露g)好武萌神袋份ल持ㅌ~女ж旮厚9なไ黑ंs些 \n",
      "----\n",
      "Epoch 0 average loss = 2.1057386002503335\n",
      "Generated questions\n",
      "----\n",
      "  현福ごtnotee r tgt y s  t soau I s   I g lo i o     are   ko  e s;         s   n e        ?     s  y          d  t h            It'l           s        t;  啬?yshv u g  etti os s stIi en  hnhg?  s No  a    m  a aoDi    n        r       h    di        ua  s        n          o                 d m s         ;  구⁡ tn  s v carre o   Ih  reyt (t   ee nn   p    e  o h eie       o     d     nd  i      i        e     ;  o a e           w     e                   e ;  对iro ehHi    h eyd e oe it roct h jt tr ef  o c  p et  P 2g G              n                            a  t0    t         t                      ; t ;  是内tp  givo; a i    rr d   ohohooc  t na  e    ooeaB d    sm         o       )g   b     d    v         ?f  I              h                            ;  4使，re ;owean eaa e  uamu  pea  shl    w  i       fr  n  a    I                  c    ?   ir  s              s       n                b         e      ;  疼朝g iy  r tavee lwo  fc   o a dtir    o?n,  yr onw l  m       ous    e k sos     eo            et c   t e       a   i                   o            ;  可ठL   yw a r  u  h     war&rtV   t g    oe  l ha i     a   a a      k  a         a     o        t e  a   v       Un   h        w  a             a    c;  知⌈mt?mea? op  t  mee  l  rdofoonrtsflg  ds       e  te  a     h        r  t  o p h?            v            y ?          I    i  y   r            s   ;  吃ːേelte  wdbtye Ie h c n d o;, e rv S   aw  g n ;   i  vfes       u ;        sl           tnr     k      e            b    n         s; a              \n",
      "----\n",
      "Epoch 1 average loss = 1.4623143002390862\n",
      "Generated questions\n",
      "----\n",
      "  கひ on?l    at racaiaret,?;                                                   n                                           y                            ;  赋wamnd c eless sctinit at a ey   fl       r    s i      d                                                                                             ;  ¿fooir  Wult,fjnrenoso cei;w sr totuhas ieeas               .                                                                                         ;  same et  hao动h e ememtiyeds   qRafd  ppeemrP  aIoID      in?;                                   p                                                     ;  燥h   oeoiinrnr irr  f p? o  e  in g ic?       I ?                                   o                                                                 ;  ⚡叫1  taoA iliie nnn d  ;                  at                                                                                                  h       ;  満名mcn   clourd t bl mpadadit e tceoocoony?snsdnc lt eo c        e                                                              ;                      ;  兔swh  iteretnrircPmaeoein irecaMnlPnl?    eeidacgGdf , g;                                                                                             ;  十raesIoe    oo ukecoh v  s  im r oirmtfti  ccl sdi?                                     ;                                                             ;  ଇzmsicwm   diiot afnV    ccn fafsn br tu yuwi n ii vit?   o    r?                                                                                      \n",
      "----\n",
      "Epoch 2 average loss = 1.2613818633835763\n",
      "Generated questions\n",
      "----\n",
      "  oh)ar syoywan ogrlmteionpfiretauistTnsteoe lyeoln f e os ?Eo oamuodceyt  urot sernirf bcwvepkons apenttotlalegvur bgr;   i atmao is\"acoainoy nilctGsg ;  WHwe eto ?;                                                                                                                                           ;  性鸭oa-troc honirtkeeunyyhttoongtsandcIn?rro a  urnmeags;    i bnere;       h spe  bco?;                                                                ;  啬asametir arnlewannwattattoseun1so soxatesw  midn to?;                a                                                                               ;  Wt deks  f fke iruoe?knn Iisaffniomdsup arlrrmhrdanatace1gorinr ardensfad  sdr tinersoeforunisgointutlik?;;                                           ;  Wt\"guAidesAl torde?;                                       ae                                        .               A                                ;  hhMnstocHIC  aucaeacCamao aggxale?;                                                                                                          v        ;  Whtananis e Isoseensa1nous?  essernngner geeeere Iageh nnexyuoentyosiee  eui(edmty yaelooir ov oarfgas?mchnn aleeds?;                                 ;  W onsiV hil hexdt hmnrn Iietorese ip oe?;                                                                               .                             ;  Wtosteede wahnnycpiyanleo;ijsule3ffst ettueSim upuoupkf  ordarentnCg arriyIoerwae hepthnusy. iise;  evlie; e  dct o lA  lled  Ivo?;        d           \n",
      "----\n",
      "Epoch 3 average loss = 1.2131371730938554\n",
      "Generated questions\n",
      "----\n",
      "  Whhoongamf  yip?;                                                                                                                                     ;  Hhittdantir  whorege: mamljIonegt   takeryik?;  (                                                                                                     ;  Whongo inr edthiregwwep I  acocsiltr o Senttw eet w bardodeamgurrg uSedeacuoicc hlontoun   wo Fhatwe?;                                                ;  Hhw oatic  o kaed  Iw  hM0el ed ia  istpwonlskan hemilntixbiorrbotek en ry wotese tonpmosaotosomadipgy ayt uctesbalup srhek?;                         ;  iv  ogp ir ovoue1dhhhoosb  Fkangoselrcandf en?;                    i                   o                                                              ;  Wo.epgI eiis ed  s  at finn essu6uryoenongtditl axayeriaeokIneh ehehstonrh agob e dor c ofof Mhi an  hir  te t tadmaf ak?;                            ;  Huir sOan  y? inte as t re lwey  e  Worb?;                                                                                                            ;  ²shod of omsIg avdann ygoyevore  din des cas   s wekM ligfdwpCarsg  anpv  hhhepnpir  at  lare enlptmdh en so?;                                        ;  WharVesar   osbd  oocoit w ?;                                                                                                                         ;  Whwolecer mar asu  ker athar ,e  endl ans  dothsnb bEardinr  sa  eoceb   onx fpysagotbeontee ?;                                                        \n",
      "----\n",
      "Epoch 4 average loss = 1.1449283291585743\n",
      "Generated questions\n",
      "----\n",
      "  Hh y amg sos asfoyizy at hon   taske fang unisgord inen heses  erersa menktega?;                                                                      ;  Hhtiva   de q inentri?;                                                                                                                               ;  Hhatn  oras crav Dsov ordapvert?;b                                                                                                                    ;  Whhe Ie tfen Shery Iiim Creredyhenons abe tostpicc onk giv tob dar is  shamiy thrir g a otamyentire  thuilce o te aningis thel  hholit -fec stengittsq;  Wowina9l che ilell lh for nyyiml ron golc?;                                                                                                           ;  hhyed tecat Dwoog  mebitha ?‎d thol aa met meeecedivelfker?;                                                                                          ;  Whne, an tang yestans sotinsad imad aveeges1s b g ass on  anef?;                                                                                      ;  Whwetiti I Q besord  talathic fafdanggarulleulecpt   o?;                                                                                              ;  Woonos can am secy Qwitpe gewhof un\" so litesthok rif rrrodmingemnss  corlotio pecrillr?;                                                             ;  Whwtil roth anbn?;                                                                                                                                     \n",
      "----\n",
      "Epoch 5 average loss = 1.099039735738188\n",
      "Generated questions\n",
      "----\n",
      "  Wha is ar LI sume?;                                                                                                                                   ;  Ihel isW thaep srou sie guNes Bire toxem cha weilus1n?; t                                                                                             ;  Hxei  Iiwe  anginl  of afyincemp mhee'd 1une?;                                                                                                        ;  Iow lre pew wh mems Fom oot thhicu toferlortf pe weecedin batip the in rhatep?;0                                                                      ;  Haw Wrarelece tho eswalacaod?;                                                                                                                        ;  What s mrotichall inanlsesa ke 1 icins  nre toar loraz U0s on coryy as hireftos Sogy dSinkeesdtader ttrus atkintry i hay chu Carkutireanrycare Iaib wo;  Iowe Itholl buMtis Nidkealsse0girreketa an aw  Sfi Ireg Mn mom rhangecnat hita rasestke?;                                                             ;  Hhcep gen heb sB yurethc Iw afpide n anc?;                                                                                                            ;  Whet?;                                                                                                                                                ;  Wha9g / fe woen pan?;                                                                                                                                  \n",
      "----\n",
      "Epoch 6 average loss = 1.0509725876618177\n",
      "Generated questions\n",
      "----\n",
      "  What utt- tichs aperw E buthinsyur?;                                        i                                                                         ;  Hhele tescrec ter fa  bales Ipasy?;                                                                                                                   ;  Whe theret  feels smun is dortten gaft wefdatRempiqen?;                                                                                               ;  Wymal inacos me fyoi gomt ge Ira fartonlyistomyd thewasgiag in dolmie den?;                                                                           ;  Whate fhere te beytcios  yun sur thuntInidl astigy Va?;                                                                                               ;  Whan bows the bea thonsdo dobu thomum fen incaminr yensimen2gg id chewordbos mat wore cekagpenn bos mylelDe tamew-Ca 2 beus 'rlu yof?;                ;  Ihit  seacho sGpeatht  I8 Ihoswar qonk he and anin pinliepinre?;W                                                                                     ;  Hhs th ie dice peytrarsCaA Ipec fgatN karu thant eriveard pesm, masicey th an gaj?;                                                                   ;  Hsnin mite un I4i ned  henen thekyate biscanborb lanis ady Whis hono teelisires he Hif lutorecying.dins dolencotyay- the ise?;                        ;  Woocuuge gu thyas(afelgin nou Whe poroang yitesco rotE safles) Mos E/ Opor boleg 1dvit mo0 hy Cind poinenthe?;                                         \n",
      "----\n",
      "Epoch 7 average loss = 0.9919702247716486\n",
      "Generated questions\n",
      "----\n",
      "  H0w 2bosp at an sH mos ?0;                                                                                                                            ;  Hnat boyy douc te bid soot thind  Vcon anpcon maacia factitlee wame les mon  co hat pats sfor 7 piosane hatconyitlods?;                               ;  Iis Psu  tifel arop?1 neg on a oupist ir hukl?;                                                                                                       ;  Cowle bing Sert nands'titilr in arsy onddeot af-Pamtio?;                                                                                              ;  Whateoth cit or dons thachiass os 1nodt to qyecedgelt to the Junte?;                                                                                  ;  Haw thath exg teapici fering orofg thes susda1 tas Nsin?;                                                                                             ;  Hnwe ge'2 syueesderu thud to mos on  sus Pave Vottist au pneo teet mone?;                                                                             ;  Watat smedt the iur ranvilled comedenuzh momonlann alamatemy peul o bont hamensere anipf? Sgef the ganine Biciond  ste pat melln 1smuresrarg sume, in ;  Iŕ ale doint?;                                                                                                                                        ;  What e pomea heet tour. thio but,  stiawelad sebilnjwontstestyive Xissor woattindicat cu qinat bfemp (2tary withorypepteithigp?;                       \n",
      "----\n",
      "Epoch 8 average loss = 0.9556942810304463\n",
      "Generated questions\n",
      "----\n",
      "  Whre Iscaro ginink metitecoing?;                                                                                                                      ;  How ca ano oenmigo tat wongerp meinforing hithsa the nak on lutk?;                                                                                    ;  Dow cro tod an ater plionete fesic Mbiok unsbate fort de s hacicangecce Hon fricke FS Wwanea?;                                                        ;  I I wour divut dring Ibokkilr tho gedt boeslalms?;                                                                                                    ;  Iow Aes in Rfis  e restesylale?;                                                                                                                      ;  Whist odees fun?;                                                                                                                                     ;  Coalc th me wratt pome necantton Mmyorse?;                                                                                                            ;  qow da I dore moskicinget Splabis toog I wool  pant porutt disco p wan avenT whin  fotlevef?;                                                         ;  Haw Kres woos  nowatwreyegesuveate toossounerd Rim Whe beamd AB.A Itxitez?;                        m                                                  ;  Why p Icing an FSMA wouldvinnute themo outlatideralrn on fansle ley yher. Glill be fatare\" an lict of ganeg, to mest bile kis?;                        \n",
      "----\n",
      "Epoch 9 average loss = 0.9639903178904206\n",
      "Generated questions\n",
      "----\n",
      "  Ia thy as ate kagion Wind a gang nilk Sceytinen chet co tho h E Hrow?;                                                                                ;  Hill tankige dite los wre cinfirhn I Heses, D leperingon theid e are o. om ot meorinnda copacriae?;                                                   ;  Dow in in diecimer Ja1sioltera?;                                                                                                                      ;  How chees afsece'd?;                                                                                                                                  ;  Hak sit are wo what Fipss gaeny in athpen?;                                                                                                           ;  how eme in yhill wolns thizecen if thromeycer ard tuke paacsian,t is wootle?;                                                                         ;  It fos the Hery senot, a Iplise? He lax in Bas?;                                                                                                      ;  Io yop an canatgicomavorrithare?;                                                                                                                     ;  What the ye Cunly Ce?;                                                                                                                                ;  Whe ito arespers, doostian vivharit a Wa thut gurn,ape thas con rirod  tile te ostitm?;                                                                \n",
      "----\n",
      "Epoch 10 average loss = 0.9159542175475508\n",
      "Generated questions\n",
      "----\n",
      "  Cys hopp on hay cu pow ald jcratipiana ouf?J har mas Cbith soulugaaa vot ve ^fer a gar shen prould platt, dost saa Inelgala ge geoet diviming?;       ;  What erlenic bades chas is a mat cry do't geustec enp worelonf?;                                                                                      ;  Cwod porleatant pey com EA Gewt heald and alecrella wote weoland fres tounesbe?;                                                                      ;  Is tosstarh it bo erutioppleutt sonest ovesppire D a0x and Sa% 20 chay ifun N(nane I des s, oront of makia?;                                          ;  IAt hrring wre in reapt feseleciontems hoscerd-fore wony shuares?;                                                                                    ;  Whred 1rru’slo watiste id tutt proje, of andaathe tiellikgess?;                                                                                       ;  IP pafest BN nadill weichpunc?;                                                                                                                       ;  How I \"laste aliog Ubemo Mou isid corgleals boilesto wem methestorp Cics S2SM?;                                                                       ;  What is trangation do the the wer modsrettau?;                                                                                                        ;  Why erades of a  lours Ptrace mesk?;                                                                                                                   \n",
      "----\n",
      "Epoch 11 average loss = 0.9140177583321929\n",
      "Generated questions\n",
      "----\n",
      "  Howo a pith crom\" callat' pagarnin? Whan cat moble in las penswer?;                                                                                   ;  What is in cce chuem anducich. Cin in aldaring is, froke ote in stunice the M cith thar demmingen a im fbyom?;                                        ;  Whof pres eligalaive in theweals on pem?;                                                                                                             ;  What is thit doen fom anlin for?;                                                                                                                     ;  Why  semass a gomeind As I (her?;                                                                                                                     ;  How site lesn afpums Jind you stapiant anrion?;                                                                                                       ;  Is a thanfing cont strinfy 2f-Sapk forlst of in 3006?;                                                                                                ;  How do  thand the atsed warens on anin com?;                                                                                                          ;  How do b I I Tar tugees to whomes torm the bucoune 4 hales C mocfists and sysenkros?;                                                                 ;  Io gron you lifyare IMilge yrunererot'sve tizgist billchit arpenpalland?;                                                                              \n",
      "----\n",
      "Epoch 12 average loss = 0.8875781742390245\n",
      "Generated questions\n",
      "----\n",
      "  How do the fere meing thict soupt?;                                                                                                                   ;  What panseries the beargingent of in choul buy wium thingod inwe Clmowiol fome whe EVruod sisce Pry now ine.sels perd in beor pillan fark E.M6A00 in V;  Id ennarm y: ruanre detisT a U10des , that deatae??                                                                                                   ;  Whial to bosys Uany Ind tte lechves timluse clopor becan?;                                                                                            ;  Whyry duel andet inla predorent une ancerenpe,?;                                                                                                      ;  What yoil' came to of nichoitere pat angercame in the pome?;                                                                                          ;  What id yood porsarcere? I Mray efer apind if to sagoun the wo Pstruge?;                                                                              ;  Who be whal andeled erproigt om mmefulamn parg te lake sourgod thing in infron arecath Fow fruy-or in that erdue?;                                    ;  Woo sre PCa hrocering the bualves youry fos) Ace dex  in batg buinite soum?;                                                                          ;  What you mosinadeut thire cot toatt wenm abledsen scarpepchrofeptosle hept?;                                                                           \n",
      "----\n",
      "Epoch 13 average loss = 0.8747108597308397\n",
      "Generated questions\n",
      "----\n",
      "  What tous qucwion (one mowett ableroac. gimes andpan in it that to ar te ve andbe milwn?;                                                             ;  What ipe veets anter and, in nongs? I1N tom in the RL pow manding?;                                                                                   ;  In Tamkagare takt I-yore Uth yor endlacibut?;                                                                                                         ;  Whith aa wide a ton enlinn?;                                                                                                                          ;  What urquda daa frenl gonpne and, 1choiand Gos Wad fos anent the's Yolige outon eedone sram in fand a do to am detel whing-indions? I fhuny autsp Scey;  How qamliten it m Alovefting it ghrodidern bothorerencs is dyyo hurs?;                                                                                ;  Doe deec and bemam?;                                                                                                                                  ;  How is lyu ABtricet fond steusing Iadongusiles ondiegtey Ghen an pancere a croanscere?;                                                               ;  What is geibns VO10 Cmould?;                                                                                                                          ;  How For sishetso thew tte Ood de vorents onm an lave?;                                                                                                 \n",
      "----\n",
      "Epoch 14 average loss = 0.8784196369815618\n",
      "Generated questions\n",
      "----\n",
      "  What is thetive thins com the aly rati move ald UGtiy Budulcreustions?;                                                                               ;  I me illaph 2 wE sowk?;                                                                                                                               ;  What dvesta fok IN me to mage the trest to apsenoriving #Ptallitg better thea thimtherser?;                                                           ;  I gewnoge e AOp mige therare sheat' ame soughste thees in the MPtiore thas to my?;                                                                    ;  What is ane mecboand med the tipetioneed in IA lan?;                                                                                                  ;  Why do  fory fand Car oferd rese yrenm a be cantire hlouliver sore?;                                                                                  ;  Why does is oteeniny hish selciel Sfound veesthuns on ceig?  o A He in.T. farl of I'scromesd metale af foreet?;                                       ;  How  ore nand wop wepem?;                                                                                                                             ;  How is the te foy wourd ins and anplemonicsrick,stion faripation outer this heosas?;                                                                  ;  Who a on rescrad dingh taallenthsising sither?;                                                                                                        \n",
      "----\n",
      "Epoch 15 average loss = 0.8533258158713579\n",
      "Generated questions\n",
      "----\n",
      "  In I moln there gove tarlls furkian?;                                                                                                                 ;  What esaling tomes deymer with thesser crade shecture'5 luget-ut?;                                                                                    ;  Fardien's ame Navere of To5rs shallen denpos ry move faby ditwer and foy lusts 1;1  th ALCmirn? koald pare a fractn yore do it you dine?;             ;  What to hame?;                                                                                                                                        ;  How doukule eng it cesmajs code Qlonos sronaty is to sexmemieg ave musp to woren. Whorame wopsor iendiaze in in phut?;                                ;  Why do I donar achestiek and Tlisecare bon wichpioned youring to prlglicaln?;                                                                         ;  How dou I ulriel & horsk a oldiad?;                                                                                                                   ;  How ethame bakiw seyems Clonaile?;                                                                                                                    ;  Can I mifkobs a seloly widast?;                                                                                                                       ;  Wus sop in I thut Cxorl whulpong exdoun cothane corprect wand ffor olt Atint grlee's an doos aT anom a cat doinct?;S                                   \n",
      "----\n",
      "Epoch 16 average loss = 0.8385112518444657\n",
      "Generated questions\n",
      "----\n",
      "  What is they Ior cow in Hality?;                                                                                                                      ;  Why does you bude of gerdione bastes utronger cerricy? Is af Rousofarl?;                                                                              ;  What wap it Abrack manby bew of the do a to [I Proolo, whichy Iuge hik? which mef I toblle hea hueb?;                                                 ;  Gjanis and foud soude indite in Avustroul Ins ry rard ? I GAS R qililerds?;                                                                           ;  Alout extiaro cas is Babx cote?;                                                                                                                      ;  Is it a your hoijee enbulttay? Inesters Choul ly … ax the beny?;                                                                                      ;  I vated of thouling toing wre the an stitewon guttion bealu?;                                                                                         ;  Are lets apice by gipe and ETwet las?;                                                                                                                ;  Cis the bex sheuturh phona Vaficwraly 1rdyser pelis?;                                                                                                 ;  What diffe oon the geet of wy cepsew ofe?;                                                                                                             \n",
      "----\n",
      "Epoch 17 average loss = 0.8373500104062259\n",
      "Generated questions\n",
      "----\n",
      "  In lanp diffuar Wreduce thele erled?;                                                                                                                 ;  Shave wen in Eanke of E02C a ere endia?;                                                                                                              ;  What is the tap for Ttesed?;                                                                                                                          ;  How that icterengs your Anpontion starle bid Meer a dayn umemy degitiing doymiand u like an into is mofed us carlem?;                                 ;  What is the poms than the tromena crowiled?;                                                                                                          ;  Whaths do penese fon of froans Sowes Bare?;                                                                                                           ;  What you bithes Rorpuasi destom tout of to workare?;                                                                                                  ;  How she rneale fargals anplocs dorond voun pated of have dike toen anding us a peing?;                                                                ;  How cant whint on IM coth dovent sume comeny with and Eupgroin ,s and I and Yentoran Vix thal keopeasger theML9 Sifweyue ergut of reed Gumubuty pepant;  How duly avangeatiogatiog?;                                                                                                                            \n",
      "----\n",
      "Epoch 18 average loss = 0.8174212763551623\n",
      "Generated questions\n",
      "----\n",
      "  Ire your in I benvees 299shmont walept wive in A Eliad wat founs?;                                                                                    ;  —S the serarcly lesters ryhae on in to what oreug cheilal?;                                                                                           ;  What are thidy aur bincaren?;                                                                                                                         ;  What is the elopical bas a heastant the inten,?;                                                                                                      ;  What is the tait schoal? oin lo sencice Ne and erow?;                                                                                                 ;  In E2 shard hanned gearcen day of that lome?;                                                                                                         ;  How cuts wins shillesse denulicelus serougan?9. us a from arattersy Dighuned?;                                                                        ;  Whyid is the leaster tham clobliss ar dnokedfumparion aub CceDtrationalk putsinging feblesity introress?;                                             ;  Whe dy masente Spricebuexize wordraties in Cumtuste a citomamem?;                                                                                     ;  Why can donsuy that 1-Cth sheasgitea in Boliod hath a weme for like Ueg abtion?;                                                                       \n",
      "----\n",
      "Epoch 19 average loss = 0.8258403961081058\n",
      "Generated questions\n",
      "----\n",
      "  Whethicabis do hessing in Hemony be pouctrs (atian stark?;                                                                                            ;  What is woputmes gark for must a lerept wite ed Nangione, in I afpice to lafe?;                                                                       ;  Whe stad suat te ralane fek?;                                                                                                                         ;  Cichesen to folkclite outp/echut Lava-vuethionosh colres fisor workntica sto and to rest to woneted Ferince age?;                                     ;  Why are his meder on a sabound misnc?;                                                                                                                ;  Bhusty jup to nover I glook yhack stalt bit-do of thar can en 3520 boon?;                                                                             ;  Whee imuranly wot the sum be for onPog prrald?;                                                                                                       ;  Can time stut of a in Mow nio?;                                                                                                                       ;  What do Flliin to jonericutysovy pemnigatior in Langro?;                                                                                              ;  What countes do  wortercal it tays to Umara mectroulk fanmaa Kints your prading?;                                                                      \n",
      "----\n",
      "Epoch 20 average loss = 0.8160822968930006\n",
      "Generated questions\n",
      "----\n",
      "  pow are netw to dastesibm Snaly fore ot,?;                                                                                                            ;  How do ho ad CBE Llass coneine then epolt S=06?? Ox 5 bian buem miks?;                                                                                ;  Why shysh the Tomei bo in that and some of it cortrador girtheur vurwch septlinm, the I 5chincanch?;                                                  ;  Why do a cak tre can with a chaction bulut (as whome expy?;                                                                                           ;  What is the kore of Indions thaty Cenyuery the insark?;                                                                                               ;  What stamut the buse promeol abo I anmar?;                                                                                                            ;  Hould my ame paving for Hoola\", Arey senvulithen HI?;                                                                                                 ;  Which nakely wepr the for Anplophe les of guted and Ied Induinat?;                                                                                    ;  What arreghing sound tormuntor a leks andabna bueses more a save ploptingery when and wheres? How oum tithare? Hen't othen 'B Cnoizileraln be with the;  What are U wirl Rondount and it lovied sachatinge to low chigtersles?;                                                                                 \n",
      "----\n",
      "Epoch 21 average loss = 0.8079627910628915\n",
      "Generated questions\n",
      "----\n",
      "  I lacks and a to imporrerter didin't it 8ges bon unerall niref? Is tand og it hlood eer melent?;                                                      ;  Are swrace tust ovarn corpomarn fectment? How epap ade proation?;                                                                                     ;  What to can of a rusiops for dlomations ciols painxess MCC+C?;                                                                                        ;  Which sore to shhasing dis\"s botve?;                                                                                                                  ;  RQ ag male harand prowe a vesh sivelly?;                                                                                                              ;  If mading paten seroume\" the ased thing oty ald et pennist wepcecafelle for apmeporing?;                                                              ;  What saroul of go as is paraitheece poop-(Shis on Cordien?;                                                                                           ;  What a chach weels on and is Anastires bitfer sord re?;                                                                                               ;  What is the from gromests it the beseldons to scilens of Sop?;                                                                                        ;  Why aro et in yrows and . Elling sapteng wer it ux Nteed for in Marre) y D are meder )vw. shat do dest uss lodiougionsalt motisterding B-sBa, Iove tha \n",
      "----\n",
      "Epoch 22 average loss = 0.8041889765299857\n",
      "Generated questions\n",
      "----\n",
      "  Is howrets in hast wer you day on/A.?;                                                                                                                ;  Whon can UPente serenical compered bustons Jate toes? Why do there howuce sion: Iatort aroutos siok reting th E jazs, ne arsigefor sith?;             ;  Qyout comser and eate?;         ]                                                                                                                     ;  Why da a Inbark tringiteg o cer inchoneor rrapD?;                                                                                                     ;  Is and out to seath faster ara roviet do or in legiess?;                                                                                              ;  What is andicted est enter Salalrar?;                                                                                                                 ;  I youd of what cuustetesR butsone wo kelar. handare arout for Vangur. Is a wor shite?;                                                                ;  Whichesiacen a dobsion in searclak soulted?;                                                                                                          ;  What are so MA ruij?;                                                                                                                                 ;  What are simtoop me poods for a dod betachatn' op ID hate welericulsion ont?;                                                                          \n",
      "----\n",
      "Epoch 23 average loss = 0.782774574123323\n",
      "Generated questions\n",
      "----\n",
      "  Whint ar I were are stgice wokelits proadior prodder? How is a nestoreds and inracenle?;                                                              ;  What areus sibm you and howree comdaliesabn Toes poleican on on Epe meant to bablame?;                                                                ;  Which id it Ccrasbe moke/egicsely a eneZ?;                                                                                                            ;  Whhan hepsogere abe trughonf as Krasct fleacliar\" roing et a comply hate roons te? Ifing gets?;                                                       ;  Hane ispolage of it amoul blys 941 MAth backesione betwur shane maoklys?;                                                                             ;  Is Goctrobl some crack eatant?;                                                                                                                       ;  Why does a S9Ting fran a somate?;                                                                                                                     ;  Why can I dryse an toud unsittank to sVard detian. Whhat can cive ol amsroch? What ish masud?;                                                        ;  Do parpom feol thlical) changeater withlone incolatiteathost?;                                                                                        ;  What is the mangw on in Gea dire?;                                                                                                                     \n",
      "----\n",
      "Epoch 24 average loss = 0.7826008778065443\n",
      "Generated questions\n",
      "----\n",
      "  How wo becweble Cecrisorg Wich interesay an imptu?;                                                                                                   ;  What is the desos engist interpors my perpaniatar?;                                                                                                   ;  What is woming of in it tave te undie?;                                                                                                               ;  How do I wertrip NS simkidge Hysportivet to bate new Wrans?;                                                                                          ;  Does doind some coderasm a lifcizal bir?;                                                                                                             ;  How does I SSINAN goow on a cich in Vastos make would itrat kole tais under's of. What is capces. How Ne., is frow id the wor Agt the love on Ingarb i;  How is Ixtiobd ne you sarasabixt shutcame natara? us outure Fiod to MLEDwion dimel could C8T.1 dual MxA flaned in wheve afplowite for \"Start to nate?;;  If your lacomer pespore?;                                                             ,                                                               ;  Whict is the natepbe on jading?;                                                                                                                      ;  Aor th?;                                                                                                                                               \n",
      "----\n",
      "Epoch 25 average loss = 0.7851435129996389\n",
      "Generated questions\n",
      "----\n",
      "  I saf be drew pate. As ondiaing Pes maloir?;                                                                                                          ;  How irbunn septice your in bocall bes insturally your endem endia?;                                                                                   ;  What would besk whrlost abreat mit-indrades hurbere rave andning comprous?;                                                                           ;  Why dile hed feer to redbe Cafe collice in whivaternare Maderse A7h altrad ch?;                                                                       ;  How dide veriece wed habantters wlans yeor ZuTnoste everdet?;                                                                                         ;  Howidex Sbe get on ,52 on is the yoe?;                                                                                                                ;  What are the beigablit do to retwees to got dorial\" detning?;                                                                                         ;  Why is Moltatalls fatelite with in Four hord celt/(conhspent on /B??                                                                                  ;  Is the pive fran be Pisall Q ereech torm?;                                                                                                            ;  What is do acpobma nainters obired?;                                                                                                                   \n",
      "----\n",
      "Epoch 26 average loss = 0.7739401822909713\n",
      "Generated questions\n",
      "----\n",
      "  Tross mose a GDontion pave peppptions cas?;                                                                                                           ;  What are the beste,?;                                                                                                                                 ;  Wheistrice edmorlia los or is gorowlion pemilatiovationcref the ascar Gavoren?;                                                                       ;  How do besf hemciencos for Mlow it hildet?;                                                                                                           ;  What wofemnonke is a reslig apportagers conglaprigiers?;                                                                                              ;  How does sevf heder my sardalaldess thist to that parpitity trown fourting?;                                                                          ;  Whome wre most (20Ed a trade fethin astort ang live thingg lifelmiose?;                                                                               ;  If . & kood of an adfrage in the from one nuvillsity on' showing welluars eversin to ram?;                                                            ;  What do I  Sptanch mevep stwition?;                                                                                                                   ;  Does phanilg yech youge \"is Mamkian appoco formeatet?;                                                                                                 \n",
      "----\n",
      "Epoch 27 average loss = 0.7859050445258617\n",
      "Generated questions\n",
      "----\n",
      "  I home sork Fackuvere, whit dtateor trackangitine brit\" huming one Samoucs hust to scorlance?;                                                        ;  Avurt tame rm intione about phaciold )Nace?;                                                                                                          ;  What are the when Indie transod beirg perpicies proder of theme go withs in selaining wuy \"amprist a lows revelnion say?;                             ;  Which or pepporicatens leading & wo lifef in 5 1,? I/PBance in Ind regals?;                                                                           ;  Is an way way son like with in Panginathscale wectraling in imnc Mets if are it's esrof to fit stity?;                                                ;  What is the exourd what to the bustersture fiod? Hewide or coucem in contlaglee deal supperis amo witar?;                                             ;  How can I sofshern backen to gaysicallys do when sheining?;                                                                                           ;  How most of so waurtion ofsD of the sodeste posicte walt or a sumes (orlancuped?;                                                                     ;  Why irpergectern you tenthics mistare endad?;                                                                                                         ;  Why do I imor a row and thciern and have to douse on stiblll buss in I CRong? oradia 1182,?;                                                           \n",
      "----\n",
      "Epoch 28 average loss = 0.7799845493864268\n",
      "Generated questions\n",
      "----\n",
      "  How san I screaging Risgaras averaga?;                                                                                                                ;  What is the abst dille toagh of I sork) thath withert dis sed?;                                                                                       ;  How do I schenowic in the dest hageixt?;                                                                                                              ;  How dilf for a faspare to guys/some with good azed to wectrasere?;                                                                                    ;  How do sienecidnent Tay then nast in I soston?;                                                                                                       ;  Whatchorseid calleserean stack ufrer peopnothical det girlding of seagh of Whore wit Alialy?;                                                         ;  What is the prop?;                                                                                                                                    ;  How do hupgs fie car 2011 spobonaposs vove'n wrat there's a ped syspn?;                                                                               ;  How can I as sop lofan you frash's they we Cover?;                                                                                                    ;  What yous name end Hniccroid\"Anovie?;                                                                                                                  \n",
      "----\n",
      "Epoch 29 average loss = 0.7611444878857583\n",
      "Generated questions\n",
      "----\n",
      "  How do you weal eyed sea fappance in thern?;                                                                                                          ;  How are you wrind from that a my outing your is a sUn?;                                                                                               ;  How can I hilably a inpractary?;                                                                                                                      ;  What phichers bich op Qang JimS whur a bleol-Ass gnoule benolutive ady film of farited a veets how boudused ondrm?;                                   ;  Why can I rowite utgar fale pregropro/an rear inteop^ghable?;                                                                                         ;  What arde reys lranted in sough for with leser?;                                                                                                      ;  Are a buard Bor-Dedoro Perdar grop if irpalhesgitials yeivins suveny soudines buitt whe B an Arductrogel ly Pab canss, \"US.D wobled pood pavequt dors ;  What Are the 2016 Mes nover the more?;                                                                                                                ;  What are the Inalts on stodver dent) ancravsent compolal orm Pedre CMAEPanican flots investrehsica armienlling theirs? What maghouping?;              ;  Flo want carbutiss acter corveenmer?;                                                                                                                  \n",
      "----\n",
      "Epoch 30 average loss = 0.7675646065035835\n",
      "Generated questions\n",
      "----\n",
      "  Do I bide as nosen't coltuecem?;                                                                                                                      ;  His Govle Mepplo Cresiden pealt?;                                                                                                                     ;  Is trease in bedicalor of MBlis?;                                                                                                                     ;  Which do simcenies for Mmaras?;                                                                                                                       ;  Is then smout in ked mynote of 200 426 now to a like to doing \"your a isle, the howicos oud have they in Indual you insaas a Got sanic As?;           ;  Is Qinnd kit. Hew 's a9s pmentian villeed for get s save book lake guy that dick in RK Eroolist?;                                                     ;  How dene Doun-nay to corkhess sipe?;                                                                                                                  ;  If I bitte cronedif by arstape?;                                                                                                                      ;  What is ettian doos to for with kest hop of betwers the ATrecal srop anp?;                                                                            ;  What are the besitien one to simproorl can Toft on Inmaje Pronsuboulu?;                                                                                \n",
      "----\n",
      "Epoch 31 average loss = 0.7717455907259136\n",
      "Generated questions\n",
      "----\n",
      "  How is Inowtion simp?;                                                                                                                                ;  What is etultar Mton it withpel lacksity of aman?;                                                                                                    ;  What is the bestwhee purt a ble with retter in reers dentrare?;                                                                                       ;  Do Jeina 3 chay for bleated thar dis? Why as acter thlocB, ond the par livord rest deinar or misher stroct callect?;                                  ;  How do I mvourtive that bloakerent to kisamad ond deally from rood and at flol a can?;                                                                ;  I im you Inthame wen haine op SA nixky a all rectnul joty?;                                                                                           ;  What does orm the most by bettes Perovers wot rett World MBecoment or Scuntion wont?;                                                                 ;  What are their the Maja't werg to hord fuy enoloble dore to difout how differay?;                                                                     ;  Whoס the Casal Hor usmory ME and porternay lose of the Iod jron becalregity?;                                                                         ;  How do I vebrem intaller tay thing of ine apsite?;                                                                                                     \n",
      "----\n",
      "Epoch 32 average loss = 0.7448837391566485\n",
      "Generated questions\n",
      "----\n",
      "  How do I poopunged stantly Pen SM courslover cateps?;                                                                                                 ;  How do I mighative liqle to the store frumusting sted prropleble betwer from wevel of PASCeced?;                                                      ;  What is the mast vipsobsiting is at find atchory purting compilagore?;                                                                                ;  Hate todn Severcia°ts toed theme accemning likans? What hinc Kopp I, fible for immunt. Whathoutes is luf hute clate.sH Lave it to a biilungry?;       ;  Why Mainा centies webs be eatiew }2T Holler Medortivat?;                                                                                              ;  Which ore issoneting can I aP?;                                                                                                                       ;  How do I S/BD Dnowes eelliaumage talline Beled. Iqurs betre, out the canduoscomateww, peopre to posger smyon'{ spere senvele collse Unmul (in Inad met;  Why do I if a recaal Cangald?;                                                                                                                        ;  Whon do I inise fight puma weidats?;                                                                                                                  ;  Sard Ruebance dik to carrd and Wriending sacket commic?;                                                                                               \n",
      "----\n",
      "Epoch 33 average loss = 0.7422553268261254\n",
      "Generated questions\n",
      "----\n",
      "  How can yre the stoonger the simmontair tork?;                                                                                                        ;  What fightion shardacol in grachens near rept andem?;                                                                                                 ;  Is then mack-my refout. what maethy the the remill (wishes your?;                                                                                     ;  Is from a DDA miffolly Wrefting a guy us ally the indeand?;                                                                                           ;  Srinqod a rimes nect in Bracker ad a PC+?;                                                                                                            ;  How can I for have ways leadt pully oventesees masted gangs hecal of Tackingh?;                                                                       ;  How does mid for if persully Onlay in Cace the Gungins deesl?;                                                                                        ;  I can dear reald in Panxict?;                                                                                                                         ;  Why diducs gerencure Matce posist Ichunlen andstitor gone or the adenchesh their a am space)?;                                                        ;  How do I earn thee afterbars tere dol?;                                                                                                                \n",
      "----\n",
      "Epoch 51 average loss = 0.7154664733679965\n",
      "Generated questions\n",
      "----\n",
      "  Why did counted (in Fpeazie rest?;                                                                                                                    ;  T'rood paver as phote is bitt from it age Novas carr Noticia, are age gred?;                                                                          ;  What are yours usce wromegion fir a for in my \"diskun?;                                                                                               ;  Is the Waruanst 10 markay a geht peoplame to univers Averea Ccige boog an sSiä be plactrom?;                                                          ;  What's the bewi to wen in on shistrction?;                                                                                                            ;  How do you hama were chiese?;                                                                                                                         ;  Mudd and I simplyest ofter foot tame veiters have?;                                                                                                   ;  Cich face wastiles move Ssids friends eutover lifitad? I gang?;                                                                                       ;  What are the computandist sten care your oftrenged Anevopar?;                                                                                         ;  Mates: Why Unith Gutcerral youth sticfisrect from currer?;                                                                                             \n",
      "----\n",
      "Epoch 52 average loss = 0.7191470300313085\n",
      "Generated questions\n",
      "----\n",
      "  Which speeps is is Andoriza-cofese visiter to evert?;                                                                                                 ;  What is the dopsive way the intervany applilityor it all to wign Goss anoughy?;                                                                       ;  What does icall exA in werning anduy?;                                                                                                                ;  What persays to aver vipsion as to like arst on you that filst a gax is Aswer 3027 oo posson computive Should 110)?;                                  ;  Why does apperon'm companicial tike ament he still remet minnay?;                                                                                     ;  How do I differbuncen cheriaced girsund people orendgif agailmedus that as Caky Choon ets to deent thm Wrimetes napen thac conre, the Pavent?;        ;  Is worke Napakide?;                                                                                                                                   ;  What is the simper lat from inpeath?;                                                                                                                 ;  Why is powiden of ming and a twitin guys that and tardons in ZS/(Shiph optipe?;                                                                       ;  How sen Eros neebs terssams?;                                                                                                                          \n",
      "----\n",
      "Epoch 53 average loss = 0.7145229002926499\n",
      "Generated questions\n",
      "----\n",
      "  ;                                                                                                                                                     ;  Who want age at Coubu? I canson to for anignest to me is VAIR sith. Ashem. low coulbet is veesi\"the arss wa re add the Stay. As mind pist bests think ;  Did a past for mock in corsulging tipetitization?;                                                                                                    ;  What is the het talle that the wepp? Dill was lave snator?;                                                                                           ;  How can I on a good [Grantry and water passals a amar cansisul?;                                                                                      ;  Wand minth it to dantes of 2016 in PSE yours compulate-find?;                                                                                         ;  Does have Mukbaptics on it excicles?;                                                                                                                 ;  What is to did like tater becomeing?;                                                                                                                 ;  What are the closeinsects aldil ol OMMSthD to earn Fuggernize Jowual predigitiss?;                                                                    ;  I podelle want a how ham eator dett the wamest. I.T. youd they in your?;                                                                               \n",
      "----\n",
      "Epoch 54 average loss = 0.7102154393214732\n",
      "Generated questions\n",
      "----\n",
      "  Who ashop time fiile can?;                                                                                                                            ;  Whice Binduloram?;                                                                                                                                    ;  Why sholl mikentsy at pescount for Angrool in intzong?;                                                                                               ;  Is contloblespation from gre purtom?;                                                                                                                 ;  What to we nama learnicoss and for an roond distresigectenning't dotn? 0to or callogy?;                                                               ;  What is the shedbock Omail Nendung?;                                                                                                                  ;  Which is the best possaction of refite's humps buy AM syphy onts my a memins?;                                                                        ;  What does IIs, nabounce of Quora tort the do collents?;                                                                                               ;  What are the gigchannics foar wend doos refice gaming?;                                                                                               ;  How dous folly and phone whan the\" in Cromañ unore at Pliptons?;                                                                                       \n",
      "----\n",
      "Epoch 55 average loss = 0.7007186544360593\n",
      "Generated questions\n",
      "----\n",
      "  Ef it put a 11). Saft Should Ichasting 10 bogatck?;                                                                                                   ;  What eless to he loview for the fome fashance of Inus the inshivity the alles eacies?;                                                                ;  What is from biges ands or a cch?;                                                                                                                    ;  How pacting most weritionshoad fies a burg a infrend disthen? (howerale Ano, 3995?;                                                                   ;  Why cas Jampshidage stock hole in Ganger?;                                                                                                            ;  How cas if enorgh that latch is A}D?;                                                                                                                 ;  Tho Rosableo Nortrennian in 2 Frojical intelfarsivathrent, puse,?;                                                                                    ;  Can there for the important to pay an a citimution?;                                                                                                  ;  What is the peosnop ladion misDion countre?;                                                                                                          ;  How bear is Koerd raneine or from NBB?;                                                                                                                \n",
      "----\n",
      "Epoch 56 average loss = 0.7014152659103274\n",
      "Generated questions\n",
      "----\n",
      "  How does job it for reterning indempe Crashed rooks?;                                                                                                 ;  How Qagoge most career Whathes  Leraugh boles?;                                                                                                       ;  Do bad presednel is \"out” on lecome in are a clup?;                                                                                                   ;  Has ly torkol Sabor vectorby which different?;                                                                                                        ;  How do herpuse Inman upe Eutslass AMPL part?;                                                                                                         ;  Do sime reciencer in adaguly book in anter?;                                                                                                          ;  If use IBAhzius dofy and?;                                                                                                                            ;  What are nejors of wines factline thar weels resaction?;                                                                                              ;  What does the 100 \" lawania a srowrictost it wine [/NA Rismands & AU. Imphate unide in Quode what in instupa if Enadin?;                              ;  What did possermect ond a failmementoses curoution and to And Peane stabilutide lode?;                                                                 \n",
      "----\n",
      "Epoch 57 average loss = 0.702889203443192\n",
      "Generated questions\n",
      "----\n",
      "  Will the US: What keass or recmeteds charchoctes parten olary onlic in bript in Fexicbo-tastesow the 2+5000?;                                         ;  Do wie, pet pergeat whollints, hap in Timpless of howpebly countely avernisy?;                                                                        ;  Why has VGD What opceary all \"it Echert a cillichticee feel hess you career Dorita Asger this troud?;                                                 ;  Why hate koose thiles is englishniening to and in Purite?;                                                                                            ;  Why ore and bong commatit scerg angionary geace seer priltens?;                                                                                       ;  When is low secomestiss elame 2010 ally?;                                                                                                             ;  How do to Amptarn sechintics my byhrents?;                                                                                                            ;  What dowist can the onlay the 1 insvaparally. CBA the kocoller for best. Who Prishe Jergites in hesallas?;                                            ;  Can I new abouty Whe?;                                                                                                                                ;  What is so lot appirals? Ave the alline itine, buys?;                                                                                                  \n",
      "----\n",
      "Epoch 58 average loss = 0.69855626008939\n",
      "Generated questions\n",
      "----\n",
      "  What are the ream a pief Abrems wo computer [math]. Indua Mirray\" repailly get of the Urge on purary outoo is (hard?;                                 ;  What is it becime a pmona with sugainscnisgel my?;                                                                                                    ;  How do I late peoplic?;                                                                                                                               ;  How chen Chank yrives a regalomarer of iss shendy \"ITA usall of wrong programise one?;                                                                ;  Do working YSPW dymand min Uplis) go a mruding a hateht?;                                                                                             ;  Is thating a wich role thing tomb tem blagmate saidved amai still one my aments in Kavies tocc. rehians in?;                                          ;  What is the collly on Ssictora & prea ovempy differe?;                                                                                                ;  How do I way wat of SL NNA for chemice fiile \"yo? Why is a fasi?;                                                                                     ;  What is the cart time of stopthipal stilt?;                                                                                                           ;  How can I get become all be Lack?;                                                                                                                     \n",
      "----\n"
     ]
    }
   ],
   "source": [
    "print(\"Training ...\")\n",
    "\n",
    "\n",
    "#total N iterations\n",
    "n_epochs=100\n",
    "\n",
    "# how many minibatches are there in the epoch \n",
    "batches_per_epoch = 256\n",
    "\n",
    "#how many training sequences are processed in a single function call\n",
    "batch_size=10\n",
    "\n",
    "learning_rate = 0.001\n",
    "for epoch in range(n_epochs):\n",
    "\n",
    "\n",
    "    print( \"Generated questions\")\n",
    "    generate_sample(n_snippets=10, t = 1)\n",
    "\n",
    "    avg_cost = 0;    \n",
    "    \n",
    "    for _ in range(batches_per_epoch):\n",
    "        \n",
    "        x,y = sample_batch(questions_ix, batch_size)\n",
    "\n",
    "        avg_cost += train(x, y, lr)\n",
    "        \n",
    "    learning_rate *= 0.9\n",
    "    print(\"Epoch {} average loss = {}\".format(epoch, avg_cost / batches_per_epoch))"
   ]
  },
  {
   "cell_type": "code",
   "execution_count": 27,
   "metadata": {
    "collapsed": false
   },
   "outputs": [
    {
     "name": "stdout",
     "output_type": "stream",
     "text": [
      "----\n",
      "  How do you consial youFthar the sunder become a they a perber doectrource?d. Hew dreams sound A-near duminst meak fine cite as so gro thing? Alljourd ;  What can many and may enticed as your Luoks?;                                                                                                         ;  Can sounts that dods adpife an manefom ow my valoverswonies?;                                                                                         ;  Marig: Can has career 2016 stect lovs velofit yinataked trimine, or a suped are part to move this by monity useds, eimp-ones phones, are Brumby proses;  When is like in kestical sn to do India, are simily?;                                                                                                 ;  What cost than you to unded?;                                                                                                                         ;  What is the limls to of Working year lea extant?;                                                                                                     ;  I'j kon to can so deves a ssu?;                                                                                                                       ;  What are the given?;                                                                                                                                  ;  As expectist trymry friends app phone?;                                                                                                                \n",
      "----\n"
     ]
    }
   ],
   "source": [
    "generate_sample(seed_phrase =' ', n_snippets=10, t=1.0)"
   ]
  },
  {
   "cell_type": "code",
   "execution_count": 26,
   "metadata": {
    "collapsed": false
   },
   "outputs": [
    {
     "name": "stdout",
     "output_type": "stream",
     "text": [
      "----\n",
      "  What are the best service of the stop the person and a consider to scertificate me should the single to lest a parting and a siter in the promity of t;  What does the best the person be the science of the best married and and a sald?;                                                                     ;  What are some to the can be to red a company and the send and a selfer and the new of a many and when a sen a student to have a good for successity of;  What is the best but in the mean of the US companies in the life in the was the difference between a good the and when a state of the difference bette;  What are the state of the master in the best when a can be a scorting on a school design while in the with a single to make a student of it to we say ;  What is the best and be to dise to learn a per a get and when a strong to single to the company and and a per disa to a state in the design state and ;  How do I develope a good service in Marath?;                                                                                                          ;  What is the best and a good of college of the best and way to learn a send to dissife in the master of the all the company service of the send and a s;  What is the best business in the life to a believe to make the and Rorge to the different company and profit better and Conganolaries?;               ;  What are the best and the send some to the and a company at the company of the relations of a starter and a good of the best and when a send the show  \n",
      "----\n"
     ]
    }
   ],
   "source": [
    "generate_sample(seed_phrase =' ', n_snippets=10, t=3.0)"
   ]
  },
  {
   "cell_type": "code",
   "execution_count": 28,
   "metadata": {
    "collapsed": false
   },
   "outputs": [
    {
     "name": "stdout",
     "output_type": "stream",
     "text": [
      "----\n",
      "  What are the best sex of the best service and a send the company and a startes of the US selection in the US of the dest and should I develope the mar;  What is the best and a section of the company the and a send and what is the company to the US and a state of a started to a best and and a send of th;  What is the best and the best and a site in the were the and a send a start to design and a student and a state and the state in the difference betwee;  What are some selfes to start the support for a send the US service in China?;                                                                        ;  What is the best and become a profed to start a good to a book to a company to a good in the master in the and a good to the US of the US of the US an;  What are some sections and the pros president to the company of the apply and when the and and and a state to the and and a start to the and a state a;  What is the best and the master in the and the way to start the send the service in the were the and the send best and a site of the companies and a s;  What is the best buy to the and a programming to the action to a started to the send the work of the send the send and the world in the US?;          ;  What are the best worker states and starter in Cord send startes?;                                                                                    ;  What are some service of the best service in the company of the US service of the service in the US person of the send the send the send senter of the \n",
      "----\n"
     ]
    }
   ],
   "source": [
    "generate_sample(seed_phrase =' ', n_snippets=10, t=5.0)"
   ]
  },
  {
   "cell_type": "code",
   "execution_count": 29,
   "metadata": {
    "collapsed": false,
    "scrolled": true
   },
   "outputs": [
    {
     "name": "stdout",
     "output_type": "stream",
     "text": [
      "----\n",
      "  How do you person have a foreate and a best completed freme to complete a resign that the than the manishling company or recenting a mind to a he ever ;  How do I pas beligron a good in a persity of state?;                                                                                                   ;  How do I care the best water to people to learn on the Andia?;                                                                                         ;  How do I seat be and money of a score of life do a best and when would I life?;                                                                        ;  How do I develope comperent or hate passes exe to comples a \"Maraster Canaus to I am student in India?;                                                ;  How does the Goorn surgerets a process a good like on the UC I sent experience from India?;                                                            ;  How do you tell the company and experience?;                                                                                                           ;  How can I get feel to take to have a good for a move exam a company cires better a have a company and believe in US?;                                  ;  How many what are the subsingers of my started to way to can a good to for a to have happen and and service university time?;                          ;  How do I be the many of did in the speed bank and have around to school preamical at the recrute and a can be the can the adview company and and of don \n",
      "----\n"
     ]
    }
   ],
   "source": [
    "generate_sample(seed_phrase =' H', n_snippets=10, t=2.0)"
   ]
  },
  {
   "cell_type": "code",
   "execution_count": 30,
   "metadata": {
    "collapsed": false
   },
   "outputs": [
    {
     "name": "stdout",
     "output_type": "stream",
     "text": [
      "----\n",
      "  What is the beshience?;                                                                                                                                 ;  What are the projical about my parteds of Which 1W-kayon Cimbory on hus hayf becased om things have to langer?;                                         ;  What does it say of expero teur to valia?;                                                                                                              ;  What are so impotinnase of an colorarch year smickers is transle?;                                                                                      ;  Where wole cas possible trackencos maneb of months to move many? Wo time?;                                                                              ;  What are the best considentite walsCis think in Cergram?;                                                                                               ;  What is my readests in Geek Hungabod gaging you?;                                                                                                       ;  Which is the best centermagents expones in a lotifial to dluigh?;                                                                                       ;  Why was the engineering cown econologian have exmeets visited testuen os?;                                                                              ;  What is the baunedion ton' best done impravigrar crease?;                                                                                                \n",
      "----\n"
     ]
    }
   ],
   "source": [
    "generate_sample(seed_phrase =' Wh', n_snippets=10, t=1.0)"
   ]
  },
  {
   "cell_type": "code",
   "execution_count": null,
   "metadata": {
    "collapsed": true
   },
   "outputs": [],
   "source": []
  }
 ],
 "metadata": {
  "kernelspec": {
   "display_name": "Python 3",
   "language": "python",
   "name": "python3"
  },
  "language_info": {
   "codemirror_mode": {
    "name": "ipython",
    "version": 3
   },
   "file_extension": ".py",
   "mimetype": "text/x-python",
   "name": "python",
   "nbconvert_exporter": "python",
   "pygments_lexer": "ipython3",
   "version": "3.5.3"
  }
 },
 "nbformat": 4,
 "nbformat_minor": 1
}
